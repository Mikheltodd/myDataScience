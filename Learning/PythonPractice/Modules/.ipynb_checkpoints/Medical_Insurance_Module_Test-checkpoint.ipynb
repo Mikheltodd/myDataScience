{
 "cells": [
  {
   "cell_type": "code",
   "execution_count": 1,
   "metadata": {},
   "outputs": [
    {
     "name": "stdout",
     "output_type": "stream",
     "text": [
      "John Doe\n",
      "John Doe’s estimated insurance costs is 1836.0 dollars.\n",
      "John Doe is now 29 years old.\n",
      "John Doe’s estimated insurance costs is 2836.0 dollars.\n",
      "John Doe has 2 children.\n",
      "John Doe’s estimated insurance costs is 3686.0 dollars.\n",
      "\n",
      "    Patient Data\n",
      "    -------------\n",
      "    Name: John Doe\n",
      "    Age: 29\n",
      "    Sex: 1\n",
      "    BMI: 22.2\n",
      "    Number of Children: 2\n",
      "    Smoker: 0\n",
      "    \n"
     ]
    }
   ],
   "source": [
    "from patient import *\n",
    "patient1 = Patient(\"John Doe\", 25, 1, 22.2, 0, 0)\n",
    "print(patient1.name)\n",
    "patient1.estimated_insurance_cost()\n",
    "patient1.update_age(29)\n",
    "patient1.update_num_children(2)\n",
    "print(patient1)"
   ]
  },
  {
   "cell_type": "code",
   "execution_count": null,
   "metadata": {},
   "outputs": [],
   "source": []
  }
 ],
 "metadata": {
  "kernelspec": {
   "display_name": "Python 3",
   "language": "python",
   "name": "python3"
  },
  "language_info": {
   "codemirror_mode": {
    "name": "ipython",
    "version": 3
   },
   "file_extension": ".py",
   "mimetype": "text/x-python",
   "name": "python",
   "nbconvert_exporter": "python",
   "pygments_lexer": "ipython3",
   "version": "3.8.5"
  }
 },
 "nbformat": 4,
 "nbformat_minor": 4
}
