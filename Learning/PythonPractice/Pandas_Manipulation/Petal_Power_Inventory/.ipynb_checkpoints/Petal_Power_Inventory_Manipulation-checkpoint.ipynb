{
 "cells": [
  {
   "cell_type": "markdown",
   "metadata": {},
   "source": [
    "## Petal Power Inventory\n",
    "You’re the lead data analyst for a chain of gardening stores called Petal Power. Help them analyze their inventory!"
   ]
  },
  {
   "cell_type": "code",
   "execution_count": 13,
   "metadata": {},
   "outputs": [],
   "source": [
    "import numpy as np\n",
    "import pandas as pd"
   ]
  },
  {
   "cell_type": "markdown",
   "metadata": {},
   "source": [
    "## Load Data\n",
    "Let's create a DataFrame with the info in the `inventory.csv`"
   ]
  },
  {
   "cell_type": "code",
   "execution_count": 14,
   "metadata": {},
   "outputs": [],
   "source": [
    "inventory = pd.read_csv('inventory.csv')"
   ]
  },
  {
   "cell_type": "markdown",
   "metadata": {},
   "source": [
    "# Inspect Data\n",
    "Let's check info and data in our DataFrame"
   ]
  },
  {
   "cell_type": "code",
   "execution_count": 15,
   "metadata": {},
   "outputs": [
    {
     "name": "stdout",
     "output_type": "stream",
     "text": [
      "<class 'pandas.core.frame.DataFrame'>\n",
      "RangeIndex: 29 entries, 0 to 28\n",
      "Data columns (total 5 columns):\n",
      " #   Column               Non-Null Count  Dtype  \n",
      "---  ------               --------------  -----  \n",
      " 0   location             29 non-null     object \n",
      " 1   product_type         29 non-null     object \n",
      " 2   product_description  29 non-null     object \n",
      " 3   quantity             29 non-null     int64  \n",
      " 4   price                29 non-null     float64\n",
      "dtypes: float64(1), int64(1), object(3)\n",
      "memory usage: 1.3+ KB\n",
      "None\n",
      "        location  product_type         product_description  quantity  price\n",
      "0  Staten Island         seeds                       daisy         4   6.99\n",
      "1  Staten Island         seeds                  calla lily        46  19.99\n",
      "2  Staten Island         seeds                      tomato        85  13.99\n",
      "3  Staten Island  garden tools                        rake         4  13.99\n",
      "4  Staten Island  garden tools                 wheelbarrow         0  89.99\n",
      "5  Staten Island  garden tools                       spade        93  19.99\n",
      "6  Staten Island  pest_control               insect killer        74  12.99\n",
      "7  Staten Island  pest_control                 weed killer         8  23.99\n",
      "8  Staten Island       planter  20 inch terracotta planter         0  17.99\n",
      "9  Staten Island       planter      8 inch plastic planter        53   3.99\n"
     ]
    }
   ],
   "source": [
    "print(inventory.info())\n",
    "print(inventory.head(10))"
   ]
  },
  {
   "cell_type": "markdown",
   "metadata": {},
   "source": [
    "## Product Request\n",
    "A customer asks for products sold at your Staten Island location.\n",
    "The first 10 rows represent data from Staten Island location."
   ]
  },
  {
   "cell_type": "code",
   "execution_count": 16,
   "metadata": {},
   "outputs": [],
   "source": [
    "staten_island = inventory[:10]\n",
    "product_request = staten_island[['product_description']]"
   ]
  },
  {
   "cell_type": "markdown",
   "metadata": {},
   "source": [
    "## Seed Request\n",
    "A customer asks for seeds sold in Brooklyn."
   ]
  },
  {
   "cell_type": "code",
   "execution_count": 17,
   "metadata": {},
   "outputs": [],
   "source": [
    "seed_request = inventory[(inventory.product_type == 'seeds') & (inventory.location == 'Brooklyn')]"
   ]
  },
  {
   "cell_type": "markdown",
   "metadata": {},
   "source": [
    "## In Stock"
   ]
  },
  {
   "cell_type": "code",
   "execution_count": 18,
   "metadata": {},
   "outputs": [],
   "source": [
    "inventory['in_stock'] = inventory.quantity.apply(lambda x: True if x > 0 else False)"
   ]
  },
  {
   "cell_type": "markdown",
   "metadata": {},
   "source": [
    "## Total Value of Stock"
   ]
  },
  {
   "cell_type": "code",
   "execution_count": 19,
   "metadata": {},
   "outputs": [],
   "source": [
    "inventory['total_value'] = inventory.apply(lambda row: row['price']*row['quantity'], axis=1)"
   ]
  },
  {
   "cell_type": "markdown",
   "metadata": {},
   "source": [
    "## Full Description"
   ]
  },
  {
   "cell_type": "code",
   "execution_count": 20,
   "metadata": {},
   "outputs": [],
   "source": [
    "combine_lambda = lambda row: \\\n",
    "    '{} - {}'.format(row.product_type,\n",
    "                     row.product_description)\n",
    "inventory['full_description'] = inventory.apply(combine_lambda, axis=1)"
   ]
  },
  {
   "cell_type": "code",
   "execution_count": 21,
   "metadata": {},
   "outputs": [
    {
     "name": "stdout",
     "output_type": "stream",
     "text": [
      "<class 'pandas.core.frame.DataFrame'>\n",
      "RangeIndex: 10 entries, 0 to 9\n",
      "Data columns (total 5 columns):\n",
      " #   Column               Non-Null Count  Dtype  \n",
      "---  ------               --------------  -----  \n",
      " 0   location             10 non-null     object \n",
      " 1   product_type         10 non-null     object \n",
      " 2   product_description  10 non-null     object \n",
      " 3   quantity             10 non-null     int64  \n",
      " 4   price                10 non-null     float64\n",
      "dtypes: float64(1), int64(1), object(3)\n",
      "memory usage: 528.0+ bytes\n",
      "None\n",
      "        location  product_type\n",
      "0  Staten Island         seeds\n",
      "1  Staten Island         seeds\n",
      "2  Staten Island         seeds\n",
      "3  Staten Island  garden tools\n",
      "4  Staten Island  garden tools\n",
      "5  Staten Island  garden tools\n",
      "6  Staten Island  pest_control\n",
      "7  Staten Island  pest_control\n",
      "8  Staten Island       planter\n",
      "9  Staten Island       planter\n",
      "          product_description\n",
      "0                       daisy\n",
      "1                  calla lily\n",
      "2                      tomato\n",
      "3                        rake\n",
      "4                 wheelbarrow\n",
      "5                       spade\n",
      "6               insect killer\n",
      "7                 weed killer\n",
      "8  20 inch terracotta planter\n",
      "9      8 inch plastic planter\n",
      "10         daisy\n",
      "11    calla lily\n",
      "12        tomato\n",
      "Name: product_description, dtype: object\n",
      "           product_description  quantity  in_stock\n",
      "0                        daisy         4      True\n",
      "1                   calla lily        46      True\n",
      "2                       tomato        85      True\n",
      "3                         rake         4      True\n",
      "4                  wheelbarrow         0     False\n",
      "5                        spade        93      True\n",
      "6                insect killer        74      True\n",
      "7                  weed killer         8      True\n",
      "8   20 inch terracotta planter         0     False\n",
      "9       8 inch plastic planter        53      True\n",
      "10                       daisy        50      True\n",
      "11                  calla lily         0     False\n",
      "12                      tomato         0     False\n",
      "13                        rake        15      True\n",
      "14                 wheelbarrow        82      True\n",
      "15                       spade        36      True\n",
      "16               insect killer        80      True\n",
      "17                 weed killer        76      True\n",
      "18  20 inch terracotta planter         5      True\n",
      "19      8 inch plastic planter        26      True\n",
      "20                       daisy        57      True\n",
      "21                  calla lily        95      True\n",
      "22                      tomato        45      True\n",
      "23                        rake        21      True\n",
      "24                 wheelbarrow        98      True\n",
      "25                       spade        26      True\n",
      "26               insect killer         0     False\n",
      "27                 weed killer        16      True\n",
      "28  20 inch terracotta planter        87      True\n",
      "           product_description  total_value\n",
      "0                        daisy        27.96\n",
      "1                   calla lily       919.54\n",
      "2                       tomato      1189.15\n",
      "3                         rake        55.96\n",
      "4                  wheelbarrow         0.00\n",
      "5                        spade      1859.07\n",
      "6                insect killer       961.26\n",
      "7                  weed killer       191.92\n",
      "8   20 inch terracotta planter         0.00\n",
      "9       8 inch plastic planter       211.47\n",
      "10                       daisy       349.50\n",
      "11                  calla lily         0.00\n",
      "12                      tomato         0.00\n",
      "13                        rake       209.85\n",
      "14                 wheelbarrow      7379.18\n",
      "15                       spade       719.64\n",
      "16               insect killer      1039.20\n",
      "17                 weed killer      1823.24\n",
      "18  20 inch terracotta planter        89.95\n",
      "19      8 inch plastic planter       103.74\n",
      "20                       daisy       398.43\n",
      "21                  calla lily      1899.05\n",
      "22                      tomato       629.55\n",
      "23                        rake       293.79\n",
      "24                 wheelbarrow      8819.02\n",
      "25                       spade       519.74\n",
      "26               insect killer         0.00\n",
      "27                 weed killer       383.84\n",
      "28  20 inch terracotta planter      1565.13\n",
      "0                            seeds - daisy\n",
      "1                       seeds - calla lily\n",
      "2                           seeds - tomato\n",
      "3                      garden tools - rake\n",
      "4               garden tools - wheelbarrow\n",
      "5                     garden tools - spade\n",
      "6             pest_control - insect killer\n",
      "7               pest_control - weed killer\n",
      "8     planter - 20 inch terracotta planter\n",
      "9         planter - 8 inch plastic planter\n",
      "10                           seeds - daisy\n",
      "11                      seeds - calla lily\n",
      "12                          seeds - tomato\n",
      "13                     garden tools - rake\n",
      "14              garden tools - wheelbarrow\n",
      "15                    garden tools - spade\n",
      "16            pest_control - insect killer\n",
      "17              pest_control - weed killer\n",
      "18    planter - 20 inch terracotta planter\n",
      "19        planter - 8 inch plastic planter\n",
      "20                           seeds - daisy\n",
      "21                      seeds - calla lily\n",
      "22                          seeds - tomato\n",
      "23                     garden tools - rake\n",
      "24              garden tools - wheelbarrow\n",
      "25                    garden tools - spade\n",
      "26            pest_control - insect killer\n",
      "27              pest_control - weed killer\n",
      "28    planter - 20 inch terracotta planter\n",
      "Name: full_description, dtype: object\n"
     ]
    }
   ],
   "source": [
    "print(staten_island.info())\n",
    "print(staten_island[['location', 'product_type']])\n",
    "print(product_request)\n",
    "print(seed_request['product_description'])\n",
    "print(inventory[['product_description', 'quantity', 'in_stock']])\n",
    "print(inventory[['product_description', 'total_value']])\n",
    "print(inventory['full_description'])"
   ]
  },
  {
   "cell_type": "code",
   "execution_count": null,
   "metadata": {},
   "outputs": [],
   "source": []
  }
 ],
 "metadata": {
  "kernelspec": {
   "display_name": "Python 3",
   "language": "python",
   "name": "python3"
  },
  "language_info": {
   "codemirror_mode": {
    "name": "ipython",
    "version": 3
   },
   "file_extension": ".py",
   "mimetype": "text/x-python",
   "name": "python",
   "nbconvert_exporter": "python",
   "pygments_lexer": "ipython3",
   "version": "3.8.5"
  }
 },
 "nbformat": 4,
 "nbformat_minor": 4
}
