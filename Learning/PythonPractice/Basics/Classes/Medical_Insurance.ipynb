{
 "cells": [
  {
   "cell_type": "markdown",
   "metadata": {},
   "source": [
    "# Creating a Patient Class\n",
    "***\n",
    "This class contains basic info about a patient (name, age, sex, bmi, num_of_children, smoker).\n",
    "Then, methods for estimating insurance cost, update age and number of children.\n",
    "A string representation is created for printing patient information."
   ]
  },
  {
   "cell_type": "code",
   "execution_count": 1,
   "metadata": {},
   "outputs": [],
   "source": [
    "class Patient:\n",
    "  def __init__(self, name, age, sex, bmi, num_of_children, smoker):\n",
    "    self.name = name\n",
    "    self.age = age\n",
    "    # add more parameters here\n",
    "    self.sex = sex\n",
    "    self.bmi = bmi\n",
    "    self.num_of_children = num_of_children\n",
    "    self.smoker = smoker\n",
    "  # Methods\n",
    "  # Estimate Insurance Cost\n",
    "  def estimated_insurance_cost(self):\n",
    "    estimated_cost = 250 * self.age - 128 * self.sex + 370 * self.bmi + 425 * self.num_of_children + 24000 * self.smoker - 12500\n",
    "    print(f\"{self.name}’s estimated insurance costs is {estimated_cost} dollars.\")\n",
    "\n",
    "  # Update Age\n",
    "  def update_age(self, new_age):\n",
    "    self.age = new_age\n",
    "    print(f\"{self.name} is now {self.age} years old.\")\n",
    "    self.estimated_insurance_cost()\n",
    "\n",
    "  # Update Number of Children\n",
    "  def update_num_children(self, new_num_children):\n",
    "    self.num_of_children = new_num_children\n",
    "    if self.num_of_children == 1:\n",
    "      print(f\"{self.name} has {self.num_of_children} child.\")\n",
    "    else: \n",
    "      print(f\"{self.name} has {self.num_of_children} children.\")\n",
    "    self.estimated_insurance_cost()\n",
    "\n",
    "  # Patient Info\n",
    "  def patient_profile(self):\n",
    "    patient_information = {\"Name\": self.name, \"Age\": self.age, \"Sex\": self.sex, \"BMI\": self.bmi, \"Number of Children\": self.num_of_children, \"Smoker\": self.smoker}\n",
    "    return patient_information\n",
    "\n",
    "  # String Representation\n",
    "  def __repr__(self):\n",
    "    patient_info = self.patient_profile()\n",
    "    profile = f\"\"\"\n",
    "    Patient Data\n",
    "    -------------\n",
    "    Name: {patient_info['Name']}\n",
    "    Age: {patient_info['Age']}\n",
    "    Sex: {patient_info['Sex']}\n",
    "    BMI: {patient_info['BMI']}\n",
    "    Number of Children: {patient_info['Number of Children']}\n",
    "    Smoker: {patient_info['Smoker']}\n",
    "    \"\"\"\n",
    "    return profile\n"
   ]
  },
  {
   "cell_type": "markdown",
   "metadata": {},
   "source": [
    "# Test Patient"
   ]
  },
  {
   "cell_type": "code",
   "execution_count": 2,
   "metadata": {},
   "outputs": [
    {
     "name": "stdout",
     "output_type": "stream",
     "text": [
      "John Doe\n",
      "John Doe’s estimated insurance costs is 1836.0 dollars.\n",
      "John Doe is now 29 years old.\n",
      "John Doe’s estimated insurance costs is 2836.0 dollars.\n",
      "John Doe has 2 children.\n",
      "John Doe’s estimated insurance costs is 3686.0 dollars.\n",
      "\n",
      "    Patient Data\n",
      "    -------------\n",
      "    Name: John Doe\n",
      "    Age: 29\n",
      "    Sex: 1\n",
      "    BMI: 22.2\n",
      "    Number of Children: 2\n",
      "    Smoker: 0\n",
      "    \n"
     ]
    }
   ],
   "source": [
    "patient1 = Patient(\"John Doe\", 25, 1, 22.2, 0, 0)\n",
    "print(patient1.name)\n",
    "patient1.estimated_insurance_cost()\n",
    "patient1.update_age(29)\n",
    "patient1.update_num_children(2)\n",
    "print(patient1)"
   ]
  }
 ],
 "metadata": {
  "kernelspec": {
   "display_name": "Python 3",
   "language": "python",
   "name": "python3"
  },
  "language_info": {
   "codemirror_mode": {
    "name": "ipython",
    "version": 3
   },
   "file_extension": ".py",
   "mimetype": "text/x-python",
   "name": "python",
   "nbconvert_exporter": "python",
   "pygments_lexer": "ipython3",
   "version": "3.8.5"
  }
 },
 "nbformat": 4,
 "nbformat_minor": 4
}
