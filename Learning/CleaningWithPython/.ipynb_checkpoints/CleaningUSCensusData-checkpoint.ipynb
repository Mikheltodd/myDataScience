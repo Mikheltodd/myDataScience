{
 "cells": [
  {
   "cell_type": "code",
   "execution_count": 2,
   "metadata": {},
   "outputs": [
    {
     "data": {
      "image/png": "[encoded data removed]",
      "text/plain": [
       "<Figure size 432x288 with 1 Axes>"
      ]
     },
     "metadata": {
      "needs_background": "light"
     },
     "output_type": "display_data"
    },
    {
     "name": "stdout",
     "output_type": "stream",
     "text": [
      "   Unnamed: 0       State  TotalPop   Hispanic      White      Black  \\\n",
      "0           0     Alabama   4830620   3.751616  61.878656  31.252976   \n",
      "1           1      Alaska    733375   5.909581  60.910180   2.848503   \n",
      "2           2     Arizona   6641928  29.565921  57.120000   3.850987   \n",
      "3           3    Arkansas   2958208   6.215474  71.137810  18.968759   \n",
      "4           4  California  38421464  37.291875  40.215789   5.677396   \n",
      "\n",
      "      Native      Asian   Pacific        Income            GenderPop  \\\n",
      "0   0.453231   1.050255  0.034354  43296.358603    2341093M_2489527F   \n",
      "1  16.391018   5.450299  1.058683  70354.743902      384160M_349215F   \n",
      "2   4.355066   2.876579  0.167632  54207.820955    3299088M_3342840F   \n",
      "3   0.522920   1.142336  0.146861  41935.633968    1451913M_1506295F   \n",
      "4   0.405292  13.052234  0.351410  67264.782303  19087135M_19334329F   \n",
      "\n",
      "        Men       Women  tot_by_race  \n",
      "0   2341093   2489527.0    98.421088  \n",
      "1    384160    349215.0    92.568263  \n",
      "2   3299088   3342840.0    97.936184  \n",
      "3   1451913   1506295.0    98.134161  \n",
      "4  19087135  19334329.0    96.993997  \n",
      "<class 'pandas.core.frame.DataFrame'>\n",
      "Int64Index: 60 entries, 0 to 5\n",
      "Data columns (total 14 columns):\n",
      " #   Column       Non-Null Count  Dtype  \n",
      "---  ------       --------------  -----  \n",
      " 0   Unnamed: 0   60 non-null     int64  \n",
      " 1   State        60 non-null     object \n",
      " 2   TotalPop     60 non-null     int64  \n",
      " 3   Hispanic     60 non-null     float64\n",
      " 4   White        60 non-null     float64\n",
      " 5   Black        60 non-null     float64\n",
      " 6   Native       60 non-null     float64\n",
      " 7   Asian        60 non-null     float64\n",
      " 8   Pacific      60 non-null     float64\n",
      " 9   Income       60 non-null     float64\n",
      " 10  GenderPop    60 non-null     object \n",
      " 11  Men          60 non-null     int64  \n",
      " 12  Women        60 non-null     float64\n",
      " 13  tot_by_race  60 non-null     float64\n",
      "dtypes: float64(9), int64(3), object(2)\n",
      "memory usage: 7.0+ KB\n",
      "None\n"
     ]
    },
    {
     "data": {
      "image/png": "[encoded data removed]",
      "text/plain": [
       "<Figure size 432x288 with 5 Axes>"
      ]
     },
     "metadata": {
      "needs_background": "light"
     },
     "output_type": "display_data"
    }
   ],
   "source": [
    "import pandas as pd\n",
    "import numpy as np\n",
    "import matplotlib.pyplot as plt\n",
    "import glob\n",
    "\n",
    "# Loading Data\n",
    "\n",
    "files = glob.glob(\"censusData/states*.csv\")\n",
    "df_list = []\n",
    "for filename in files:\n",
    "  data = pd.read_csv(filename)\n",
    "  df_list.append(data)\n",
    "\n",
    "us_census = pd.concat(df_list)\n",
    "\n",
    "# Changing Data Type\n",
    "\n",
    "us_census.Income = us_census['Income'].replace('[\\$]', '', regex=True)\n",
    "us_census.Income = pd.to_numeric(us_census.Income)\n",
    "\n",
    "# Splitting by character\n",
    "\n",
    "men_women_split = us_census.GenderPop.str.split('_')\n",
    "us_census['Men'] = men_women_split.str.get(0)\n",
    "us_census['Women'] = men_women_split.str.get(1)\n",
    "\n",
    "us_census.Men = us_census['Men'].replace('[M]', '', regex=True)\n",
    "us_census.Men = pd.to_numeric(us_census.Men)\n",
    "us_census.Women = us_census['Women'].replace('[F]', '', regex=True)\n",
    "us_census.Women = pd.to_numeric(us_census.Women)\n",
    "\n",
    "us_census = us_census.fillna(value={'Women':us_census.TotalPop - us_census.Men})\n",
    "\n",
    "duplicates = us_census.duplicated()\n",
    "# print(duplicates.value_counts())\n",
    "us_census = us_census.drop_duplicates()\n",
    "\n",
    "plt.scatter(us_census.Women, us_census.Income)\n",
    "plt.show()\n",
    "\n",
    "\n",
    "# Preparing Histogram\n",
    "\n",
    "us_census.Hispanic = us_census['Hispanic'].replace('[\\%]', '', regex=True)\n",
    "us_census.Hispanic = pd.to_numeric(us_census.Hispanic)\n",
    "\n",
    "us_census.White = us_census['White'].replace('[\\%]', '', regex=True)\n",
    "us_census.White = pd.to_numeric(us_census.White)\n",
    "\n",
    "us_census.Black = us_census['Black'].replace('[\\%]', '', regex=True)\n",
    "us_census.Black = pd.to_numeric(us_census.Black)\n",
    "\n",
    "us_census.Native = us_census['Native'].replace('[\\%]', '', regex=True)\n",
    "us_census.Native = pd.to_numeric(us_census.Native)\n",
    "\n",
    "us_census.Asian = us_census['Asian'].replace('[\\%]', '', regex=True)\n",
    "us_census.Asian = pd.to_numeric(us_census.Asian)\n",
    "\n",
    "us_census.Pacific = us_census['Pacific'].replace('[\\%]', '', regex=True)\n",
    "us_census.Pacific = pd.to_numeric(us_census.Pacific)\n",
    "\n",
    "us_census = us_census.fillna(value={'Pacific':(100 - us_census.Hispanic - us_census.White - us_census.Black - us_census.Native - us_census.Asian)})\n",
    "\n",
    "us_census['tot_by_race'] = us_census['Hispanic'] + us_census['White'] + us_census['Black'] + us_census['Native'] + us_census['Asian'] + us_census['Pacific']\n",
    "# print(us_census.tot_by_race)\n",
    "# print(us_census.Pacific)\n",
    "\n",
    "# print(us_census.columns)\n",
    "# print(us_census.dtypes)\n",
    "print(us_census.head())\n",
    "print(us_census.info())\n",
    "n_bins = 5\n",
    "plt.figure(1)\n",
    "plt.subplot(3,2,1)\n",
    "plt.hist(us_census.White, n_bins)\n",
    "plt.title('White')\n",
    "plt.subplot(3,2,2)\n",
    "plt.hist(us_census.Black, n_bins)\n",
    "plt.title('Black')\n",
    "plt.subplot(3,2,3)\n",
    "plt.hist(us_census.Native, n_bins)\n",
    "plt.title('Native')\n",
    "plt.subplot(3,2,4)\n",
    "plt.hist(us_census.Asian, n_bins)\n",
    "plt.title('Asian')\n",
    "plt.subplot(3,2,5)\n",
    "plt.hist(us_census.Pacific, n_bins)\n",
    "plt.title('Pacific')\n",
    "plt.show()"
   ]
  }
 ],
 "metadata": {
  "kernelspec": {
   "display_name": "Python 3",
   "language": "python",
   "name": "python3"
  },
  "language_info": {
   "codemirror_mode": {
    "name": "ipython",
    "version": 3
   },
   "file_extension": ".py",
   "mimetype": "text/x-python",
   "name": "python",
   "nbconvert_exporter": "python",
   "pygments_lexer": "ipython3",
   "version": "3.8.5"
  }
 },
 "nbformat": 4,
 "nbformat_minor": 4
}
