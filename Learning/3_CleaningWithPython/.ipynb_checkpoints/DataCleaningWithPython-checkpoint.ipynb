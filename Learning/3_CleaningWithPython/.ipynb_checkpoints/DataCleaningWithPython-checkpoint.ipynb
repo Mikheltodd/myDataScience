{
 "cells": [
  {
   "cell_type": "markdown",
   "metadata": {},
   "source": [
    "# Cleaning Data With Python\n",
    "\n",
    "## Introduction\n",
    "\n",
    "The technology that fuels this verification system on nearly every website and application is the ever reliable, often quirky language of regular expressions, commonly shortened to regex, as we will use here, or regexp.\n",
    "\n",
    "A **regular expression** is a special sequence of characters that describe a pattern of text that should be found, or matched, in a string or document. By matching text, we can identify how often and where certain pieces of text occur, as well as have the opportunity to replace or update these pieces of text if needed.\n",
    "\n",
    "Regular Expressions have a variety of use cases including:\n",
    "* validating user input in HTML forms\n",
    "* verifying and parsing text in files, code and applications\n",
    "* examining test results\n",
    "* finding keywords in emails and web pages"
   ]
  },
  {
   "cell_type": "markdown",
   "metadata": {},
   "source": [
    "## Literals\n",
    "The simplest text we can match with regular expressions are _**literals**_. This is where our regular expression contains the exact text that we want to match. The regex `a`, for example, will match the text `a`, and the regex `bananas` will match the text `bananas`.\n",
    "\n",
    "We can additionally match just part of a piece of text. Perhaps we are searching a document to see if the word monkey occurs, since we love monkeys. We could use the regex monkey to match monkey in the piece of text The monkeys like to eat bananas..\n",
    "\n",
    "Not only are we able to match alphabetical characters — digits work as well! The regex 3 will match the 3 in the piece of text 34, and the regex 5 gibbons will completely match the text 5 gibbons!\n",
    "\n",
    "Regular expressions operate by moving character by character, from left to right, through a piece of text. When the regular expression finds a character that matches the first piece of the expression, it looks to find a continuous sequence of matching characters."
   ]
  },
  {
   "cell_type": "markdown",
   "metadata": {},
   "source": [
    "## Alternation\n",
    "Do you love baboons and gorillas? You can find either of them with the same regular expression using alternation! Alternation, performed in regular expressions with the pipe symbol, `|`, allows us to match either the characters preceding the `|` OR the characters after the `|`. The regex `baboons|gorillas` will match baboons in the text `I love baboons`, but will also match gorillas in the text `I love gorillas`."
   ]
  },
  {
   "cell_type": "markdown",
   "metadata": {},
   "source": [
    "## Character Sets\n",
    "\n",
    "Character sets, denoted by a pair of brackets `[]`, let us match one character from a series of characters, allowing for matches with incorrect or different spellings.\n",
    "\n",
    "The regex `con[sc]en[sc]us` will match `consensus`, the correct spelling of the word, but also match the following three incorrect spellings: `concensus`, `consencus`, and `concencus`. The letters inside the first brackets, `s` and `c`, are the different possibilities for the character that comes after con and before en. Similarly for the second brackets, s and c are the different character possibilities to come after `en` and before `us`.\n",
    "\n",
    "Thus the regex `[cat]` will match the characters c, a, or t, but not the text cat.\n",
    "\n",
    "The beauty of character sets (and alternation) is that they allow our regular expressions to become more flexible and less rigid than by just matching with literals!\n",
    "\n",
    "We can make our character sets even more powerful with the help of the caret `^` symbol. Placed at the front of a character set, the `^` negates the set, matching any character that is not stated. These are called negated character sets. Thus the regex `[^cat]` will match any character that is not c, a, or t, and would completely match each character d, o or g.\n",
    "\n",
    "Do we have a consensus that regular expressions are pretty cool?"
   ]
  },
  {
   "cell_type": "markdown",
   "metadata": {},
   "source": [
    "## Wild for Wildcards\n",
    "\n",
    "Wildcards `(.)` will match any single character (letter, number, symbol or whitespace) in a piece of text. They are useful when we do not care about the specific value of a character, but only that a character exists!\n",
    "\n",
    "Let’s say we want to match any 9-character piece of text. The regex `.........` will completely match orangutan and marsupial! Similarly, the regex `I ate . bananas` will completely match both `I ate 3 bananas` and `I ate 8 bananas`.\n",
    "\n",
    "If we want to match an actual period, `.`,  We can use the escape character, `\\`, to escape the wildcard functionality of the `.` and match an actual period. The regex Howler monkeys are really lazy\\. will completely match the text Howler monkeys are really lazy.."
   ]
  },
  {
   "cell_type": "markdown",
   "metadata": {},
   "source": [
    "## Ranges\n",
    "\n",
    "Ranges allow us to specify a range of characters in which we can make a match without having to type out each individual character. The regex `[abc]`, which would match any character `a`, `b`, or `c`, is equivalent to regex range `[a-c]`. The `-` character allows us to specify that we are interested in matching a range of characters.\n",
    "\n",
    "The regex `I adopted [2-9] [b-h]ats` will match the text `I adopted 4 bats` as well as `I adopted 8 cats` and even `I adopted 5 hats`.\n",
    "\n",
    "With ranges we can match any single capital letter with the regex `[A-Z]`, lowercase letter with the regex `[a-z]`, any digit with the regex `[0-9]`. We can even have multiple ranges in the same character set! To match any single capital or lowercase alphabetical character, we can use the regex `[A-Za-z]`.\n",
    "\n",
    "Remember, within any character set `[]` we only match one character."
   ]
  },
  {
   "cell_type": "markdown",
   "metadata": {},
   "source": [
    "## Shorthand Character Classes\n",
    "\n",
    "While character ranges are extremely useful, they can be cumbersome to write out every single time you want to match common ranges such as those that designate alphabetical characters or digits. To alleviate this pain, there are shorthand character classes that represent common ranges, and they make writing regular expressions much simpler. These shorthand classes include:\n",
    "\n",
    "* `\\w`: the “word character” class represents the regex range `[A-Za-z0-9_]`, and it matches a single uppercase character, lowercase character, digit or underscore\n",
    "* `\\d`: the “digit character” class represents the regex range `[0-9]`, and it matches a single digit character\n",
    "* `\\s`: the “whitespace character” class represents the regex range `[ \\t\\r\\n\\f\\v]`, matching a single space, tab, carriage return, line break, form feed, or vertical tab\n",
    "\n",
    "For example, the regex `\\d\\s\\w\\w\\w\\w\\w\\w\\w` matches a digit character, followed by a whitespace character, followed by 7 word characters. Thus the regex completely matches the text `3 monkeys`.\n",
    "\n",
    "In addition to the shorthand character classes `\\w`, `\\d`, and `\\s`, we also have access to the negated shorthand character classes! These shorthands will match any character that is NOT in the regular shorthand classes. These negated shorthand classes include:\n",
    "\n",
    "* `\\W`: the “non-word character” class represents the regex range `[^A-Za-z0-9_]`, matching any character that is not included in the range represented by \\w\n",
    "* `\\D`: the “non-digit character” class represents the regex range `[^0-9]`, matching any character that is not included in the range represented by \\d\n",
    "* `\\S`: the “non-whitespace character” class represents the regex range `[^ \\t\\r\\n\\f\\v]`, matching any character that is not included in the range represented by \\s"
   ]
  },
  {
   "cell_type": "markdown",
   "metadata": {},
   "source": [
    "## Grouping\n",
    "\n",
    "If we want to match the whole piece of text `I love baboons` and `I love gorillas` with the regex `I love baboons|gorillas`it will match the string `I love baboons` and `gorillas`. This is because the | symbol matches the entire expression before or after itself.\n",
    "\n",
    "Grouping, denoted with the open parenthesis `(` and the closing parenthesis `)`, lets us group parts of a regular expression together, and allows us to limit alternation to part of the regex.\n",
    "\n",
    "The regex `I love (baboons|gorillas)` will match the text `I love` and then match either `baboons` or `gorillas`, as the grouping limits the reach of the | to the text within the parentheses.\n",
    "\n",
    "These groups are also called capture groups, as they have the power to select, or capture, a substring from our matched text."
   ]
  },
  {
   "cell_type": "markdown",
   "metadata": {},
   "source": [
    "## Quantifiers - Fixed\n",
    "\n",
    "Instead of writing the regex `\\w\\w\\w\\w\\w\\w\\s\\w\\w\\w\\w\\w\\w`, which would match 6 word characters, followed by a whitespace character, and then followed by more 6 word characters, there is a better way to denote the quantity of characters we want to match.\n",
    "\n",
    "Fixed quantifiers, denoted with curly braces `{}`, let us indicate the exact quantity of a character we wish to match, or allow us to provide a quantity range to match on.\n",
    "\n",
    "* `\\w{3}` will match exactly 3 word characters\n",
    "* `\\w{4,7}` will match at minimum 4 word characters and at maximum 7 word characters\n",
    "\n",
    "The regex `roa{3}r` will match the characters `ro` followed by 3 `a`s, and then the character `r`, such as in the text roaaar. The regex `roa{3,7}r` will match the characters `ro` followed by at least 3 `a`s and at most 7 `a`s, followed by an r, matching the strings roaaar, roaaaaar and roaaaaaaar.\n",
    "\n",
    "An important note is that quantifiers are considered to be greedy. This means that they will match the greatest quantity of characters they possibly can. For example, the regex mo{2,4} will match the text moooo in the string moooo, and not return a match of moo, or mooo. This is because the fixed quantifier wants to match the largest number of os as possible, which is 4 in the string moooo."
   ]
  },
  {
   "cell_type": "markdown",
   "metadata": {},
   "source": [
    "## Quantifiers - Optional\n",
    "\n",
    "`humor` vs `humour`.\n",
    "\n",
    "Optional quantifiers, indicated by the question mark `?`, allow us to indicate a character in a regex is optional, or can appear either `0` times or `1` time. For example, the regex `humou?r` matches the characters `humo`, then either `0` occurrences or `1` occurrence of the letter `u`, and finally the letter `r`. Note the `?` only applies to the character directly before it.\n",
    "\n",
    "With all quantifiers, we can take advantage of grouping to make even more advanced regexes. The regex `The monkey ate a (rotten )?banana` will completely match both `The monkey ate a rotten banana` and `The monkey ate a banana`.\n",
    "\n",
    "Since the `?` is a metacharacter, you need to use the escape character in your regex in order to match a question mark ? in a piece of text. The regex `Aren't owl monkeys beautiful\\?` will thus completely match the text `Aren't owl monkeys beautiful?`."
   ]
  },
  {
   "cell_type": "markdown",
   "metadata": {},
   "source": [
    "## Quantifiers - 0 or More, 1 or More\n",
    "\n",
    "**The Kleene star**, denoted with the asterisk `*`, is also a quantifier, and matches the preceding character 0 or more times. This means that the character doesn’t need to appear, can appear once, or can appear many many times.\n",
    "The regex `meo*w` will match the characters `me`, followed by 0 or more os, followed by a w. Thus the regex will match `mew`, `meow`, `meooow`, and `meoooooooooooow`.\n",
    "\n",
    "The **Kleene plus**, denoted by the plus `+`, which matches the preceding character 1 or more times.The regex `meo+w` will match the characters `me`, followed by 1 or more os, followed by a w. Thus the regex will match `meow`, `meooow`, and `meoooooooooooow`, but not match `mew`.\n",
    "\n",
    "Like all the other metacharacters, in order to match the symbols `*` and `+`, you need to use the escape character in your regex. The regex `My cat is a \\*` will completely match the text `My cat is a *`."
   ]
  },
  {
   "cell_type": "markdown",
   "metadata": {},
   "source": [
    "## Anchors\n",
    "\n",
    "The anchors hat `^` and dollar sign `$` are used to match text at the start and the end of a string, respectively.\n",
    "\n",
    "The regex `^Monkeys: my mortal enemy$` will completely match the text `Monkeys: my mortal enemy` but not match `Spider Monkeys: my mortal enemy in the wild` or `Squirrel Monkeys: my mortal enemy in the wild`. The `^` ensures that the matched text begins with Monkeys, and the `$` ensures the matched text ends with enemy.\n",
    "\n",
    "Without the anchor tags, the regex `Monkeys: my mortal enemy` will match the text `Monkeys: my mortal enemy` in both `Spider Monkeys: my mortal enemy in the wild` and `Squirrel Monkeys: my mortal enemy in the wild`.\n",
    "\n",
    "Once again, as with all other metacharacters, in order to match the symbols `^` and `$`, you need to use the escape character in your regex. The regex `My spider monkey has \\$10\\^6` in the bank will completely match the text `My spider monkey has $10^6 in the bank`."
   ]
  },
  {
   "cell_type": "markdown",
   "metadata": {},
   "source": [
    "## Procedure\n",
    "\n",
    "When we receive raw data, we have to do a number of things before we’re ready to analyze it, possibly including:\n",
    "\n",
    "* diagnosing the “tidiness” of the data — how much data cleaning we will have to do\n",
    "* reshaping the data — getting right rows and columns for effective analysis\n",
    "* combining multiple files\n",
    "* changing the types of values — how we fix a column where numerical values are stored as strings, for example\n",
    "* dropping or filling missing values - how we deal with data that is incomplete or missing\n",
    "* manipulating strings to represent the data better\n"
   ]
  },
  {
   "cell_type": "markdown",
   "metadata": {},
   "source": [
    "## Diagnose the Data\n",
    "\n",
    "We often describe data that is easy to analyze and visualize as “tidy data”. What does it mean to have tidy data?\n",
    "For data to be tidy, it must have:\n",
    "\n",
    "* Each variable as a separate column\n",
    "* Each row as a separate observation"
   ]
  },
  {
   "cell_type": "markdown",
   "metadata": {},
   "source": [
    "The first step of diagnosing whether or not a dataset is tidy is using pandas functions to explore and probe the dataset.\n",
    "\n",
    "You’ve seen most of the functions we often use to diagnose a dataset for cleaning. Some of the most useful ones are:\n",
    "\n",
    "* `.head()` — display the first 5 rows of the table\n",
    "* `.info()` — display a summary of the table\n",
    "* `.describe()` — display the summary statistics of the table\n",
    "* `.columns` — display the column names of the table\n",
    "* `.value_counts()` — display the distinct values for a column"
   ]
  },
  {
   "cell_type": "markdown",
   "metadata": {},
   "source": [
    "## Dealing with Multiple Tables\n",
    "\n",
    "Let’s say that we have a ton of files following the filename structure: `'file1.csv'`, `'file2.csv'`, `'file3.csv'`, and so on. The power of pandas is mainly in being able to manipulate large amounts of structured data, so we want to be able to get all of the relevant information into one table so that we can analyze the aggregate data.\n",
    "\n",
    "We can combine the use of `glob`, a Python library for working with files, with pandas to organize this data better. `glob` can open multiple files by using regex matching to get the filenames:\n",
    "\n",
    "`import glob`\n",
    " \n",
    "`files = glob.glob(\"file*.csv\")`\n",
    " \n",
    "`df_list = []`\n",
    "\n",
    "`for filename in files:`\n",
    "\n",
    "\\t   `data = pd.read_csv(filename)`\n",
    "\n",
    "\\t   `df_list.append(data)`\n",
    " \n",
    "`df = pd.concat(df_list)`\n",
    " \n",
    "`print(files)`"
   ]
  },
  {
   "cell_type": "code",
   "execution_count": 1,
   "metadata": {},
   "outputs": [
    {
     "name": "stdout",
     "output_type": "stream",
     "text": [
      "    id         full_name gender_age fractions probability       grade\n",
      "0    0    Barrett Feragh        M14       76%         72%   9th grade\n",
      "1    1   Llewellyn Keech        M14       83%         NaN  12th grade\n",
      "2    2   Llewellyn Keech        M14       83%         NaN  12th grade\n",
      "3    3      Terrell Geri        M15       80%         86%  11th grade\n",
      "4    4    Gram Hallewell        M14       67%         78%  10th grade\n",
      "..  ..               ...        ...       ...         ...         ...\n",
      "95  95          Maxi Dew        F16       77%         71%  10th grade\n",
      "96  96       Jewell Boas        F15       57%         90%  12th grade\n",
      "97  97      Lebbie Twine        F17       72%         91%  12th grade\n",
      "98  98     Garek Culbert        M14       64%         NaN  11th grade\n",
      "99  99  Cristine Warboys        F16       74%         74%  12th grade\n",
      "\n",
      "[1000 rows x 6 columns]\n",
      "1000\n"
     ]
    }
   ],
   "source": [
    "import pandas as pd\n",
    "import glob\n",
    "\n",
    "student_files = glob.glob(\"exams/exams*.csv\")\n",
    "df_list = []\n",
    "for filename in student_files:\n",
    "  data = pd.read_csv(filename)\n",
    "  df_list.append(data)\n",
    "students = pd.concat(df_list)\n",
    "print(students)\n",
    "print(len(students))"
   ]
  },
  {
   "cell_type": "markdown",
   "metadata": {},
   "source": [
    "## Reshaping your Data\n",
    "\n",
    "We want:\n",
    "\n",
    "* Each variable as a separate column\n",
    "* Each row as a separate observation\n",
    "\n",
    "We can use `pd.melt()` to do this transformation. `.melt()` takes in a DataFrame, and the columns to unpack:\n",
    "\n",
    "`pd.melt(frame=df, id_vars=\"name\", value_vars=[\"Checking\",\"Savings\"], value_name=\"Amount\", var_name=\"Account Type\")`\n",
    "\n",
    "The parameters you provide are:\n",
    "\n",
    "* `frame`: the DataFrame you want to melt\n",
    "* `id_vars`: the column(s) of the old DataFrame to preserve\n",
    "* `value_vars`: the column(s) of the old DataFrame that you want to turn into variables\n",
    "* `value_name`: what to call the column of the new DataFrame that stores the values\n",
    "* `var_name`: what to call the column of the new DataFrame that stores the variables\n",
    "\n",
    "The default names may work in certain situations, but it’s best to always have data that is self-explanatory. Thus, we often use `.columns()` to rename the columns after melting:\n",
    "\n",
    "`df.columns([\"Account\", \"Account Type\", \"Amount\"])`"
   ]
  },
  {
   "cell_type": "code",
   "execution_count": 2,
   "metadata": {},
   "outputs": [
    {
     "name": "stdout",
     "output_type": "stream",
     "text": [
      "           full_name gender_age fractions probability       grade\n",
      "0     Moses Kirckman        M14       69%         89%  11th grade\n",
      "1    Timofei Strowan        M18       63%         76%  11th grade\n",
      "2       Silvain Poll        M18       69%         77%   9th grade\n",
      "3     Lezley Pinxton        M18       NaN         72%  11th grade\n",
      "4  Bernadene Saunper        F17       72%         84%  11th grade\n",
      "Index(['full_name', 'gender_age', 'fractions', 'probability', 'grade'], dtype='object')\n",
      "           full_name gender_age       grade       exam score\n",
      "0     Moses Kirckman        M14  11th grade  fractions   69%\n",
      "1    Timofei Strowan        M18  11th grade  fractions   63%\n",
      "2       Silvain Poll        M18   9th grade  fractions   69%\n",
      "3     Lezley Pinxton        M18  11th grade  fractions   NaN\n",
      "4  Bernadene Saunper        F17  11th grade  fractions   72%\n",
      "Index(['full_name', 'gender_age', 'grade', 'exam', 'score'], dtype='object')\n",
      "fractions      1000\n",
      "probability    1000\n",
      "Name: exam, dtype: int64\n"
     ]
    }
   ],
   "source": [
    "import pandas as pd\n",
    "from students import students\n",
    "\n",
    "print(students.head())\n",
    "print(students.columns)\n",
    "\n",
    "students = pd.melt(frame=students, id_vars=[\"full_name\", \"gender_age\", \"grade\"], value_vars=[\"fractions\", \"probability\"], value_name=\"score\", var_name=\"exam\")\n",
    "\n",
    "print(students.head())\n",
    "print(students.columns)\n",
    "print(students.exam.value_counts())\n"
   ]
  },
  {
   "cell_type": "markdown",
   "metadata": {},
   "source": [
    "## Dealing with Duplicates\n",
    "\n",
    "Often we see duplicated rows of data in the DataFrames we are working with. This could happen due to errors in data collection or in saving and loading the data.\n",
    "\n",
    "To check for duplicates, we can use the pandas function `.duplicated()`, which will return a Series telling us which rows are duplicate rows.\n",
    "\n",
    "We can use the pandas `.drop_duplicates()` function to remove all rows that are duplicates of another row.\n",
    "\n",
    "If we wanted to remove every row with a duplicate value in the item column, we could specify a subset:\n",
    "\n",
    "`fruits = fruits.drop_duplicates(subset=['item'])`\n",
    "\n",
    "By default, this keeps the first occurrence of the duplicate:"
   ]
  },
  {
   "cell_type": "code",
   "execution_count": 3,
   "metadata": {},
   "outputs": [
    {
     "name": "stdout",
     "output_type": "stream",
     "text": [
      "              full_name gender_age       grade         exam score\n",
      "0        Moses Kirckman        M14  11th grade    fractions   69%\n",
      "1       Timofei Strowan        M18  11th grade    fractions   63%\n",
      "2          Silvain Poll        M18   9th grade    fractions   69%\n",
      "3        Lezley Pinxton        M18  11th grade    fractions   NaN\n",
      "4     Bernadene Saunper        F17  11th grade    fractions   72%\n",
      "...                 ...        ...         ...          ...   ...\n",
      "1995     Wilie Stillert        F14   9th grade  probability   69%\n",
      "1996     Gertie Flicker        F15  11th grade  probability   86%\n",
      "1997       Yettie Labes        F14  12th grade  probability   82%\n",
      "1998     Lock McGuinley        M18  10th grade  probability   84%\n",
      "1999       Bebe Lebbern        F15  12th grade  probability   91%\n",
      "\n",
      "[2000 rows x 5 columns]\n",
      "False    1976\n",
      "True       24\n",
      "dtype: int64\n",
      "False    1976\n",
      "dtype: int64\n"
     ]
    }
   ],
   "source": [
    "print(students)\n",
    "duplicates = students.duplicated()\n",
    "print(duplicates.value_counts())\n",
    "students = students.drop_duplicates()\n",
    "duplicates = students.duplicated()\n",
    "print(duplicates.value_counts())"
   ]
  },
  {
   "cell_type": "markdown",
   "metadata": {},
   "source": [
    "## Splitting by Index\n",
    "\n",
    "We can easily break the data into separate columns by splitting the strings using .str"
   ]
  },
  {
   "cell_type": "code",
   "execution_count": 4,
   "metadata": {},
   "outputs": [
    {
     "name": "stdout",
     "output_type": "stream",
     "text": [
      "           full_name gender_age       grade       exam score\n",
      "0     Moses Kirckman        M14  11th grade  fractions   69%\n",
      "1    Timofei Strowan        M18  11th grade  fractions   63%\n",
      "2       Silvain Poll        M18   9th grade  fractions   69%\n",
      "3     Lezley Pinxton        M18  11th grade  fractions   NaN\n",
      "4  Bernadene Saunper        F17  11th grade  fractions   72%\n",
      "           full_name gender age       grade       exam score\n",
      "0     Moses Kirckman      M  14  11th grade  fractions   69%\n",
      "1    Timofei Strowan      M  18  11th grade  fractions   63%\n",
      "2       Silvain Poll      M  18   9th grade  fractions   69%\n",
      "3     Lezley Pinxton      M  18  11th grade  fractions   NaN\n",
      "4  Bernadene Saunper      F  17  11th grade  fractions   72%\n"
     ]
    }
   ],
   "source": [
    "print(students.head())\n",
    "students['gender'] = students.gender_age.str[0]\n",
    "students['age'] = students.gender_age.str[1:]\n",
    "students = students[['full_name', 'gender', 'age', 'grade', 'exam', 'score']]\n",
    "print(students.head())"
   ]
  },
  {
   "cell_type": "markdown",
   "metadata": {},
   "source": [
    "## Splitting by Character\n",
    "\n",
    "Use: `str.split('x')`\n",
    "\n",
    "Apply: `str.get(n)`\n"
   ]
  },
  {
   "cell_type": "code",
   "execution_count": 5,
   "metadata": {},
   "outputs": [
    {
     "name": "stdout",
     "output_type": "stream",
     "text": [
      "  last_name first_name gender age       grade       exam score\n",
      "0  Kirckman      Moses      M  14  11th grade  fractions   69%\n",
      "1   Strowan    Timofei      M  18  11th grade  fractions   63%\n",
      "2      Poll    Silvain      M  18   9th grade  fractions   69%\n",
      "3   Pinxton     Lezley      M  18  11th grade  fractions   NaN\n",
      "4   Saunper  Bernadene      F  17  11th grade  fractions   72%\n"
     ]
    }
   ],
   "source": [
    "name_split = students['full_name'].str.split(' ')\n",
    "students['first_name'] = name_split.str.get(0)\n",
    "students['last_name'] = name_split.str.get(1)\n",
    "students = students[['last_name', 'first_name', 'gender', 'age', 'grade', 'exam', 'score']]\n",
    "print(students.head())"
   ]
  },
  {
   "cell_type": "markdown",
   "metadata": {},
   "source": [
    "## Looking at Types\n",
    "\n",
    "To see the types of each column of a DataFrame, we can use:\n",
    "\n",
    "`print(df.dtypes)`"
   ]
  },
  {
   "cell_type": "code",
   "execution_count": 6,
   "metadata": {},
   "outputs": [
    {
     "name": "stdout",
     "output_type": "stream",
     "text": [
      "last_name     object\n",
      "first_name    object\n",
      "gender        object\n",
      "age           object\n",
      "grade         object\n",
      "exam          object\n",
      "score         object\n",
      "dtype: object\n"
     ]
    }
   ],
   "source": [
    "print(students.dtypes)\n",
    "# print(students.score.mean()) this will produce an error because the score type is a String"
   ]
  },
  {
   "cell_type": "markdown",
   "metadata": {},
   "source": [
    "## String Parsing\n",
    "\n",
    "`fruit.price = fruit['price'].replace('[\\$,]', '', regex=True)`\n",
    "\n",
    "`fruit.price = pd.to_numeric(fruit.price)`"
   ]
  },
  {
   "cell_type": "code",
   "execution_count": 7,
   "metadata": {},
   "outputs": [
    {
     "name": "stdout",
     "output_type": "stream",
     "text": [
      "77.69657422512235\n"
     ]
    }
   ],
   "source": [
    "students.score = students['score'].replace('[\\%,]', '', regex=True)\n",
    "students.score = pd.to_numeric(students.score)\n",
    "print(students.score.mean())"
   ]
  },
  {
   "cell_type": "markdown",
   "metadata": {},
   "source": [
    "## More String Parsing\n",
    "\n",
    "To extract the numbers from the string we can use pandas’ .str.split() function:\n",
    "\n",
    "`split_df = df['exerciseDescription'].str.split('(\\d+)', expand=True)`\n",
    "\n",
    "we can assign columns from this DataFrame to the original df:\n",
    "\n",
    "`df.reps = pd.to_numeric(split_df[1])`\n",
    "\n",
    "`df.exercise = split_df[2].replace('[\\- ]', '', regex=True)`"
   ]
  },
  {
   "cell_type": "code",
   "execution_count": 8,
   "metadata": {},
   "outputs": [
    {
     "name": "stdout",
     "output_type": "stream",
     "text": [
      "last_name      object\n",
      "first_name     object\n",
      "gender         object\n",
      "age            object\n",
      "grade          object\n",
      "exam           object\n",
      "score         float64\n",
      "dtype: object\n",
      "last_name      object\n",
      "first_name     object\n",
      "gender         object\n",
      "age            object\n",
      "grade           int64\n",
      "exam           object\n",
      "score         float64\n",
      "dtype: object\n",
      "10.620445344129555\n"
     ]
    }
   ],
   "source": [
    "print(students.dtypes)\n",
    "students.grade = students.grade.str.split('(\\d+)', expand=True)[1]\n",
    "students.grade = pd.to_numeric(students.grade)\n",
    "avg_grade = students.grade.mean()\n",
    "print(students.dtypes)\n",
    "print(avg_grade)"
   ]
  },
  {
   "cell_type": "markdown",
   "metadata": {},
   "source": [
    "## Missing Values\n",
    "\n",
    "### Method 1: drop all of the rows with a missing value\n",
    "\n",
    "We can use `.dropna()` to do this:\n",
    "\n",
    "`bill_df = bill_df.dropna()`\n",
    "\n",
    "This command will result in the DataFrame without the incomplete rows. If we wanted to remove every row with a NaN value in the num_guests column only, we could specify a subset:\n",
    "\n",
    "`bill_df = bill_df.dropna(subset=['num_guests'])`\n",
    "\n",
    "### Method 2: fill the missing values with the mean of the column, or with some other aggregate value.\n",
    "\n",
    "We can use `.fillna()` to do this:\n",
    "\n",
    "`bill_df = bill_df.fillna(value={\"bill\":bill_df.bill.mean(), \"num_guests\":bill_df.num_guests.mean()})`\n"
   ]
  },
  {
   "cell_type": "code",
   "execution_count": 9,
   "metadata": {},
   "outputs": [
    {
     "name": "stdout",
     "output_type": "stream",
     "text": [
      "77.69657422512235\n",
      "72.30971659919028\n"
     ]
    }
   ],
   "source": [
    "score_mean = students.score.mean()\n",
    "print(score_mean)\n",
    "students = students.fillna(value={'score':0})\n",
    "score_mean_2 = students.score.mean()\n",
    "print(score_mean_2)"
   ]
  },
  {
   "cell_type": "code",
   "execution_count": null,
   "metadata": {},
   "outputs": [],
   "source": []
  }
 ],
 "metadata": {
  "kernelspec": {
   "display_name": "Python 3",
   "language": "python",
   "name": "python3"
  },
  "language_info": {
   "codemirror_mode": {
    "name": "ipython",
    "version": 3
   },
   "file_extension": ".py",
   "mimetype": "text/x-python",
   "name": "python",
   "nbconvert_exporter": "python",
   "pygments_lexer": "ipython3",
   "version": "3.8.5"
  }
 },
 "nbformat": 4,
 "nbformat_minor": 4
}
