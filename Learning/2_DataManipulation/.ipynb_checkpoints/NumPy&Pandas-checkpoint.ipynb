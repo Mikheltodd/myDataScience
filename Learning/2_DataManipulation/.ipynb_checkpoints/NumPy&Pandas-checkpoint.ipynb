{
 "cells": [
  {
   "cell_type": "markdown",
   "metadata": {},
   "source": [
    "## NumPy\n",
    "NumPy is an open-source Python library that facilitates efficient numerical operations on large quantities of data. The main data structure in this library is the powerful NumPy array, ndarray, which can have any number of dimensions. The NumPy library contains many useful features for performing mathematical and logical operations on these special arrays. NumPy is a part of a set of Python libraries that are used for scientific computing due to its efficient data analysis capabilities.\n",
    "\n",
    "## Pandas\n",
    "Pandas is a library with data manipulation tools that are built on top of and add to those of the established NumPy library. It relies on the NumPy array structure for implementation of its objects and therefore shares many features with NumPy and is frequently used alongside it. Pandas is also a part of the set of libraries used for scientific computation."
   ]
  },
  {
   "cell_type": "markdown",
   "metadata": {},
   "source": [
    "## Installation\n",
    "If you have Anaconda installed, NumPy and pandas may have been auto-installed as well! If they haven’t been, or if you want to update to the latest versions, you can open a terminal window and run the following commands:\n",
    "\n",
    "`conda install numpy`\n",
    "\n",
    "`conda install pandas`\n",
    "\n",
    "If you don’t have Anaconda installed, you can alternatively install the libraries using pip by running the following commands from your terminal:\n",
    "\n",
    "`pip install numpy`\n",
    "\n",
    "`pip install pandas`\n",
    "\n",
    "Once you’ve installed these libraries, you’re ready to open any Python coding environment (we recommend Jupyter Notebook). Before you can use these libraries, you’ll need to import them using the following lines of code. We’ll use the abbreviations np and pd, respectively, to simplify our function calls in the future.\n",
    "\n",
    "`import numpy as np`\n",
    "\n",
    "`import pandas as pd`"
   ]
  },
  {
   "cell_type": "code",
   "execution_count": 1,
   "metadata": {},
   "outputs": [],
   "source": [
    "import numpy as np\n",
    "import pandas as pd"
   ]
  },
  {
   "cell_type": "markdown",
   "metadata": {},
   "source": [
    "## NumPy Arrays\n",
    "NumPy arrays are unique in that they are more flexible than normal Python lists. They are called ndarrays since they can have any number (n) of dimensions (d). They hold a collection of items of any one data type and can be either a vector (one-dimensional) or a matrix (multi-dimensional). NumPy arrays allow for fast element access and efficient data manipulation."
   ]
  },
  {
   "cell_type": "code",
   "execution_count": 2,
   "metadata": {},
   "outputs": [
    {
     "name": "stdout",
     "output_type": "stream",
     "text": [
      "[1 2 3 4]\n",
      "[[1 2 3]\n",
      " [4 5 6]]\n"
     ]
    }
   ],
   "source": [
    "list1 = [1,2,3,4]\n",
    "array1 = np.array(list1)\n",
    "print(array1)\n",
    "list2 = [[1,2,3],[4,5,6]]\n",
    "array2 = np.array(list2)\n",
    "print(array2)"
   ]
  },
  {
   "cell_type": "markdown",
   "metadata": {},
   "source": [
    "Many operations can be performed on NumPy arrays which makes them very helpful for manipulating data:\n",
    "\n",
    "* Selecting array elements\n",
    "* Slicing arrays\n",
    "* Reshaping arrays\n",
    "* Splitting arrays\n",
    "* Combining arrays\n",
    "* Numerical operations (min, max, mean, etc)"
   ]
  },
  {
   "cell_type": "code",
   "execution_count": 3,
   "metadata": {},
   "outputs": [
    {
     "name": "stdout",
     "output_type": "stream",
     "text": [
      "[3 6 1 4]\n"
     ]
    }
   ],
   "source": [
    "toyPrices = np.array([5,8,3,6])\n",
    "print(toyPrices - 2)"
   ]
  },
  {
   "cell_type": "code",
   "execution_count": 4,
   "metadata": {},
   "outputs": [
    {
     "name": "stdout",
     "output_type": "stream",
     "text": [
      "[3, 6, 1, 4]\n"
     ]
    }
   ],
   "source": [
    "toyPrices = [5,8,3,6]\n",
    "# print(toyPrices - 2) -- Not possible. Causes an error\n",
    "for i in range(len(toyPrices)):\n",
    "    toyPrices[i] -= 2\n",
    "print(toyPrices)"
   ]
  },
  {
   "cell_type": "markdown",
   "metadata": {},
   "source": [
    "## Pandas Series and Dataframes\n",
    "Just as the ndarray is the foundation of the NumPy library, the Series is the core object of the pandas library. A pandas Series is very similar to a one-dimensional NumPy array, but it has additional functionality that allows values in the Series to be indexed using labels. A NumPy array does not have the flexibility to do this. This labeling is useful when you are storing pieces of data that have other data associated with them. Say you want to store the ages of students in an online course to eventually figure out the average student age. If stored in a NumPy array, you could only access these ages with the internal ndarray indices 0,1,2.... With a Series object, the indices of values are set to 0,1,2... by default, but you can customize the indices to be other values such as student names so an age can be accessed using a name. Customized indices of a Series are established by sending values into the Series constructor, as you will see below.\n",
    "\n",
    "A Series holds items of any one data type and can be created by sending in a scalar value, Python list, dictionary, or ndarray as a parameter to the pandas Series constructor. If a dictionary is sent in, the keys may be used as the indices."
   ]
  },
  {
   "cell_type": "code",
   "execution_count": 5,
   "metadata": {},
   "outputs": [
    {
     "name": "stdout",
     "output_type": "stream",
     "text": [
      "[13 25 19]\n",
      "0    13\n",
      "1    25\n",
      "2    19\n",
      "dtype: int32\n"
     ]
    }
   ],
   "source": [
    "# Create a Series using a NumPy array of ages with the default numerical indices\n",
    "ages = np.array([13,25,19])\n",
    "series1 = pd.Series(ages)\n",
    "print(ages)\n",
    "print(series1)"
   ]
  },
  {
   "cell_type": "code",
   "execution_count": 6,
   "metadata": {},
   "outputs": [
    {
     "name": "stdout",
     "output_type": "stream",
     "text": [
      "Emma      13\n",
      "Swetha    25\n",
      "Serajh    19\n",
      "dtype: int32\n"
     ]
    }
   ],
   "source": [
    "# Create a Series using a NumPy array of ages but customize the indices to be the names that correspond to each age\n",
    "ages = np.array([13,25,19])\n",
    "series1 = pd.Series(ages,index=['Emma', 'Swetha', 'Serajh'])\n",
    "print(series1)"
   ]
  },
  {
   "cell_type": "markdown",
   "metadata": {},
   "source": [
    "Another important type of object in the pandas library is the DataFrame. This object is similar in form to a matrix as it consists of rows and columns. Both rows and columns can be indexed with integers or String names. One DataFrame can contain many different types of data types, but within a column, everything has to be the same data type. A column of a DataFrame is essentially a Series. All columns must have the same number of elements (rows).\n",
    "\n",
    "There are different ways to fill a DataFrame such as with a CSV file, a SQL query, a Python list, or a dictionary. "
   ]
  },
  {
   "cell_type": "code",
   "execution_count": 7,
   "metadata": {},
   "outputs": [
    {
     "name": "stdout",
     "output_type": "stream",
     "text": [
      "         name        address  age\n",
      "0  John Smith    123 Main St   34\n",
      "1    Jane Doe  456 Maple Ave   28\n",
      "2   Joe Schmo   789 Broadway   51\n"
     ]
    }
   ],
   "source": [
    "dataf = pd.DataFrame([\n",
    "    ['John Smith','123 Main St',34],\n",
    "    ['Jane Doe', '456 Maple Ave',28],\n",
    "    ['Joe Schmo', '789 Broadway',51]\n",
    "    ],\n",
    "    columns=['name','address','age'])\n",
    "print(dataf)"
   ]
  },
  {
   "cell_type": "code",
   "execution_count": 8,
   "metadata": {},
   "outputs": [
    {
     "data": {
      "text/html": [
       "<div>\n",
       "<style scoped>\n",
       "    .dataframe tbody tr th:only-of-type {\n",
       "        vertical-align: middle;\n",
       "    }\n",
       "\n",
       "    .dataframe tbody tr th {\n",
       "        vertical-align: top;\n",
       "    }\n",
       "\n",
       "    .dataframe thead th {\n",
       "        text-align: right;\n",
       "    }\n",
       "</style>\n",
       "<table border=\"1\" class=\"dataframe\">\n",
       "  <thead>\n",
       "    <tr style=\"text-align: right;\">\n",
       "      <th></th>\n",
       "      <th>address</th>\n",
       "      <th>age</th>\n",
       "    </tr>\n",
       "    <tr>\n",
       "      <th>name</th>\n",
       "      <th></th>\n",
       "      <th></th>\n",
       "    </tr>\n",
       "  </thead>\n",
       "  <tbody>\n",
       "    <tr>\n",
       "      <th>John Smith</th>\n",
       "      <td>123 Main St</td>\n",
       "      <td>34</td>\n",
       "    </tr>\n",
       "    <tr>\n",
       "      <th>Jane Doe</th>\n",
       "      <td>456 Maple Ave</td>\n",
       "      <td>28</td>\n",
       "    </tr>\n",
       "    <tr>\n",
       "      <th>Joe Schmo</th>\n",
       "      <td>789 Broadway</td>\n",
       "      <td>51</td>\n",
       "    </tr>\n",
       "  </tbody>\n",
       "</table>\n",
       "</div>"
      ],
      "text/plain": [
       "                  address  age\n",
       "name                          \n",
       "John Smith    123 Main St   34\n",
       "Jane Doe    456 Maple Ave   28\n",
       "Joe Schmo    789 Broadway   51"
      ]
     },
     "execution_count": 8,
     "metadata": {},
     "output_type": "execute_result"
    }
   ],
   "source": [
    "dataf.set_index('name')"
   ]
  },
  {
   "cell_type": "markdown",
   "metadata": {},
   "source": [
    "DataFrames are useful because they make it much easier to select, manipulate, and summarize data. Their tabular format (a table with rows and columns) also makes it easier to label, simpler to read, and easier to export data to and from a spreadsheet. Understanding the power of these new data structures is the key to unlocking many new avenues for data manipulation, exploration, and analysis!"
   ]
  },
  {
   "cell_type": "markdown",
   "metadata": {},
   "source": [
    "## Dataframes\n",
    "A DataFrame is an object that stores data as rows and columns. You can think of a DataFrame as a spreadsheet or as a SQL table. You can manually create a DataFrame or fill it with data from a CSV, an Excel spreadsheet, or a SQL query.\n",
    "\n",
    "DataFrames have rows and columns. Each column has a name, which is a string. Each row has an index, which is an integer. DataFrames can contain many different data types: strings, ints, floats, tuples, etc.\n",
    "\n",
    "You can pass in a dictionary to pd.DataFrame(). Each key is a column name and each value is a list of column values. The columns must all be the same length or you will get an error. "
   ]
  },
  {
   "cell_type": "code",
   "execution_count": 9,
   "metadata": {},
   "outputs": [
    {
     "name": "stdout",
     "output_type": "stream",
     "text": [
      "   Product ID Product Name  Color\n",
      "0           1      t-shirt   blue\n",
      "1           2      t-shirt  green\n",
      "2           3        skirt    red\n",
      "3           4        skirt  black\n"
     ]
    }
   ],
   "source": [
    "df1 = pd.DataFrame({\n",
    "  'Product ID': [1, 2, 3, 4],\n",
    "  'Product Name': ['t-shirt', 't-shirt', 'skirt', 'skirt'], 'Color': ['blue', 'green', 'red', 'black']\n",
    "})\n",
    "\n",
    "print(df1)"
   ]
  },
  {
   "cell_type": "markdown",
   "metadata": {},
   "source": [
    "You can also add data using lists.\n",
    "\n",
    "For example, you can pass in a list of lists, where each one represents a row of data. Use the keyword argument columns to pass a list of column names."
   ]
  },
  {
   "cell_type": "code",
   "execution_count": 10,
   "metadata": {},
   "outputs": [
    {
     "name": "stdout",
     "output_type": "stream",
     "text": [
      "   Store ID       Location  Number of Employees\n",
      "0         1      San Diego                  100\n",
      "1         2    Los Angeles                  120\n",
      "2         3  San Francisco                   90\n",
      "3         4     Sacramento                  115\n"
     ]
    }
   ],
   "source": [
    "df2 = pd.DataFrame([\n",
    "  [1, 'San Diego', 100],\n",
    "  [2, 'Los Angeles', 120],\n",
    "  [3, 'San Francisco', 90],\n",
    "  [4, 'Sacramento', 115]\n",
    "],\n",
    "  columns=[\n",
    "    'Store ID', 'Location', 'Number of Employees'\n",
    "  ])\n",
    "\n",
    "print(df2)"
   ]
  },
  {
   "cell_type": "markdown",
   "metadata": {},
   "source": [
    "## Comma Separated Variables (CSV)\n",
    "We now know how to create our own DataFrame. However, most of the time, we’ll be working with datasets that already exist. One of the most common formats for big datasets is the CSV.\n",
    "\n",
    "CSV (comma separated values) is a text-only spreadsheet format. You can find CSVs in lots of places:\n",
    "\n",
    "Online datasets (here’s an example from data.gov)\n",
    "Export from Excel or Google Sheets\n",
    "Export from SQL\n",
    "The first row of a CSV contains column headings. All subsequent rows contain values. Each column heading and each variable is separated by a comma:\n",
    "\n",
    "column1,column2,column3\n",
    "value1,value2,value3"
   ]
  },
  {
   "cell_type": "markdown",
   "metadata": {},
   "source": [
    "cupcakes.csv file:\n",
    "\n",
    "name,cake_flavor,frosting_flavor,topping\n",
    "Chocolate Cake,chocolate,chocolate,chocolate shavings\n",
    "Birthday Cake,vanilla,vanilla,rainbow sprinkles\n",
    "Carrot Cake,carrot,cream cheese,almonds"
   ]
  },
  {
   "cell_type": "markdown",
   "metadata": {},
   "source": [
    "## Loading and Saving CSVs\n",
    "When you have data in a CSV, you can load it into a DataFrame in Pandas using `.read_csv()`:\n",
    "\n",
    "`pd.read_csv('my-csv-file.csv')`\n",
    "\n",
    "In the example above, the `.read_csv()` method is called. The CSV file called my-csv-file is passed in as an argument.\n",
    "\n",
    "We can also save data to a CSV, using `.to_csv()`.\n",
    "\n",
    "`df.to_csv('new-csv-file.csv')`"
   ]
  },
  {
   "cell_type": "code",
   "execution_count": 11,
   "metadata": {},
   "outputs": [
    {
     "name": "stdout",
     "output_type": "stream",
     "text": [
      "            City  Population  Median Age\n",
      "0      Maplewood      100000          40\n",
      "1          Wayne      350000          33\n",
      "2  Forrest Hills      300000          35\n",
      "3        Paramus      400000          55\n",
      "4     Hackensack      290000          39\n"
     ]
    }
   ],
   "source": [
    "df = pd.read_csv('sample.csv')\n",
    "print(df)"
   ]
  },
  {
   "cell_type": "code",
   "execution_count": 12,
   "metadata": {},
   "outputs": [
    {
     "name": "stdout",
     "output_type": "stream",
     "text": [
      "             name cake_flavor frosting_flavor             topping\n",
      "0  Chocolate Cake   chocolate       chocolate  chocolate shavings\n",
      "1   Birthday Cake     vanilla         vanilla   rainbow sprinkles\n",
      "2     Carrot Cake      carrot    cream cheese             almonds\n"
     ]
    }
   ],
   "source": [
    "df2 = pd.read_csv('cupcakes.csv')\n",
    "print(df2)"
   ]
  },
  {
   "cell_type": "markdown",
   "metadata": {},
   "source": [
    "## Inspect a DataFrame\n",
    "When we load a new DataFrame from a CSV, we want to know what it looks like.\n",
    "\n",
    "If it’s a small DataFrame, you can display it by typing `print(df)`.\n",
    "\n",
    "If it’s a larger DataFrame, it’s helpful to be able to inspect a few items without having to look at the entire DataFrame.\n",
    "\n",
    "The method `.head()` gives the **first 5 rows** of a DataFrame. If you want to see more rows, you can pass in the positional argument `n`. For example, `df.head(10)` would show the first 10 rows.\n",
    "\n",
    "The method **`df.info()`** gives some statistics for each column."
   ]
  },
  {
   "cell_type": "code",
   "execution_count": 13,
   "metadata": {},
   "outputs": [
    {
     "name": "stdout",
     "output_type": "stream",
     "text": [
      "   id                                       name   genre  year  imdb_rating\n",
      "0   1                                     Avatar  action  2009          7.9\n",
      "1   2                             Jurassic World  action  2015          7.3\n",
      "2   3                               The Avengers  action  2012          8.1\n",
      "3   4                            The Dark Knight  action  2008          9.0\n",
      "4   5  Star Wars: Episode I - The Phantom Menace  action  1999          6.6\n",
      "<class 'pandas.core.frame.DataFrame'>\n",
      "RangeIndex: 220 entries, 0 to 219\n",
      "Data columns (total 5 columns):\n",
      " #   Column       Non-Null Count  Dtype  \n",
      "---  ------       --------------  -----  \n",
      " 0   id           220 non-null    int64  \n",
      " 1   name         220 non-null    object \n",
      " 2   genre        220 non-null    object \n",
      " 3   year         220 non-null    int64  \n",
      " 4   imdb_rating  220 non-null    float64\n",
      "dtypes: float64(1), int64(2), object(2)\n",
      "memory usage: 8.7+ KB\n",
      "None\n"
     ]
    }
   ],
   "source": [
    "import pandas as pd\n",
    "df3 = pd.read_csv('imdb.csv')\n",
    "print(df3.head())\n",
    "print(df3.info())"
   ]
  },
  {
   "cell_type": "markdown",
   "metadata": {},
   "source": [
    "## Select Columns\n",
    "Now we know how to create and load data. Let’s select parts of those datasets that are interesting or important to our analyses.\n",
    "\n",
    "Suppose you have the DataFrame called `customers`, which contains the ages of your customers:\n",
    "\n",
    "name\tage\n",
    "Rebecca Erikson\t35\n",
    "Thomas Roberson\t28\n",
    "Diane Ochoa\t42\n",
    "…\t…\n",
    "\n",
    "Perhaps you want to take the average or plot a histogram of the ages. In order to do either of these tasks, you’d need to select the column.\n",
    "\n",
    "There are two possible syntaxes for selecting all values from a column:\n",
    "\n",
    "1. Select the column as if you were selecting a value from a dictionary using a key. In our example, we would type `customers['age']` to select the ages.\n",
    "2. If the name of a column follows all of the rules for a variable name (doesn’t start with a number, doesn’t contain spaces or special characters, etc.), then you can select it using the following notation: `df.MySecondColumn`. In our example, we would type `customers.age`.\n",
    "\n",
    "When we select a single column, the result is called a Series."
   ]
  },
  {
   "cell_type": "code",
   "execution_count": 14,
   "metadata": {},
   "outputs": [
    {
     "name": "stdout",
     "output_type": "stream",
     "text": [
      "<class 'pandas.core.series.Series'>\n",
      "<class 'pandas.core.frame.DataFrame'>\n",
      "0    100\n",
      "1     45\n",
      "2     96\n",
      "3     80\n",
      "4     54\n",
      "5    109\n",
      "Name: clinic_north, dtype: int64\n"
     ]
    }
   ],
   "source": [
    "df4 = pd.DataFrame([\n",
    "  ['January', 100, 100, 23, 100],\n",
    "  ['February', 51, 45, 145, 45],\n",
    "  ['March', 81, 96, 65, 96],\n",
    "  ['April', 80, 80, 54, 180],\n",
    "  ['May', 51, 54, 54, 154],\n",
    "  ['June', 112, 109, 79, 129]],\n",
    "  columns=['month', 'clinic_east',\n",
    "           'clinic_north', 'clinic_south',\n",
    "           'clinic_west']\n",
    ")\n",
    "\n",
    "clinic_north = df4.clinic_north\n",
    "print(type(clinic_north))\n",
    "print(type(df4))\n",
    "print(clinic_north)"
   ]
  },
  {
   "cell_type": "markdown",
   "metadata": {},
   "source": [
    "## Selecting Multiple Columns\n",
    "When you have a larger DataFrame, you might want to select just a few columns.\n",
    "\n",
    "For instance, let’s return to a DataFrame of `orders` from ShoeFly.com:\n",
    "\n",
    "id\tfirst_name\tlast_name\temail\tshoe_type\tshoe_material\tshoe_color\n",
    "54791\tRebecca\tLindsay\tRebeccaLindsay57@hotmail.com\tclogs\tfaux-leather\tblack\n",
    "53450\tEmily\tJoyce\tEmilyJoyce25@gmail.com\tballet flats\tfaux-leather\tnavy\n",
    "91987\tJoyce\tWaller\tJoyce.Waller@gmail.com\tsandals\tfabric\tblack\n",
    "14437\tJustin\tErickson\tJustin.Erickson@outlook.com\tclogs\tfaux-leather\tred\n",
    "\n",
    "We might just be interested in the customer’s `last_name` and `email`. We want a DataFrame like this:\n",
    "\n",
    "last_name\temail\n",
    "Lindsay\tRebeccaLindsay57@hotmail.com\n",
    "Joyce\tEmilyJoyce25@gmail.com\n",
    "Waller\tJoyce.Waller@gmail.com\n",
    "Erickson\tJustin.Erickson@outlook.com\n",
    "\n",
    "To select two or more columns from a DataFrame, we use a list of the column names. To create the DataFrame shown above, we would use:\n",
    "\n",
    "`new_df = orders[['last_name', 'email']]`\n",
    "\n",
    "*Note: *Make sure that you have a double set of brackets `([[]])`, or this command won’t work!"
   ]
  },
  {
   "cell_type": "code",
   "execution_count": 15,
   "metadata": {},
   "outputs": [
    {
     "name": "stdout",
     "output_type": "stream",
     "text": [
      "<class 'pandas.core.frame.DataFrame'>\n",
      "   clinic_north  clinic_south\n",
      "0           100            23\n",
      "1            45           145\n",
      "2            96            65\n",
      "3            80            54\n",
      "4            54            54\n",
      "5           109            79\n"
     ]
    }
   ],
   "source": [
    "clinic_north_south = df4[['clinic_north', 'clinic_south']]\n",
    "print(type(clinic_north_south))\n",
    "print(clinic_north_south)"
   ]
  },
  {
   "cell_type": "markdown",
   "metadata": {},
   "source": [
    "## Select Rows\n",
    "Let’s revisit our orders from ShoeFly.com:\n",
    "\n",
    "id\tfirst_name\tlast_name\temail\tshoe_type\tshoe_material\tshoe_color\n",
    "54791\tRebecca\tLindsay\tRebeccaLindsay57@hotmail.com\tclogs\tfaux-leather\tblack\n",
    "53450\tEmily\tJames\tEmilyJames25@gmail.com\tballet flats\tfaux-leather\tnavy\n",
    "91987\tJoyce\tWaller\tJoyce.Waller@gmail.com\tsandals\tfabric\tblack\n",
    "14437\tJustin\tErickson\tJustin.Erickson@outlook.com\tclogs\tfaux-leather\tred\n",
    "…\t\t\t\t\t\t\n",
    "\n",
    "Maybe our Customer Service department has just received a message from Joyce Waller, so we want to know exactly what she ordered. We want to select this single row of data.\n",
    "\n",
    "DataFrames are zero-indexed, meaning that we start with the 0th row and count up from there. Joyce Waller’s order is the 2nd row.\n",
    "\n",
    "We select it using the following command:\n",
    "\n",
    "`orders.iloc[2]`\n",
    "\n",
    "When we select a single row, the result is a Series (just like when we select a single column)."
   ]
  },
  {
   "cell_type": "code",
   "execution_count": 16,
   "metadata": {},
   "outputs": [
    {
     "name": "stdout",
     "output_type": "stream",
     "text": [
      "month           March\n",
      "clinic_east        81\n",
      "clinic_north       96\n",
      "clinic_south       65\n",
      "clinic_west        96\n",
      "Name: 2, dtype: object\n"
     ]
    }
   ],
   "source": [
    "march = df4.iloc[2]\n",
    "print(march)"
   ]
  },
  {
   "cell_type": "markdown",
   "metadata": {},
   "source": [
    "## Selecting Multiple Rows\n",
    "You can also select multiple rows from a DataFrame.\n",
    "\n",
    "Here are some different ways of selecting multiple rows:\n",
    "\n",
    "* `orders.iloc[3:7]` would select all rows starting at the 3rd row and up to but not including the 7th row (i.e., the 3rd row, 4th row, 5th row, and 6th row)\n",
    "* `orders.iloc[:4]` would select all rows up to, but not including the 4th row (i.e., the 0th, 1st, 2nd, and 3rd rows)\n",
    "* `orders.iloc[-3:]` would select the rows starting at the 3rd to last row and up to and including the final row"
   ]
  },
  {
   "cell_type": "code",
   "execution_count": 17,
   "metadata": {},
   "outputs": [
    {
     "name": "stdout",
     "output_type": "stream",
     "text": [
      "   month  clinic_east  clinic_north  clinic_south  clinic_west\n",
      "3  April           80            80            54          180\n",
      "4    May           51            54            54          154\n",
      "5   June          112           109            79          129\n"
     ]
    }
   ],
   "source": [
    "april_may_june = df4.iloc[3:]\n",
    "print(april_may_june)"
   ]
  },
  {
   "cell_type": "markdown",
   "metadata": {},
   "source": [
    "## Select Rows with Logic I\n",
    "You can select a subset of a DataFrame by using logical statements:\n",
    "\n",
    "`df[df.MyColumnName == desired_column_value]`\n",
    "\n",
    "Suppose we want to select all rows where the customer’s age is 30. We would use:\n",
    "\n",
    "`df[df.age == 30]`\n",
    "\n",
    "In Python, == is how we test if a value is exactly equal to another value.\n",
    "\n",
    "We can use other logical statements, such as:\n",
    "\n",
    "* Greater Than, > — Here, we select all rows where the customer’s age is greater than 30:\n",
    "\n",
    "`df[df.age > 30]`\n",
    "\n",
    "* Less Than, < — Here, we select all rows where the customer’s age is less than 30:\n",
    "\n",
    "`df[df.age < 30]`\n",
    "\n",
    "* Not Equal, != — This snippet selects all rows where the customer’s name is not Clara Oswald:\n",
    "\n",
    "`df[df.name != 'Clara Oswald']`"
   ]
  },
  {
   "cell_type": "code",
   "execution_count": 18,
   "metadata": {},
   "outputs": [
    {
     "name": "stdout",
     "output_type": "stream",
     "text": [
      "     month  clinic_east  clinic_north  clinic_south  clinic_west\n",
      "0  January          100           100            23          100\n"
     ]
    }
   ],
   "source": [
    "january = df4[df4.month == 'January']\n",
    "print(january)"
   ]
  },
  {
   "cell_type": "markdown",
   "metadata": {},
   "source": [
    "## Select Rows with Logic II\n",
    "You can also combine multiple logical statements, as long as each statement is in parentheses.\n",
    "\n",
    "For instance, suppose we wanted to select all rows where the customer’s age was under 30 or the customer’s name was “Martha Jones”:\n",
    "\n",
    "`df[(df.age < 30) | (df.name == 'Martha Jones')]`\n",
    "\n",
    "In Python, `|` means “or” and `&` means “and”."
   ]
  },
  {
   "cell_type": "code",
   "execution_count": 19,
   "metadata": {},
   "outputs": [
    {
     "name": "stdout",
     "output_type": "stream",
     "text": [
      "   month  clinic_east  clinic_north  clinic_south  clinic_west\n",
      "2  March           81            96            65           96\n",
      "3  April           80            80            54          180\n"
     ]
    }
   ],
   "source": [
    "march_april = df4[(df4.month == 'March') | (df4.month == 'April')]\n",
    "print(march_april)"
   ]
  },
  {
   "cell_type": "markdown",
   "metadata": {},
   "source": [
    "## Select Rows with Logic III\n",
    "\n",
    "Suppose we want to select the rows where the customer’s name is either “Martha Jones”, “Rose Tyler” or “Amy Pond”.\n",
    "\n",
    "`df[df.name.isin(['Martha Jones', 'Rose Tyler', 'Amy Pond'])]`"
   ]
  },
  {
   "cell_type": "code",
   "execution_count": 20,
   "metadata": {},
   "outputs": [
    {
     "name": "stdout",
     "output_type": "stream",
     "text": [
      "      month  clinic_east  clinic_north  clinic_south  clinic_west\n",
      "0   January          100           100            23          100\n",
      "1  February           51            45           145           45\n",
      "2     March           81            96            65           96\n"
     ]
    }
   ],
   "source": [
    "january_february_march = df4[df4.month.isin(['January', 'February', 'March'])]\n",
    "print(january_february_march)"
   ]
  },
  {
   "cell_type": "markdown",
   "metadata": {},
   "source": [
    "## Setting indices\n",
    "When we select a subset of a DataFrame using logic, we end up with non-consecutive indices. This is inelegant and makes it hard to use `.iloc()`.\n",
    "\n",
    "We can fix this using the method `.reset_index()`. For example, here is a DataFrame called df with non-consecutive indices:\n",
    "\n",
    "First Name\tLast Name\n",
    "0\tJohn\tSmith\n",
    "4\tJane\tDoe\n",
    "7\tJoe\tSchmo\n",
    "\n",
    "If we use the command `df.reset_index()`, we get a new DataFrame with a new set of indices:\n",
    "\n",
    "index\tFirst Name\tLast Name\n",
    "0\t0\tJohn\tSmith\n",
    "1\t4\tJane\tDoe\n",
    "2\t7\tJoe\tSchmo\n",
    "\n",
    "Note that the old indices have been moved into a new column called `'index'`. Unless you need those values for something special, it’s probably better to use the keyword `drop=True` so that you don’t end up with that extra column. If we run the command `df.reset_index(drop=True)`, we get a new DataFrame that looks like this:\n",
    "\n",
    "First Name\tLast Name\n",
    "0\tJohn\tSmith\n",
    "1\tJane\tDoe\n",
    "2\tJoe\tSchmo\n",
    "\n",
    "Using `.reset_index()` will return a new DataFrame, but we usually just want to modify our existing DataFrame. If we use the keyword `inplace=True` we can just modify our existing DataFrame."
   ]
  },
  {
   "cell_type": "code",
   "execution_count": 21,
   "metadata": {},
   "outputs": [
    {
     "name": "stdout",
     "output_type": "stream",
     "text": [
      "      month  clinic_east  clinic_north  clinic_south  clinic_west\n",
      "1  February           51            45           145           45\n",
      "3     April           80            80            54          180\n",
      "5      June          112           109            79          129\n",
      "      month  clinic_east  clinic_north  clinic_south  clinic_west\n",
      "0  February           51            45           145           45\n",
      "1     April           80            80            54          180\n",
      "2      June          112           109            79          129\n"
     ]
    }
   ],
   "source": [
    "df5 = df4.loc[[1, 3, 5]]\n",
    "print(df5)\n",
    "\n",
    "# df6 = df5.reset_index(drop=True, inplace=True)\n",
    "# print(df6)\n",
    "\n",
    "df5.reset_index(drop=True, inplace=True)\n",
    "print(df5)"
   ]
  },
  {
   "cell_type": "code",
   "execution_count": 22,
   "metadata": {},
   "outputs": [
    {
     "name": "stdout",
     "output_type": "stream",
     "text": [
      "<class 'pandas.core.frame.DataFrame'>\n",
      "RangeIndex: 20 entries, 0 to 19\n",
      "Data columns (total 7 columns):\n",
      " #   Column         Non-Null Count  Dtype \n",
      "---  ------         --------------  ----- \n",
      " 0   id             20 non-null     int64 \n",
      " 1   first_name     20 non-null     object\n",
      " 2   last_name      20 non-null     object\n",
      " 3   email          20 non-null     object\n",
      " 4   shoe_type      20 non-null     object\n",
      " 5   shoe_material  20 non-null     object\n",
      " 6   shoe_color     20 non-null     object\n",
      "dtypes: int64(1), object(6)\n",
      "memory usage: 1.2+ KB\n",
      "None\n",
      "--------------------------------------------------\n",
      "      id first_name last_name                         email     shoe_type  \\\n",
      "0  54791    Rebecca   Lindsay  RebeccaLindsay57@hotmail.com         clogs   \n",
      "1  53450      Emily     Joyce        EmilyJoyce25@gmail.com  ballet flats   \n",
      "2  91987      Joyce    Waller        Joyce.Waller@gmail.com       sandals   \n",
      "3  14437     Justin  Erickson   Justin.Erickson@outlook.com         clogs   \n",
      "4  79357     Andrew     Banks              AB4318@gmail.com         boots   \n",
      "\n",
      "  shoe_material shoe_color  \n",
      "0  faux-leather      black  \n",
      "1  faux-leather       navy  \n",
      "2        fabric      black  \n",
      "3  faux-leather        red  \n",
      "4       leather      brown  \n",
      "--------------------------------------------------\n",
      "0     RebeccaLindsay57@hotmail.com\n",
      "1           EmilyJoyce25@gmail.com\n",
      "2           Joyce.Waller@gmail.com\n",
      "3      Justin.Erickson@outlook.com\n",
      "4                 AB4318@gmail.com\n",
      "5           JulieMarsh59@gmail.com\n",
      "6                 TJ5470@gmail.com\n",
      "7           Janice.Hicks@gmail.com\n",
      "8        GabrielPorter24@gmail.com\n",
      "9        FrancesPalmer50@gmail.com\n",
      "10         JessicaHale25@gmail.com\n",
      "11      LawrenceParker44@gmail.com\n",
      "12         SusanDennis58@gmail.com\n",
      "13                DO2680@gmail.com\n",
      "14       Rebecca.Charles@gmail.com\n",
      "15              JC2072@hotmail.com\n",
      "16              VS4753@outlook.com\n",
      "17          RoyTillman20@gmail.com\n",
      "18       Thomas.Roberson@gmail.com\n",
      "19         ANewton1977@outlook.com\n",
      "Name: email, dtype: object\n",
      "--------------------------------------------------\n",
      "      id first_name last_name                      email shoe_type  \\\n",
      "9  62083    Frances    Palmer  FrancesPalmer50@gmail.com    wedges   \n",
      "\n",
      "  shoe_material shoe_color  \n",
      "9       leather      white  \n",
      "--------------------------------------------------\n",
      "       id first_name   last_name                         email     shoe_type  \\\n",
      "0   54791    Rebecca     Lindsay  RebeccaLindsay57@hotmail.com         clogs   \n",
      "1   53450      Emily       Joyce        EmilyJoyce25@gmail.com  ballet flats   \n",
      "3   14437     Justin    Erickson   Justin.Erickson@outlook.com         clogs   \n",
      "4   79357     Andrew       Banks              AB4318@gmail.com         boots   \n",
      "6   20487     Thomas      Jensen              TJ5470@gmail.com         clogs   \n",
      "7   76971     Janice       Hicks        Janice.Hicks@gmail.com         clogs   \n",
      "8   21586    Gabriel      Porter     GabrielPorter24@gmail.com         clogs   \n",
      "10  91629    Jessica        Hale       JessicaHale25@gmail.com         clogs   \n",
      "12  45832      Susan      Dennis       SusanDennis58@gmail.com  ballet flats   \n",
      "14  73431    Rebecca     Charles     Rebecca.Charles@gmail.com         boots   \n",
      "16  39888    Vincent  Stephenson            VS4753@outlook.com         boots   \n",
      "17  35961        Roy     Tillman        RoyTillman20@gmail.com         boots   \n",
      "\n",
      "   shoe_material shoe_color  \n",
      "0   faux-leather      black  \n",
      "1   faux-leather       navy  \n",
      "3   faux-leather        red  \n",
      "4        leather      brown  \n",
      "6         fabric       navy  \n",
      "7   faux-leather       navy  \n",
      "8        leather      brown  \n",
      "10       leather        red  \n",
      "12        fabric      white  \n",
      "14  faux-leather      white  \n",
      "16       leather      black  \n",
      "17       leather      white  \n",
      "--------------------------------------------------\n"
     ]
    }
   ],
   "source": [
    "orders = pd.read_csv('shoefly.csv')\n",
    "print(orders.info())\n",
    "print('-'*50)\n",
    "print(orders.head())\n",
    "print('-'*50)\n",
    "emails = orders.email\n",
    "print(emails)\n",
    "print('-'*50)\n",
    "frances_palmer = orders[(orders.first_name == 'Frances') & (orders.last_name == 'Palmer')]\n",
    "print(frances_palmer)\n",
    "print('-'*50)\n",
    "comfy_shoes = orders[orders.shoe_type.isin(['clogs', 'boots', 'ballet flats'])]\n",
    "print(comfy_shoes)\n",
    "print('-'*50)"
   ]
  },
  {
   "cell_type": "markdown",
   "metadata": {},
   "source": [
    "## Adding a Column I\n",
    "Sometimes, we want to add a column to an existing DataFrame. We might want to add new information or perform a calculation based on the data that we already have.\n",
    "\n",
    "One way that we can add a new column is by giving a list of the same length as the existing DataFrame."
   ]
  },
  {
   "cell_type": "markdown",
   "metadata": {},
   "source": [
    "Suppose we own a hardware store called The Handy Woman and have a DataFrame containing inventory information:\n",
    "\n",
    "Product ID\tProduct Description\tCost to Manufacture\tPrice\n",
    "1\t3 inch screw\t0.50\t0.75\n",
    "2\t2 inch nail\t0.10\t0.25\n",
    "3\thammer\t3.00\t5.50\n",
    "4\tscrewdriver\t2.50\t3.00\n",
    "\n",
    "It looks like the actual quantity of each product in our warehouse is missing!\n",
    "\n",
    "Let’s use the following code to add that information to our DataFrame.\n",
    "\n",
    "`df['Quantity'] = [100, 150, 50, 35]`"
   ]
  },
  {
   "cell_type": "code",
   "execution_count": 23,
   "metadata": {},
   "outputs": [
    {
     "name": "stdout",
     "output_type": "stream",
     "text": [
      "   Product ID   Description  Cost to Manufacture  Price Sold in Bulk?\n",
      "0           1  3 inch screw                  0.5   0.75           Yes\n",
      "1           2   2 inch nail                  0.1   0.25           Yes\n",
      "2           3        hammer                  3.0   5.50            No\n",
      "3           4   screwdriver                  2.5   3.00            No\n"
     ]
    }
   ],
   "source": [
    "df = pd.DataFrame([\n",
    "  [1, '3 inch screw', 0.5, 0.75],\n",
    "  [2, '2 inch nail', 0.10, 0.25],\n",
    "  [3, 'hammer', 3.00, 5.50],\n",
    "  [4, 'screwdriver', 2.50, 3.00]\n",
    "],\n",
    "  columns=['Product ID', 'Description', 'Cost to Manufacture', 'Price']\n",
    ")\n",
    "\n",
    "# Add columns here\n",
    "df['Sold in Bulk?'] = ['Yes', 'Yes', 'No', 'No']\n",
    "print(df)"
   ]
  },
  {
   "cell_type": "markdown",
   "metadata": {},
   "source": [
    "## Adding a Column II\n",
    "We can also add a new column that is the same for all rows in the DataFrame.\n",
    "\n",
    "`df['In Stock?'] = True`\n",
    "\n",
    "Now all of the rows have a column called In Stock? with value True."
   ]
  },
  {
   "cell_type": "code",
   "execution_count": 24,
   "metadata": {},
   "outputs": [
    {
     "name": "stdout",
     "output_type": "stream",
     "text": [
      "   Product ID   Description  Cost to Manufacture  Price Sold in Bulk?  \\\n",
      "0           1  3 inch screw                  0.5   0.75           Yes   \n",
      "1           2   2 inch nail                  0.1   0.25           Yes   \n",
      "2           3        hammer                  3.0   5.50            No   \n",
      "3           4   screwdriver                  2.5   3.00            No   \n",
      "\n",
      "  Is taxed?  \n",
      "0       Yes  \n",
      "1       Yes  \n",
      "2       Yes  \n",
      "3       Yes  \n"
     ]
    }
   ],
   "source": [
    "df['Is taxed?'] = 'Yes'\n",
    "print(df)"
   ]
  },
  {
   "cell_type": "markdown",
   "metadata": {},
   "source": [
    "## Adding a Column III\n",
    "Finally, you can add a new column by performing a function on the existing columns.\n",
    "\n",
    "Maybe we want to add a column to our inventory table with the amount of sales tax that we need to charge for each item. The following code multiplies each Price by 0.075, the sales tax for our state:\n",
    "\n",
    "`df['Sales Tax'] = df.Price * 0.075`\n",
    "\n",
    "Now our table has a column called Sales Tax"
   ]
  },
  {
   "cell_type": "code",
   "execution_count": 25,
   "metadata": {},
   "outputs": [
    {
     "name": "stdout",
     "output_type": "stream",
     "text": [
      "   Product ID   Description  Cost to Manufacture  Price Sold in Bulk?  \\\n",
      "0           1  3 inch screw                  0.5   0.75           Yes   \n",
      "1           2   2 inch nail                  0.1   0.25           Yes   \n",
      "2           3        hammer                  3.0   5.50            No   \n",
      "3           4   screwdriver                  2.5   3.00            No   \n",
      "\n",
      "  Is taxed?  Margin  \n",
      "0       Yes    0.25  \n",
      "1       Yes    0.15  \n",
      "2       Yes    2.50  \n",
      "3       Yes    0.50  \n"
     ]
    }
   ],
   "source": [
    "df['Margin'] = df['Price'] - df['Cost to Manufacture']\n",
    "\n",
    "print(df)"
   ]
  },
  {
   "cell_type": "markdown",
   "metadata": {},
   "source": [
    "## Performing Column Operations\n",
    "In the previous exercise, we learned how to add columns to a DataFrame.\n",
    "\n",
    "Often, the column that we want to add is related to existing columns, but requires a calculation more complex than multiplication or addition.\n",
    "\n",
    "We can use the apply function to apply a function to every value in a particular column. For example, this code overwrites the existing 'Name' columns by applying the function upper to every row in 'Name'.\n",
    "\n",
    "`from string import upper`\n",
    " \n",
    "`df['Name'] = df.Name.apply(upper)`"
   ]
  },
  {
   "cell_type": "code",
   "execution_count": 35,
   "metadata": {},
   "outputs": [],
   "source": [
    "# from string import lower\n",
    "# df['Lowercase Name'] = df.Name.str.apply(lower)\n",
    "# print(df)"
   ]
  },
  {
   "cell_type": "code",
   "execution_count": 36,
   "metadata": {},
   "outputs": [
    {
     "name": "stdout",
     "output_type": "stream",
     "text": [
      "Md\n"
     ]
    }
   ],
   "source": [
    "mylambda = lambda str: str[0] + str[-1]\n",
    "print(mylambda('Mikheltodd'))"
   ]
  },
  {
   "cell_type": "code",
   "execution_count": 37,
   "metadata": {},
   "outputs": [],
   "source": [
    "def myfunction(x):\n",
    "    if x > 40:\n",
    "        return 40 + (x - 40) * 1.50\n",
    "    else:\n",
    "        return x"
   ]
  },
  {
   "cell_type": "code",
   "execution_count": 38,
   "metadata": {},
   "outputs": [],
   "source": [
    "myfunction = lambda x: 40 + (x - 40) * 1.50 if x > 40 else x"
   ]
  },
  {
   "cell_type": "code",
   "execution_count": 39,
   "metadata": {},
   "outputs": [
    {
     "name": "stdout",
     "output_type": "stream",
     "text": [
      "Welcome to BattleCity!\n"
     ]
    }
   ],
   "source": [
    "mylambda = lambda age: \"Welcome to BattleCity!\" if age >= 13 else \"You must be over 13\"\n",
    "print(mylambda(15))"
   ]
  },
  {
   "cell_type": "markdown",
   "metadata": {},
   "source": [
    "## Applying a Lambda to a Column\n",
    "In Pandas, we often use lambda functions to perform complex operations on columns. For example, suppose that we want to create a column containing the email provider for each email address\n",
    "\n",
    "`df['Email Provider'] = df.Email.apply(\n",
    "    lambda x: x.split('@')[-1]\n",
    "    )`"
   ]
  },
  {
   "cell_type": "code",
   "execution_count": 45,
   "metadata": {},
   "outputs": [
    {
     "name": "stdout",
     "output_type": "stream",
     "text": [
      "       id               name  hourly_wage  hours_worked  last_name\n",
      "0   10310      Lauren Durham           19            43     Durham\n",
      "1   18656      Grace Sellers           17            40    Sellers\n",
      "2   61254  Shirley Rasmussen           16            30  Rasmussen\n",
      "3   16886        Brian Rojas           18            47      Rojas\n",
      "4   89010    Samantha Mosley           11            38     Mosley\n",
      "5   87246       Louis Guzman           14            39     Guzman\n",
      "6   20578     Denise Mcclure           15            40    Mcclure\n",
      "7   12869      James Raymond           15            32    Raymond\n",
      "8   53461       Noah Collier           18            35    Collier\n",
      "9   14746    Donna Frederick           20            41  Frederick\n",
      "10  71127       Shirley Beck           14            32       Beck\n",
      "11  92522    Christina Kelly            8            44      Kelly\n",
      "12  22447        Brian Noble           11            39      Noble\n",
      "13  61654          Randy Key           16            38        Key\n",
      "14  16988      Diana Stewart           14            48    Stewart\n",
      "15  68619       Timothy Sosa           14            42       Sosa\n",
      "16  59949      Betty Skinner           11            48    Skinner\n",
      "17  81418      Janet Maxwell           12            38    Maxwell\n",
      "18  27267   Madison Johnston           20            37   Johnston\n",
      "19  19985   Virginia Nichols           13            49    Nichols\n"
     ]
    }
   ],
   "source": [
    "df = pd.read_csv('employees.csv')\n",
    "get_last_name = lambda full_name: full_name.split(' ')[-1]\n",
    "df['last_name'] = df.name.apply(get_last_name)\n",
    "print(df)"
   ]
  },
  {
   "cell_type": "markdown",
   "metadata": {},
   "source": [
    "## Applying a Lambda to a Row\n",
    "\n",
    "We can also operate on multiple columns at once. If we use apply without specifying a single column and add the argument axis=1, the input to our lambda function will be an entire row, not a column. To access particular values of the row, we use the syntax `row.column_name` or `row[‘column_name’]`."
   ]
  },
  {
   "cell_type": "markdown",
   "metadata": {},
   "source": [
    "If we want to add in the price with tax for each line, we’ll need to look at two columns: `Price` and `Is taxed?`.\n",
    "\n",
    "If `Is taxed?` is `Yes`, then we’ll want to multiply `Price` by 1.075 (for 7.5% sales tax).\n",
    "\n",
    "If `Is taxed?` is `No`, we’ll just have `Price` without multiplying it.\n",
    "\n",
    "We can create this column using a lambda function and the keyword axis=1:\n",
    "\n",
    "`df['Price with Tax'] = df.apply(lambda row:\n",
    "     row['Price'] * 1.075\n",
    "     if row['Is taxed?'] == 'Yes'\n",
    "     else row['Price'],\n",
    "     axis=1\n",
    ")`"
   ]
  },
  {
   "cell_type": "code",
   "execution_count": 49,
   "metadata": {},
   "outputs": [
    {
     "name": "stdout",
     "output_type": "stream",
     "text": [
      "    hourly_wage  hours_worked  total_earned\n",
      "4            11            38         418.0\n",
      "5            14            39         546.0\n",
      "10           14            32         448.0\n",
      "11            8            44         368.0\n",
      "12           11            39         429.0\n",
      "14           14            48         728.0\n",
      "15           14            42         602.0\n",
      "16           11            48         572.0\n",
      "17           12            38         456.0\n",
      "19           13            49         695.5\n"
     ]
    }
   ],
   "source": [
    "total_earned = lambda row: row['hours_worked'] * row['hourly_wage'] if row['hours_worked'] <= 40 else (40 * row['hourly_wage']) + (row['hours_worked'] - 40) * (row['hourly_wage'] * 1.50)\n",
    "\n",
    "df['total_earned'] = df.apply(total_earned, axis = 1)\n",
    "\n",
    "print(df[['hourly_wage','hours_worked', 'total_earned']][df['hourly_wage']<15])"
   ]
  },
  {
   "cell_type": "markdown",
   "metadata": {},
   "source": [
    "## Renaming Columns\n",
    "\n",
    "When we get our data from other sources, we often want to change the column names. For example, we might want all of the column names to follow variable name rules, so that we can use `df.column_name` (which tab-completes) rather than `df['column_name']` (which takes up extra space).\n",
    "\n",
    "You can change all of the column names at once by setting the `.columns` property to a different list. This is great when you need to change all of the column names at once, but be careful! You can easily mislabel columns if you get the ordering wrong. Here’s an example:\n",
    "\n",
    "`df = pd.DataFrame({\n",
    "    'name': ['John', 'Jane', 'Sue', 'Fred'],\n",
    "    'age': [23, 29, 21, 18]\n",
    "})\n",
    "df.columns = ['First Name', 'Age']`\n",
    "\n",
    "This command edits the existing DataFrame df."
   ]
  },
  {
   "cell_type": "code",
   "execution_count": 51,
   "metadata": {},
   "outputs": [
    {
     "name": "stdout",
     "output_type": "stream",
     "text": [
      "      ID                                      Title Category  Year Released  \\\n",
      "0      1                                     Avatar   action           2009   \n",
      "1      2                             Jurassic World   action           2015   \n",
      "2      3                               The Avengers   action           2012   \n",
      "3      4                            The Dark Knight   action           2008   \n",
      "4      5  Star Wars: Episode I - The Phantom Menace   action           1999   \n",
      "..   ...                                        ...      ...            ...   \n",
      "215  216                                   Hannibal    drama           2001   \n",
      "216  217                        Catch Me If You Can    drama           2002   \n",
      "217  218                                  Big Daddy    drama           1999   \n",
      "218  219                                      Se7en    drama           1995   \n",
      "219  220                                      Seven    drama           1979   \n",
      "\n",
      "     Rating  \n",
      "0       7.9  \n",
      "1       7.3  \n",
      "2       8.1  \n",
      "3       9.0  \n",
      "4       6.6  \n",
      "..      ...  \n",
      "215     6.7  \n",
      "216     8.0  \n",
      "217     6.4  \n",
      "218     8.6  \n",
      "219     6.1  \n",
      "\n",
      "[220 rows x 5 columns]\n"
     ]
    }
   ],
   "source": [
    "df = pd.read_csv('imdb.csv')\n",
    "df.columns = ['ID', 'Title', 'Category', 'Year Released', 'Rating']\n",
    "print(df)"
   ]
  },
  {
   "cell_type": "markdown",
   "metadata": {},
   "source": [
    "## Renaming Columns II\n",
    "You also can rename individual columns by using the `.rename` method. Pass a dictionary like the one below to the columns keyword argument:\n",
    "\n",
    "`{'old_column_name1': 'new_column_name1', 'old_column_name2': 'new_column_name2'}`\n",
    "\n",
    "Here’s an example:\n",
    "\n",
    "`df = pd.DataFrame({\n",
    "    'name': ['John', 'Jane', 'Sue', 'Fred'],\n",
    "    'age': [23, 29, 21, 18]\n",
    "})\n",
    "df.rename(columns={\n",
    "    'name': 'First Name',\n",
    "    'age': 'Age'},\n",
    "    inplace=True)`\n",
    "    \n",
    "    \n",
    "The code above will rename `name` to `First Name` and `age` to `Age`.\n",
    "\n",
    "Using rename with only the columns keyword will create a new DataFrame, leaving your original DataFrame unchanged. That’s why we also passed in the keyword argument `inplace=True`. Using `inplace=True` lets us edit the original DataFrame.\n",
    "\n",
    "There are several reasons why `.rename` is preferable to `.columns`:\n",
    "\n",
    "* You can rename just one column\n",
    "* You can be specific about which column names are getting changed (with `.column` you can accidentally switch column names if you’re not careful)\n",
    "\n",
    "**_Note_**: _If you misspell one of the original column names, this command won’t fail. It just won’t change anything._"
   ]
  },
  {
   "cell_type": "code",
   "execution_count": 59,
   "metadata": {},
   "outputs": [
    {
     "name": "stdout",
     "output_type": "stream",
     "text": [
      "      ID                                Movie_Title Category  Year Released  \\\n",
      "0      1                                     Avatar   action           2009   \n",
      "1      2                             Jurassic World   action           2015   \n",
      "2      3                               The Avengers   action           2012   \n",
      "3      4                            The Dark Knight   action           2008   \n",
      "4      5  Star Wars: Episode I - The Phantom Menace   action           1999   \n",
      "..   ...                                        ...      ...            ...   \n",
      "215  216                                   Hannibal    drama           2001   \n",
      "216  217                        Catch Me If You Can    drama           2002   \n",
      "217  218                                  Big Daddy    drama           1999   \n",
      "218  219                                      Se7en    drama           1995   \n",
      "219  220                                      Seven    drama           1979   \n",
      "\n",
      "     Rating  \n",
      "0       7.9  \n",
      "1       7.3  \n",
      "2       8.1  \n",
      "3       9.0  \n",
      "4       6.6  \n",
      "..      ...  \n",
      "215     6.7  \n",
      "216     8.0  \n",
      "217     6.4  \n",
      "218     8.6  \n",
      "219     6.1  \n",
      "\n",
      "[220 rows x 5 columns]\n"
     ]
    }
   ],
   "source": [
    "df.rename(columns={'movie_title': 'Movie_Title'}, inplace=True)\n",
    "print(df)\n",
    "# df.rename(columns={'Movie_Title': 'Title'}, inplace=True)"
   ]
  },
  {
   "cell_type": "code",
   "execution_count": 67,
   "metadata": {},
   "outputs": [
    {
     "name": "stdout",
     "output_type": "stream",
     "text": [
      "<class 'pandas.core.frame.DataFrame'>\n",
      "RangeIndex: 20 entries, 0 to 19\n",
      "Data columns (total 8 columns):\n",
      " #   Column         Non-Null Count  Dtype \n",
      "---  ------         --------------  ----- \n",
      " 0   id             20 non-null     int64 \n",
      " 1   first_name     20 non-null     object\n",
      " 2   last_name      20 non-null     object\n",
      " 3   gender         20 non-null     object\n",
      " 4   email          20 non-null     object\n",
      " 5   shoe_type      20 non-null     object\n",
      " 6   shoe_material  20 non-null     object\n",
      " 7   shoe_color     20 non-null     object\n",
      "dtypes: int64(1), object(7)\n",
      "memory usage: 1.4+ KB\n",
      "None\n",
      "--------------------------------------------------\n",
      "      id first_name last_name  gender                         email  \\\n",
      "0  54791    Rebecca   Lindsay  female  RebeccaLindsay57@hotmail.com   \n",
      "1  53450      Emily     Joyce  female        EmilyJoyce25@gmail.com   \n",
      "2  91987      Joyce    Waller  female        Joyce.Waller@gmail.com   \n",
      "3  14437     Justin  Erickson    male   Justin.Erickson@outlook.com   \n",
      "4  79357     Andrew     Banks    male              AB4318@gmail.com   \n",
      "\n",
      "      shoe_type shoe_material shoe_color  \n",
      "0         clogs  faux-leather      black  \n",
      "1  ballet flats  faux-leather       navy  \n",
      "2       sandles        fabric      black  \n",
      "3         clogs  faux-leather        red  \n",
      "4         boots       leather      brown  \n",
      "--------------------------------------------------\n",
      "    first_name last_name  gender     shoe_type\n",
      "0      Rebecca   Lindsay  female         clogs\n",
      "1        Emily     Joyce  female  ballet flats\n",
      "2        Joyce    Waller  female       sandles\n",
      "3       Justin  Erickson    male         clogs\n",
      "5        Julie     Marsh  female       sandles\n",
      "6       Thomas    Jensen    male         clogs\n",
      "7       Janice     Hicks  female         clogs\n",
      "11    Lawrence    Parker    male        wedges\n",
      "12       Susan    Dennis  female  ballet flats\n",
      "13       Diane     Ochoa  female       sandles\n",
      "14     Rebecca   Charles  female         boots\n",
      "15  Jacqueline     Crane  female        wedges\n",
      "18      Thomas  Roberson    male        wedges\n",
      "19      Angela    Newton  female        wedges\n"
     ]
    }
   ],
   "source": [
    "orders = pd.read_csv('shoefly_v2.csv')\n",
    "\n",
    "print(orders.info())\n",
    "print('-'*50)\n",
    "print(orders.head())\n",
    "print('-'*50)\n",
    "orders['shoe_source'] = orders.shoe_material.apply(lambda x: 'animal' if x == 'leather'else 'vegan')\n",
    "\n",
    "orders['salutation'] = orders.apply(lambda row: 'Dear Mr. ' + row['last_name'] if row['gender'] == 'male' else 'Dear Ms. ' + row['last_name'], axis=1)\n",
    "\n",
    "print(orders[orders.shoe_source == 'vegan'][['first_name', 'last_name', 'gender', 'shoe_type']])"
   ]
  },
  {
   "cell_type": "code",
   "execution_count": null,
   "metadata": {},
   "outputs": [],
   "source": []
  }
 ],
 "metadata": {
  "kernelspec": {
   "display_name": "Python 3",
   "language": "python",
   "name": "python3"
  },
  "language_info": {
   "codemirror_mode": {
    "name": "ipython",
    "version": 3
   },
   "file_extension": ".py",
   "mimetype": "text/x-python",
   "name": "python",
   "nbconvert_exporter": "python",
   "pygments_lexer": "ipython3",
   "version": "3.8.5"
  }
 },
 "nbformat": 4,
 "nbformat_minor": 4
}
