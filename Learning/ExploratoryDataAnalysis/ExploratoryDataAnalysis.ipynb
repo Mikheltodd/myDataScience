{
 "cells": [
  {
   "cell_type": "markdown",
   "metadata": {},
   "source": [
    "## Introduction\n",
    "\n",
    "A good data analysis begins with building a deep understanding of the patterns and relationships within a dataset. Exploratory Data Analysis (EDA) is a process that we can use to build that understanding. EDA often involves calculating numerical summary statistics and creating data visualizations; however, an important first step is to transform and re-shape data into a format that makes it easy to generate those statistics or visualizations."
   ]
  },
  {
   "cell_type": "markdown",
   "metadata": {},
   "source": [
    "## Tabular Data\n",
    "\n",
    "One of the most ubiquitous data formats that data analysts work with is tabular data. Tabular data is organized into rows, or observations, along the horizontal axis, and columns, also referred to as variables or features, along the vertical axis.\n",
    "\n",
    "In Python, the pandas library provides a framework for working with tabular data using a data structure called a DataFrame. It is relatively simple to transform, investigate, and answer questions using data if it is stored in this way. When working with data that can be organized into observations and variables, it is, therefore, helpful to arrange it in a tabular format."
   ]
  },
  {
   "cell_type": "markdown",
   "metadata": {},
   "source": [
    "## Re-Shaping Tabular Data\n",
    "\n",
    "When working with tabular data, we often need to ask ourselves if the configuration of the rows and columns is appropriate for answering the questions we care about.\n",
    "\n",
    "It is often useful to convert wide data into long format. In pandas, this can be accomplished with the .melt() method, which effectively converts the columns in our dataset into rows."
   ]
  },
  {
   "cell_type": "markdown",
   "metadata": {},
   "source": [
    "## Non-tabular Data\n",
    "\n",
    "Sometimes data does not conform to a tabular format at all. For example, data may be stored in a semi-structured format such as a JSON or XML (which look more like a dictionary), or it may be in an unstructured format such as an image or video file (which are themselves data). When working with information that cannot be arranged into rows and columns, we often need to rely on different techniques to perform EDA."
   ]
  },
  {
   "cell_type": "markdown",
   "metadata": {},
   "source": [
    "## Exploratory Data Analysis (EDA) \n",
    "\n",
    "<a> https://www.itl.nist.gov/div898/handbook/eda/section1/eda11.htm </a>\n",
    "\n",
    "Is an approach/philosophy for data analysis that employs a variety of techniques (mostly graphical) to\n",
    "1. maximize insight into a data set;\n",
    "2. uncover underlying structure;\n",
    "3. extract important variables;\n",
    "4. detect outliers and anomalies;\n",
    "5. test underlying assumptions;\n",
    "6. develop parsimonious models; and\n",
    "7. determine optimal factor settings.\n",
    "\n",
    "The EDA approach is precisely that--an approach--not a set of techniques, but an attitude/philosophy about how a data analysis should be carried out.\n",
    "\n",
    "EDA is not identical to statistical graphics although the two terms are used almost interchangeably. Statistical graphics is a collection of techniques--all graphically based and all focusing on one data characterization aspect. EDA encompasses a larger venue; EDA is an approach to data analysis that postpones the usual assumptions about what kind of model the data follow with the more direct approach of allowing the data itself to reveal its underlying structure and model. EDA is not a mere collection of techniques; EDA is a philosophy as to how we dissect a data set; what we look for; how we look; and how we interpret. It is true that EDA heavily uses the collection of techniques that we call \"statistical graphics\", but it is not identical to statistical graphics per se.\n",
    "\n",
    "The seminal work in EDA is Exploratory Data Analysis, Tukey, (1977). Over the years it has benefitted from other noteworthy publications such as Data Analysis and Regression, Mosteller and Tukey (1977), Interactive Data Analysis, Hoaglin (1977), The ABC's of EDA, Velleman and Hoaglin (1981) and has gained a large following as \"the\" way to analyze a data set.\n",
    "\n",
    "Most EDA techniques are graphical in nature with a few quantitative techniques. The reason for the heavy reliance on graphics is that by its very nature the main role of EDA is to open-mindedly explore, and graphics gives the analysts unparalleled power to do so, enticing the data to reveal its structural secrets, and being always ready to gain some new, often unsuspected, insight into the data. In combination with the natural pattern-recognition capabilities that we all possess, graphics provides, of course, unparalleled power to carry this out.\n",
    "The particular graphical techniques employed in EDA are often quite simple, consisting of various techniques of:\n",
    "\n",
    "Plotting the raw data (such as data traces, histograms, bihistograms, probability plots, lag plots, block plots, and Youden plots.\n",
    "Plotting simple statistics such as mean plots, standard deviation plots, box plots, and main effects plots of the raw data.\n",
    "Positioning such plots so as to maximize our natural pattern-recognition abilities, such as using multiple plots per page."
   ]
  },
  {
   "cell_type": "code",
   "execution_count": null,
   "metadata": {},
   "outputs": [],
   "source": []
  }
 ],
 "metadata": {
  "kernelspec": {
   "display_name": "Python 3",
   "language": "python",
   "name": "python3"
  },
  "language_info": {
   "codemirror_mode": {
    "name": "ipython",
    "version": 3
   },
   "file_extension": ".py",
   "mimetype": "text/x-python",
   "name": "python",
   "nbconvert_exporter": "python",
   "pygments_lexer": "ipython3",
   "version": "3.8.5"
  }
 },
 "nbformat": 4,
 "nbformat_minor": 4
}
