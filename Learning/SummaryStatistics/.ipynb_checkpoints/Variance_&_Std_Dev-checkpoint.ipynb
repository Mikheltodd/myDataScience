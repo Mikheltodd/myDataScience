{
 "cells": [
  {
   "cell_type": "markdown",
   "metadata": {},
   "source": [
    "## Variance\n",
    "\n",
    "Variance is a descriptive statistic that describes how spread out the points in a data set are."
   ]
  },
  {
   "cell_type": "code",
   "execution_count": 1,
   "metadata": {},
   "outputs": [
    {
     "name": "stdout",
     "output_type": "stream",
     "text": [
      "Teacher One mean: 84.46766666666666\n",
      "Teacher Two mean: 84.298\n"
     ]
    },
    {
     "data": {
      "image/png": "[encoded data removed]",
      "text/plain": [
       "<Figure size 432x288 with 2 Axes>"
      ]
     },
     "metadata": {
      "needs_background": "light"
     },
     "output_type": "display_data"
    }
   ],
   "source": [
    "import numpy as np\n",
    "import matplotlib.pyplot as plt\n",
    "\n",
    "teacher_one_grades = [83.42, 88.04, 82.12, 85.02, 82.52, 87.47, 84.69, 85.18, 86.29, 85.53, 81.29, 82.54, 83.47, 83.91, 86.83, 88.5, 84.95, 83.79, 84.74, 84.03, 87.62, 81.15, 83.45, 80.24, 82.76, 83.98, 84.95, 83.37, 84.89, 87.29]\n",
    "teacher_two_grades = [85.15, 95.64, 84.73, 71.46, 95.99, 81.61, 86.55, 79.81, 77.06, 92.86, 83.67, 73.63, 90.12, 80.64, 78.46, 76.86, 104.4, 88.53, 74.62, 91.27, 76.53, 94.37, 84.74, 81.84, 97.69, 70.77, 84.44, 88.06, 91.62, 65.82]\n",
    "\n",
    "print(\"Teacher One mean: \" + str(np.mean(teacher_one_grades)))\n",
    "print(\"Teacher Two mean: \" + str(np.mean(teacher_two_grades)))\n",
    "\n",
    "plt.subplot(211)\n",
    "plt.title(\"Teacher One Grades\")\n",
    "plt.xlabel(\"Grades\")\n",
    "plt.hist(teacher_one_grades)\n",
    "plt.xlim(65, 105)\n",
    "\n",
    "\n",
    "plt.subplot(212)\n",
    "plt.title(\"Teacher Two Grades\")\n",
    "plt.xlabel(\"Grades\")\n",
    "plt.hist(teacher_two_grades, bins = 20)\n",
    "plt.xlim(65, 105)\n",
    "\n",
    "plt.tight_layout()\n",
    "plt.show()\n"
   ]
  },
  {
   "cell_type": "markdown",
   "metadata": {},
   "source": [
    "### Distance From Mean\n",
    "\n",
    "If the data is close together, then each data point will tend to be close to the mean, and the difference will be small. If the data is spread out, the difference between every data point and the mean will be larger.\n",
    "\n",
    "Mathematically, we can write this comparison as\n",
    "\n",
    "    difference = X−μ\n",
    "\n",
    "Where X is a single data point and the Greek letter mu is the mean."
   ]
  },
  {
   "cell_type": "code",
   "execution_count": 2,
   "metadata": {},
   "outputs": [
    {
     "name": "stdout",
     "output_type": "stream",
     "text": [
      "The mean of the data set is 85.8\n",
      "\n",
      "The first student is 2.2 percentage points away from the mean.\n",
      "The second student is -3.8 percentage points away from the mean.\n",
      "The third student is -0.8 percentage points away from the mean.\n",
      "The fourth student is -1.8 percentage points away from the mean.\n",
      "The fifth student is 4.2 percentage points away from the mean.\n"
     ]
    }
   ],
   "source": [
    "grades = [88, 82, 85, 84, 90]\n",
    "mean = np.mean(grades)\n",
    "\n",
    "difference_one = grades[0] - mean\n",
    "difference_two = grades[1] - mean\n",
    "difference_three = grades[2] - mean\n",
    "difference_four = grades[3] - mean\n",
    "difference_five = grades[4] - mean\n",
    "\n",
    "\n",
    "# IGNORE CODE BELOW HERE\n",
    "print(\"The mean of the data set is \" + str(mean) + \"\\n\")\n",
    "print(\"The first student is \" +str(round(difference_one, 2)) + \" percentage points away from the mean.\")\n",
    "print(\"The second student is \" +str(round(difference_two, 2)) + \" percentage points away from the mean.\")\n",
    "print(\"The third student is \" +str(round(difference_three, 2)) + \" percentage points away from the mean.\")\n",
    "print(\"The fourth student is \" +str(round(difference_four, 2)) + \" percentage points away from the mean.\")\n",
    "print(\"The fifth student is \" +str(round(difference_five, 2)) + \" percentage points away from the mean.\")"
   ]
  },
  {
   "cell_type": "markdown",
   "metadata": {},
   "source": [
    "### Average Distances\n",
    "\n",
    "We don’t want to report five values — we want to combine those into one descriptive statistic. By adding those numbers together and dividing by 5, we’ll end up with a single number that describes the average distance between our data points and the mean."
   ]
  },
  {
   "cell_type": "code",
   "execution_count": 3,
   "metadata": {},
   "outputs": [
    {
     "name": "stdout",
     "output_type": "stream",
     "text": [
      "The sum of the differences is 0.000000\n",
      "The average difference is 0.000000\n"
     ]
    }
   ],
   "source": [
    "#Part 1: Sum the differences\n",
    "difference_sum = difference_one + difference_two + difference_three + difference_four + difference_five\n",
    "\n",
    "#Part 2: Average the differences\n",
    "average_difference = difference_sum/5\n",
    "\n",
    "#IGNORE CODE BELOW HERE\n",
    "print(\"The sum of the differences is \" + str(format(difference_sum, \"f\")))\n",
    "print(\"The average difference is \" + str(format(average_difference, \"f\")))"
   ]
  },
  {
   "cell_type": "markdown",
   "metadata": {},
   "source": [
    "### Square The Differences\n",
    "\n",
    "When calculating variance, we don’t care if a data point was above or below the mean — all we care about is how far away it was. To get rid of those pesky negative numbers, we’ll square the difference between each data point and the mean.\n",
    "\n",
    "Our equation for finding the difference between a data point and the mean now looks like this:\n",
    "\n",
    "    difference = (X−μ)^2"
   ]
  },
  {
   "cell_type": "code",
   "execution_count": 4,
   "metadata": {},
   "outputs": [
    {
     "name": "stdout",
     "output_type": "stream",
     "text": [
      "The sum of the differences is 40.80\n",
      "The average difference is 8.16\n"
     ]
    }
   ],
   "source": [
    "difference_one = (grades[0] - mean)**2\n",
    "difference_two = (grades[1] - mean)**2\n",
    "difference_three = (grades[2] - mean)**2\n",
    "difference_four = (grades[3] - mean)**2\n",
    "difference_five = (grades[4] - mean)**2\n",
    "\n",
    "difference_sum = difference_one + difference_two + difference_three + difference_four + difference_five\n",
    "\n",
    "average_difference = difference_sum/5\n",
    "\n",
    "print(\"The sum of the differences is \" + str(format(difference_sum, \".2f\")))\n",
    "print(\"The average difference is \" + str(format(average_difference, \".2f\")))"
   ]
  },
  {
   "attachments": {
    "image.png": {
     "image/png": "[encoded data removed]"
    }
   },
   "cell_type": "markdown",
   "metadata": {},
   "source": [
    "### Variance In NumPy\n",
    "\n",
    "![image.png](attachment:image.png)\n",
    "\n",
    "Variance is usually represented by the symbol sigma squared.\n",
    "We start by taking every point in the dataset — from point number 1 to point number N — and finding the difference between that point and the mean.\n",
    "Next, we square each difference to make all differences positive.\n",
    "Finally, we average those squared differences by adding them together and dividing by N, the total number of points in the dataset.\n",
    "\n",
    "All of this work can be done quickly using Python’s NumPy library. The var() function takes a list of numbers as a parameter and returns the variance of that dataset."
   ]
  },
  {
   "cell_type": "code",
   "execution_count": 5,
   "metadata": {},
   "outputs": [
    {
     "data": {
      "image/png": "[encoded data removed]",
      "text/plain": [
       "<Figure size 432x288 with 1 Axes>"
      ]
     },
     "metadata": {
      "needs_background": "light"
     },
     "output_type": "display_data"
    },
    {
     "name": "stdout",
     "output_type": "stream",
     "text": [
      "The mean of the test scores in teacher one's class is 84.47\n",
      "The mean of the test scores in teacher two's class is 84.30\n",
      "The variance of the test scores in teacher one's class is 4.27\n",
      "The variance of the test scores in teacher two's class is 78.13\n"
     ]
    }
   ],
   "source": [
    "teacher_one_grades = [80.24, 81.15, 81.29, 82.12, 82.52, 82.54, 82.76, 83.37, 83.42, 83.45, 83.47, 83.79, 83.91, 83.98, 84.03, 84.69, 84.74, 84.89, 84.95, 84.95, 85.02, 85.18, 85.53, 86.29, 86.83, 87.29, 87.47, 87.62, 88.04, 88.5]\n",
    "teacher_two_grades = [65.82, 70.77, 71.46, 73.63, 74.62, 76.53, 76.86, 77.06, 78.46, 79.81, 80.64, 81.61, 81.84, 83.67, 84.44, 84.73, 84.74, 85.15, 86.55, 88.06, 88.53, 90.12, 91.27, 91.62, 92.86, 94.37, 95.64, 95.99, 97.69, 104.4]\n",
    "\n",
    "#Set these two variables equal to the variance of each dataset using NumPy\n",
    "teacher_one_variance = np.var(teacher_one_grades)\n",
    "teacher_two_variance = np.var(teacher_two_grades)\n",
    "\n",
    "\n",
    "#IGNORE THE CODE BELOW HERE\n",
    "plt.hist(teacher_one_grades, alpha = 0.75, label = \"Teacher 1 Scores\", bins = 7)\n",
    "plt.hist(teacher_two_grades, alpha = 0.5, label = \"Teacher 2 Scores\", bins = 30)\n",
    "plt.title(\"Student test grades in two different classes\")\n",
    "plt.xlabel(\"Grades\")\n",
    "plt.legend()\n",
    "plt.show()\n",
    "\n",
    "print(\"The mean of the test scores in teacher one's class is \" + str(format(np.mean(teacher_one_grades), '.2f')))\n",
    "print(\"The mean of the test scores in teacher two's class is \" + str(format(np.mean(teacher_two_grades), '.2f')))\n",
    "\n",
    "print(\"The variance of the test scores in teacher one's class is \" +str(format(teacher_one_variance, '.2f')))\n",
    "print(\"The variance of the test scores in teacher two's class is \" +str(format(teacher_two_variance, '.2f')))\n"
   ]
  },
  {
   "cell_type": "markdown",
   "metadata": {},
   "source": [
    "Variance is useful because it is a measure of spread. While we might get a general understanding of the spread by looking at a histogram, computing the variance gives us a numerical value that helps us describe the level of confidence of our comparison."
   ]
  },
  {
   "cell_type": "code",
   "execution_count": 6,
   "metadata": {},
   "outputs": [
    {
     "name": "stdout",
     "output_type": "stream",
     "text": [
      "The mean of the first dataset is 0.3133598953586999\n",
      "The mean of the second dataset is 0.052765836772589864\n",
      "\n",
      "The variance of the first dataset is 101.08049221124125\n",
      "The variance of the second dataset is 124.74518342780365\n"
     ]
    },
    {
     "data": {
      "image/png": "[encoded data removed]",
      "text/plain": [
       "<Figure size 432x288 with 1 Axes>"
      ]
     },
     "metadata": {
      "needs_background": "light"
     },
     "output_type": "display_data"
    }
   ],
   "source": [
    "from datasets import dataset_one, dataset_two\n",
    "\n",
    "plt.hist(dataset_one, alpha =0.75, label = \"dataset_one\", bins = 80)\n",
    "plt.hist(dataset_two, alpha = 0.5, label = \"dataset_two\", bins = 80)\n",
    "plt.legend()\n",
    "\n",
    "print(\"The mean of the first dataset is \" + str(np.mean(dataset_one)))\n",
    "print(\"The mean of the second dataset is \" + str(np.mean(dataset_two)) + \"\\n\")\n",
    "\n",
    "print(\"The variance of the first dataset is \" + str(np.var(dataset_one)))\n",
    "print(\"The variance of the second dataset is \" + str(np.var(dataset_two)))\n",
    "\n",
    "plt.show()\n"
   ]
  },
  {
   "cell_type": "code",
   "execution_count": 7,
   "metadata": {},
   "outputs": [
    {
     "data": {
      "image/png": "[encoded data removed]",
      "text/plain": [
       "<Figure size 432x288 with 1 Axes>"
      ]
     },
     "metadata": {
      "needs_background": "light"
     },
     "output_type": "display_data"
    },
    {
     "name": "stdout",
     "output_type": "stream",
     "text": [
      "The variance of the NBA dataset is 13.323744000000001\n",
      "The variance of the OkCupid dataset is 15.400604\n",
      "\n",
      "The mean of the NBA dataset is 77.984 inches\n",
      "The mean of the OkCupid dataset is 68.414 inches\n"
     ]
    }
   ],
   "source": [
    "from datasets2 import nba_data, okcupid_data\n",
    "\n",
    "plt.hist(nba_data, alpha = 0.75, label = \"NBA Data\", bins = 20)\n",
    "plt.hist(okcupid_data, alpha = 0.5, label = \"OkCupid Data\", bins = 20)\n",
    "plt.xlabel(\"Height (inches)\")\n",
    "plt.legend()\n",
    "plt.show()\n",
    "\n",
    "print(\"The variance of the NBA dataset is \" +str(np.var(nba_data)))\n",
    "print(\"The variance of the OkCupid dataset is \" +str(np.var(okcupid_data)) + \"\\n\")\n",
    "print(\"The mean of the NBA dataset is \" +str(np.mean(nba_data)) + \" inches\")\n",
    "print(\"The mean of the OkCupid dataset is \" +str(np.mean(okcupid_data)) + \" inches\")"
   ]
  },
  {
   "attachments": {
    "image.png": {
     "image/png": "[encoded data removed]"
    }
   },
   "cell_type": "markdown",
   "metadata": {},
   "source": [
    "## Standard Deviation\n",
    "\n",
    "Standard deviation is computed by taking the square root of the variance. sigma is the symbol commonly used for standard deviation.\n",
    "![image.png](attachment:image.png)"
   ]
  },
  {
   "cell_type": "code",
   "execution_count": 8,
   "metadata": {},
   "outputs": [
    {
     "name": "stdout",
     "output_type": "stream",
     "text": [
      "The standard deviation of the NBA dataset is 3.6501704069810224\n",
      "The standard deviation of the OkCupid dataset is 3.924360330041063\n"
     ]
    }
   ],
   "source": [
    "nba_variance = np.var(nba_data)\n",
    "okcupid_variance = np.var(okcupid_data)\n",
    "\n",
    "nba_standard_deviation = nba_variance**0.5\n",
    "okcupid_standard_deviation = okcupid_variance**0.5\n",
    "\n",
    "print(\"The standard deviation of the NBA dataset is \" +str(nba_standard_deviation))\n",
    "print(\"The standard deviation of the OkCupid dataset is \" + str(okcupid_standard_deviation))"
   ]
  },
  {
   "cell_type": "markdown",
   "metadata": {},
   "source": [
    "### Standard Deviation in NumPy\n",
    "\n",
    "There is a NumPy function dedicated to finding the standard deviation of a dataset — we can cut out the step of first finding the variance. The NumPy function std() takes a dataset as a parameter and returns the standard deviation of that dataset"
   ]
  },
  {
   "cell_type": "code",
   "execution_count": 9,
   "metadata": {},
   "outputs": [
    {
     "name": "stdout",
     "output_type": "stream",
     "text": [
      "The standard deviation of the NBA dataset is 3.6501704069810224\n",
      "The standard deviation of the OkCupid dataset is 3.924360330041063\n"
     ]
    }
   ],
   "source": [
    "nba_standard_deviation = np.std(nba_data)\n",
    "okcupid_standard_deviation = np.std(okcupid_data)\n",
    "\n",
    "print(\"The standard deviation of the NBA dataset is \" +str(nba_standard_deviation))\n",
    "print(\"The standard deviation of the OkCupid dataset is \" + str(okcupid_standard_deviation))"
   ]
  },
  {
   "cell_type": "markdown",
   "metadata": {},
   "source": [
    "### How rare?\n",
    "\n",
    "By finding the number of standard deviations a data point is away from the mean, we can begin to investigate how unusual that datapoint truly is. In fact, you can usually expect around **68% of your data to fall within one standard deviation** of the mean, **95% of your data to fall within two standard deviations** of the mean, and **99.7% of your data to fall within three standard deviations** of the mean."
   ]
  },
  {
   "cell_type": "code",
   "execution_count": 10,
   "metadata": {},
   "outputs": [
    {
     "name": "stdout",
     "output_type": "stream",
     "text": [
      "Your basketball player is 0.5523029818400713 standard deviations away from the mean of NBA player heights\n",
      "\n",
      "Your basketball player is 2.9523282842579257 standard deviations away from the mean of OkCupid profile heights\n"
     ]
    }
   ],
   "source": [
    "nba_mean = np.mean(nba_data)\n",
    "okcupid_mean = np.mean(okcupid_data)\n",
    "\n",
    "nba_standard_deviation = np.std(nba_data)\n",
    "okcupid_standard_deviation = np.std(okcupid_data)\n",
    "\n",
    "#Step 1: Calculate the difference between the player's height and the means\n",
    "nba_difference = 80 - nba_mean\n",
    "okcupid_difference = 80 - okcupid_mean\n",
    "\n",
    "#Step 2: Use the difference between the point and the mean to find how many standard deviations the player is away from the mean.\n",
    "\n",
    "num_nba_deviations = nba_difference/nba_standard_deviation\n",
    "num_okcupid_deviations = okcupid_difference/okcupid_standard_deviation\n",
    "\n",
    "\n",
    "print(\"Your basketball player is \" + str(num_nba_deviations) + \" standard deviations away from the mean of NBA player heights\\n\")\n",
    "print(\"Your basketball player is \" + str(num_okcupid_deviations) + \" standard deviations away from the mean of OkCupid profile heights\")"
   ]
  },
  {
   "cell_type": "markdown",
   "metadata": {},
   "source": [
    "Lebron James (80 inches) is 0.55 standard deviations above the mean of NBA player heights. He’s taller than average, but compared to the other NBA players, he’s not absurdly tall.\n",
    "\n",
    "However, compared to the OkCupid dating pool, he is extremely rare! He’s almost three full standard deviations above the mean. You’d expect only about 0.15% of people on OkCupid to be more than 3 standard deviations away from the mean."
   ]
  },
  {
   "cell_type": "code",
   "execution_count": 11,
   "metadata": {},
   "outputs": [
    {
     "data": {
      "image/png": "[encoded data removed]",
      "text/plain": [
       "<Figure size 432x288 with 2 Axes>"
      ]
     },
     "metadata": {
      "needs_background": "light"
     },
     "output_type": "display_data"
    }
   ],
   "source": [
    "nba_mean = np.mean(nba_data)\n",
    "okcupid_mean = np.mean(okcupid_data)\n",
    "\n",
    "#Change this variable to your height (in inches)!\n",
    "your_height = 67.7\n",
    "\n",
    "nba_standard_deviation = np.std(nba_data)\n",
    "okcupid_standard_deviation = np.std(okcupid_data)\n",
    "\n",
    "plt.subplot(211)\n",
    "plt.title(\"NBA Player Heights\")\n",
    "plt.xlabel(\"Height (inches)\")\n",
    "\n",
    "plt.hist(nba_data)\n",
    "\n",
    "plt.axvline(nba_mean, color='#FD4E40', linestyle='solid', linewidth=2, label = \"Mean\")\n",
    "\n",
    "plt.axvline(nba_mean + nba_standard_deviation, color='#FFB908', linestyle='solid', linewidth=2, label = \"Standard Deviations\")\n",
    "plt.axvline(nba_mean - nba_standard_deviation, color='#FFB908', linestyle='solid', linewidth=2)\n",
    "\n",
    "plt.axvline(nba_mean + nba_standard_deviation * 2, color='#FFB908', linestyle='solid', linewidth=2)\n",
    "plt.axvline(nba_mean - nba_standard_deviation * 2, color='#FFB908', linestyle='solid', linewidth=2)\n",
    "\n",
    "plt.axvline(nba_mean + nba_standard_deviation * 3, color='#FFB908', linestyle='solid', linewidth=2)\n",
    "plt.axvline(nba_mean - nba_standard_deviation * 3, color='#FFB908', linestyle='solid', linewidth=2)\n",
    "\n",
    "plt.axvline(your_height, color='#62EDBF', linestyle='solid', linewidth=2, label = \"You\")\n",
    "\n",
    "plt.xlim(55, 90)\n",
    "plt.legend()\n",
    "\n",
    "\n",
    "plt.subplot(212)\n",
    "plt.title(\"OkCupid Profile Heights\")\n",
    "plt.xlabel(\"Height (inches)\")\n",
    "\n",
    "plt.hist(okcupid_data)\n",
    "\n",
    "plt.axvline(okcupid_mean, color='#FD4E40', linestyle='solid', linewidth=2, label = \"Mean\")\n",
    "\n",
    "plt.axvline(okcupid_mean + okcupid_standard_deviation, color='#FFB908', linestyle='solid', linewidth=2, label = \"Standard Deviations\")\n",
    "plt.axvline(okcupid_mean - okcupid_standard_deviation, color='#FFB908', linestyle='solid', linewidth=2)\n",
    "\n",
    "plt.axvline(okcupid_mean + okcupid_standard_deviation * 2, color='#FFB908', linestyle='solid', linewidth=2)\n",
    "plt.axvline(okcupid_mean - okcupid_standard_deviation * 2, color='#FFB908', linestyle='solid', linewidth=2)\n",
    "\n",
    "plt.axvline(okcupid_mean + okcupid_standard_deviation * 3, color='#FFB908', linestyle='solid', linewidth=2)\n",
    "plt.axvline(okcupid_mean - okcupid_standard_deviation * 3, color='#FFB908', linestyle='solid', linewidth=2)\n",
    "\n",
    "plt.axvline(your_height, color='#62EDBF', linestyle='solid', linewidth=2, label = \"You\")\n",
    "\n",
    "plt.xlim(55, 90)\n",
    "plt.legend()\n",
    "\n",
    "plt.tight_layout()\n",
    "plt.show()\n"
   ]
  },
  {
   "cell_type": "code",
   "execution_count": null,
   "metadata": {},
   "outputs": [],
   "source": []
  }
 ],
 "metadata": {
  "kernelspec": {
   "display_name": "Python 3",
   "language": "python",
   "name": "python3"
  },
  "language_info": {
   "codemirror_mode": {
    "name": "ipython",
    "version": 3
   },
   "file_extension": ".py",
   "mimetype": "text/x-python",
   "name": "python",
   "nbconvert_exporter": "python",
   "pygments_lexer": "ipython3",
   "version": "3.8.5"
  }
 },
 "nbformat": 4,
 "nbformat_minor": 4
}
