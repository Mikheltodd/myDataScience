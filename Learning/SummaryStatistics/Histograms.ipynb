{
 "cells": [
  {
   "cell_type": "markdown",
   "metadata": {},
   "source": [
    "# Histograms\n",
    "\n",
    "Statistics is often pitched as a way to find certainty through data. The power of statistics is more often used to communicate that certainty doesn’t really exist. Instead, it provides tools to communicate how uncertain we are about a problem.\n",
    "\n",
    "There’s no better tool to visualize the uncertainty and chaos in data than a histogram. A histogram displays the distribution of your underlying data."
   ]
  },
  {
   "cell_type": "code",
   "execution_count": 1,
   "metadata": {},
   "outputs": [
    {
     "data": {
      "image/png": "[encoded data removed]",
      "text/plain": [
       "<Figure size 432x288 with 1 Axes>"
      ]
     },
     "metadata": {
      "needs_background": "light"
     },
     "output_type": "display_data"
    }
   ],
   "source": [
    "# Import packages\n",
    "\n",
    "import numpy as np\n",
    "import pandas as pd\n",
    "\n",
    "# Import matplotlib pyplot\n",
    "from matplotlib import pyplot as plt\n",
    "\n",
    "# Read in transactions data\n",
    "mu, sigma = 800, 100 # mean and standard deviation\n",
    "burrito_calories = np.random.normal(mu, sigma, 320)\n",
    "\n",
    "# Save transaction times to a separate numpy array\n",
    "plt.hist(burrito_calories, range=(250, 1250), bins=100,  edgecolor='black')\n",
    "plt.title(\"Calories in a Burrito Bowl\", fontsize = 24)\n",
    "plt.xlabel(\"Calories\", fontsize=18)\n",
    "plt.ylabel(\"Count\", fontsize=18)\n",
    "\n",
    "plt.show()"
   ]
  },
  {
   "cell_type": "markdown",
   "metadata": {},
   "source": [
    "## Summarizing Your Data\n",
    "\n",
    "The purpose of a histogram is to summarize data that you can use to inform a decision or explain a distribution."
   ]
  },
  {
   "cell_type": "code",
   "execution_count": 2,
   "metadata": {},
   "outputs": [
    {
     "name": "stdout",
     "output_type": "stream",
     "text": [
      "     Transaction Time        Cost\n",
      "0            7.939419   98.422021\n",
      "1            4.314811   87.329861\n",
      "2            6.394080  112.334882\n",
      "3            7.031504   87.570689\n",
      "4            5.840730   97.321191\n",
      "..                ...         ...\n",
      "995         18.728278   34.802198\n",
      "996         18.183858   36.349422\n",
      "997         16.803236   59.230032\n",
      "998         19.680992   23.748946\n",
      "999         23.369355   57.442948\n",
      "\n",
      "[1000 rows x 2 columns]\n",
      "14.943439668312365\n"
     ]
    }
   ],
   "source": [
    "# Import packages\n",
    "# import numpy as np\n",
    "# import pandas as pd\n",
    "\n",
    "# Read in transactions data\n",
    "transactions = pd.read_csv(\"transactions.csv\")\n",
    "transactions = transactions.drop([\"Unnamed: 0\"], axis = 1)\n",
    "\n",
    "# Save transaction times to a separate numpy array\n",
    "times = transactions[\"Transaction Time\"].values\n",
    "cost = transactions[\"Cost\"].values\n",
    "\n",
    "# Print transactions below\n",
    "print(transactions)\n",
    "\n",
    "# Print the average times below\n",
    "print(np.average(times))\n"
   ]
  },
  {
   "cell_type": "markdown",
   "metadata": {},
   "source": [
    "## Range\n",
    "\n",
    "Histograms are helpful for understanding how your data is distributed. With the minimums and maximums, you can calculate the range.\n",
    "\n",
    "The range of your data is the difference between the maximum value and the minimum value in your dataset."
   ]
  },
  {
   "cell_type": "code",
   "execution_count": 3,
   "metadata": {},
   "outputs": [
    {
     "name": "stdout",
     "output_type": "stream",
     "text": [
      "Earliest Time: 0.02661518360957871\n",
      "Latest Time: 23.675374635328755\n",
      "Time Range: 23.648759451719176\n"
     ]
    }
   ],
   "source": [
    "# Find the minimum time, maximum time, and range\n",
    "min_time = np.amin(times) # <-- Replace with min calc\n",
    "max_time = np.amax(times) # <-- Replace with max calc\n",
    "range_time = max_time - min_time # <-- Replace max - min\n",
    "\n",
    "# Printing the values\n",
    "print(\"Earliest Time: \" + str(min_time))\n",
    "print(\"Latest Time: \" + str(max_time))\n",
    "print(\"Time Range: \" + str(range_time))"
   ]
  },
  {
   "cell_type": "markdown",
   "metadata": {},
   "source": [
    "## Bins and Counts\n",
    "\n",
    "The two key features of a histogram are bins and counts.\n",
    "\n",
    "A bin is a sub-range of values that falls within the range of a dataset. Additionally, all bins in a histogram must be the same width.\n",
    "\n",
    "A count is the number of values that fall within a bin’s range. For example, if 100 customers arrive at your grocery store between midnight (0) and 6 am (6), your count for that bin is equal to 100."
   ]
  },
  {
   "cell_type": "code",
   "execution_count": 4,
   "metadata": {},
   "outputs": [
    {
     "name": "stdout",
     "output_type": "stream",
     "text": [
      "Bins: 3\n",
      "Bin Width: 3.0\n"
     ]
    }
   ],
   "source": [
    "# Array of days old bread\n",
    "days_old_bread = np.array([0, 8, 7, 8, 0, 2, 3, 5, 6, 2])\n",
    "\n",
    "# Set the minimum and maximums of the array below\n",
    "min_days_old = np.amin(days_old_bread)\n",
    "max_days_old = np.amax(days_old_bread)\n",
    "\n",
    "# Set the number of bins to 3\n",
    "bins = 3\n",
    "\n",
    "# Calculate the bin range\n",
    "try:\n",
    "\tbin_range = (max_days_old - min_days_old + 1) / bins\n",
    "\tprint(\"Bins: \" + str(bins))\n",
    "\tprint(\"Bin Width: \" + str(bin_range))\n",
    "# Printing the values\n",
    "except:\n",
    "\tprint(\"You have not set the min, max, or bins values yet.\")"
   ]
  },
  {
   "cell_type": "code",
   "execution_count": 5,
   "metadata": {},
   "outputs": [
    {
     "name": "stdout",
     "output_type": "stream",
     "text": [
      "Between 0 and 2 days: 4\n",
      "Between 3 and 5 days: 2\n",
      "Between 6 and 8 days: 4\n"
     ]
    }
   ],
   "source": [
    "# Array of days old bread\n",
    "days_old_bread = np.array([0, 8, 7, 8, 0, 2, 3, 5, 6, 2])\n",
    "\n",
    "# Count the values in each bin \n",
    "days_old_012 = 4\n",
    "days_old_345 = 2\n",
    "days_old_678 = 4\n",
    "\n",
    "# Printing the values\n",
    "print(\"Between 0 and 2 days: \" + str(days_old_012))\n",
    "print(\"Between 3 and 5 days: \" + str(days_old_345))\n",
    "print(\"Between 6 and 8 days: \" + str(days_old_678))"
   ]
  },
  {
   "cell_type": "markdown",
   "metadata": {},
   "source": [
    "## Histograms"
   ]
  },
  {
   "cell_type": "code",
   "execution_count": 6,
   "metadata": {},
   "outputs": [
    {
     "name": "stdout",
     "output_type": "stream",
     "text": [
      "(array([101, 231, 213, 455], dtype=int64), array([ 0.,  6., 12., 18., 24.]))\n"
     ]
    }
   ],
   "source": [
    "times_hist = np.histogram(times, range = (0, 24), bins = 4)\n",
    "\n",
    "print(times_hist)"
   ]
  },
  {
   "cell_type": "code",
   "execution_count": 7,
   "metadata": {},
   "outputs": [
    {
     "data": {
      "image/png": "[encoded data removed]",
      "text/plain": [
       "<Figure size 432x288 with 1 Axes>"
      ]
     },
     "metadata": {
      "needs_background": "light"
     },
     "output_type": "display_data"
    }
   ],
   "source": [
    "# from matplotlib import pyplot as plt\n",
    "plt.hist(times, range=(0, 24), bins=4,  edgecolor='black')\n",
    "plt.title(\"Weekday Frequency of Customers\")\n",
    "plt.xlabel(\"Hours (1 hour increments)\")\n",
    "plt.ylabel(\"Count\")\n",
    " \n",
    "plt.show()"
   ]
  },
  {
   "cell_type": "markdown",
   "metadata": {},
   "source": [
    "## Finding your Best Bin Size\n",
    "\n",
    "Often, this will require some guessing and checking. There isn’t much of a science to selecting bin size."
   ]
  },
  {
   "cell_type": "code",
   "execution_count": 8,
   "metadata": {},
   "outputs": [
    {
     "data": {
      "image/png": "[encoded data removed]",
      "text/plain": [
       "<Figure size 432x288 with 1 Axes>"
      ]
     },
     "metadata": {
      "needs_background": "light"
     },
     "output_type": "display_data"
    }
   ],
   "source": [
    "plt.hist(times, range=(0, 24), bins=24,  edgecolor='black')\n",
    "plt.title(\"Weekday Frequency of Customers\")\n",
    "plt.xlabel(\"Hours (1 hour increments)\")\n",
    "plt.ylabel(\"Count\")\n",
    " \n",
    "plt.show()"
   ]
  },
  {
   "cell_type": "code",
   "execution_count": 9,
   "metadata": {},
   "outputs": [
    {
     "data": {
      "image/png": "[encoded data removed]",
      "text/plain": [
       "<Figure size 432x288 with 1 Axes>"
      ]
     },
     "metadata": {
      "needs_background": "light"
     },
     "output_type": "display_data"
    }
   ],
   "source": [
    "plt.hist(cost, range=(np.amin(cost), np.amax(cost)), bins=16,  edgecolor='black')\n",
    "plt.title(\"Transaction Costs\")\n",
    "plt.xlabel(\"Cost ($ US)\")\n",
    "plt.ylabel(\"Count\")\n",
    " \n",
    "plt.show()"
   ]
  },
  {
   "cell_type": "code",
   "execution_count": 11,
   "metadata": {},
   "outputs": [
    {
     "data": {
      "image/png": "[encoded data removed]",
      "text/plain": [
       "<Figure size 432x288 with 2 Axes>"
      ]
     },
     "metadata": {
      "needs_background": "light"
     },
     "output_type": "display_data"
    }
   ],
   "source": [
    "# import numpy as np\n",
    "# from matplotlib import pyplot as plt\n",
    "\n",
    "# load in data\n",
    "in_bloom = np.loadtxt(open(\"in-bloom.csv\"), delimiter=\",\")\n",
    "flights = np.loadtxt(open(\"flights.csv\"), delimiter=\",\")\n",
    "\n",
    "# Plot the histograms\n",
    "plt.figure(1)\n",
    "plt.subplot(211)\n",
    "\n",
    "plt.hist(flights, range=(np.amin(flights), np.amax(flights)), bins=365)\n",
    "# plt.title(\"Flights by Day\")\n",
    "# plt.xlabel(\"Day of the Year\")\n",
    "plt.ylabel(\"Flight Count\")\n",
    "\n",
    "plt.subplot(212)\n",
    "plt.hist(in_bloom, range=(np.amin(in_bloom), np.amax(in_bloom)), bins=365)\n",
    "plt.title(\"Flower Blooms and Flights by Day\")\n",
    "plt.ylabel(\"Bloom Count\")\n",
    "plt.xlabel(\"Day of the Year\")\n",
    "\n",
    "plt.tight_layout()\n",
    "plt.show()"
   ]
  },
  {
   "cell_type": "markdown",
   "metadata": {},
   "source": [
    "## Center\n",
    "\n",
    "While many people know the functions to plot a histogram, few spend the time to learn how to fully, and concisely communicate what it means.\n",
    "\n",
    "One of the most common ways to summarize a dataset is to communicate its center. While it’s good practice to communicate both the average and median values, the average is generally more common."
   ]
  },
  {
   "cell_type": "code",
   "execution_count": 18,
   "metadata": {},
   "outputs": [
    {
     "data": {
      "image/png": "[encoded data removed]",
      "text/plain": [
       "<Figure size 432x288 with 1 Axes>"
      ]
     },
     "metadata": {
      "needs_background": "light"
     },
     "output_type": "display_data"
    },
    {
     "name": "stdout",
     "output_type": "stream",
     "text": [
      "This histogram displays the distribution of chest pain cost for over \n",
      "2,000 hospitals across the United States. The average and median costs are $16948.32 and $14659.6, respectively.\n"
     ]
    }
   ],
   "source": [
    "# import pandas as pd \n",
    "# import numpy as np\n",
    "# from matplotlib import pyplot as plt\n",
    "\n",
    "cp_data = pd.read_csv(\"cp.csv\") \n",
    "\n",
    "cp_average = round(cp_data[' Average Covered Charges '].mean(), 2)\n",
    "\n",
    "cp_median = round(cp_data[' Average Covered Charges '].median(), 2)\n",
    "\n",
    "plt.hist(cp_data[' Average Covered Charges '], bins=20, edgecolor='black')\n",
    "\n",
    "plt.title(\"Distribution of Chest Pain Treatment Cost by Hospital\", fontsize = 16)\n",
    "plt.xlabel(\"Cost ($)\", fontsize = 16)\n",
    "plt.ylabel(\"Count\", fontsize = 16)\n",
    "plt.axvline(cp_average, color='r', linestyle='solid', linewidth=2, label=\"Mean\")\n",
    "plt.axvline(cp_median, color='y', linestyle='solid', linewidth=2, label=\"Median\")\n",
    "plt.legend()\n",
    "\n",
    "plt.show()\n",
    "\n",
    "print(f'This histogram displays the distribution of chest pain cost for over 2,000 hospitals across the United States. The average and median costs are ${cp_average} and ${cp_median}, respectively.')"
   ]
  },
  {
   "cell_type": "markdown",
   "metadata": {},
   "source": [
    "## Spread\n",
    "\n",
    "Once you’ve found the center of your data, you can shift to identifying the extremes of your dataset: the minimum and maximum values. These values, taken with the mean and median, begin to indicate the shape of the underlying dataset. "
   ]
  },
  {
   "cell_type": "code",
   "execution_count": 13,
   "metadata": {},
   "outputs": [
    {
     "name": "stdout",
     "output_type": "stream",
     "text": [
      "The range of costs is very large, $78623.6, with the smallest cost equal to $2459.4 and the largest cost equal to $81083.0.\n"
     ]
    }
   ],
   "source": [
    "min_charge = cp_data[' Average Covered Charges '].min()\n",
    "max_charge = cp_data[' Average Covered Charges '].max()\n",
    "charge_range = max_charge - min_charge\n",
    "print(f'The range of costs is very large, ${charge_range}, with the smallest cost equal to ${min_charge} and the largest cost equal to ${max_charge}.')"
   ]
  },
  {
   "cell_type": "markdown",
   "metadata": {},
   "source": [
    "## Skew\n",
    "\n",
    "Once you have the center and range of your data, you can begin to describe its shape. The skew of a dataset is a description of the data’s symmetry.\n",
    "\n",
    "A dataset with one prominent peak, and similar tails to the left and right is called **symmetric**. The median and mean of a symmetric dataset are similar.\n",
    "\n",
    "A histogram with a tail that extends to the right is called a **right-skewed** dataset. The *median of this dataset is less than the mean*.\n",
    "\n",
    "A histogram with one prominent peak to the right, and a tail that extends to the left is called a **left-skewed** dataset. The *median of this dataset is greater than the mean*."
   ]
  },
  {
   "cell_type": "markdown",
   "metadata": {},
   "source": [
    "## Modality\n",
    "\n",
    "The modality describes the number of peaks in a dataset. Thus far, we have only looked at datasets with one distinct peak, known as *unimodal*. This is the most common.\n",
    "\n",
    "A *bimodal* dataset has two distinct peaks.\n",
    "\n",
    "A *multimodal* dataset has more than two peaks. The histogram below displays three peaks.\n",
    "\n",
    "You may also see datasets with no obvious clustering. Datasets such as these are called uniform distributions."
   ]
  },
  {
   "cell_type": "markdown",
   "metadata": {},
   "source": [
    "## Outliers\n",
    "\n",
    "An outlier is a data point that is far away from the rest of the dataset. Outliers do not have a formal definition, but are easy to determine by looking at histogram. The histogram below shows an example of an oulier. There is one datapoint that is much larger than the rest.\n",
    "\n",
    "If you see an outlier in your dataset, it’s worth reporting and investigating. This data can often indicate an error in your data or an interesting insight."
   ]
  },
  {
   "cell_type": "code",
   "execution_count": 20,
   "metadata": {},
   "outputs": [
    {
     "name": "stdout",
     "output_type": "stream",
     "text": [
      "   Unnamed: 0    DRG Definition  Provider Id  \\\n",
      "0       80531  313 - CHEST PAIN       220108   \n",
      "1       82205  313 - CHEST PAIN        10001   \n",
      "2       82206  313 - CHEST PAIN        10006   \n",
      "3       82207  313 - CHEST PAIN        10007   \n",
      "4       82208  313 - CHEST PAIN        10011   \n",
      "\n",
      "                      Provider Name     Provider Street Address Provider City  \\\n",
      "0               MILTON HOSPITAL INC          199 REEDSDALE ROAD        MILTON   \n",
      "1  SOUTHEAST ALABAMA MEDICAL CENTER      1108 ROSS CLARK CIRCLE        DOTHAN   \n",
      "2    ELIZA COFFEE MEMORIAL HOSPITAL          205 MARENGO STREET      FLORENCE   \n",
      "3          MIZELL MEMORIAL HOSPITAL               702 N MAIN ST           OPP   \n",
      "4                 ST VINCENT'S EAST  50 MEDICAL PARK EAST DRIVE    BIRMINGHAM   \n",
      "\n",
      "  Provider State  Provider Zip Code Hospital Referral Region Description  \\\n",
      "0             MA               2186                          MA - Boston   \n",
      "1             AL              36301                          AL - Dothan   \n",
      "2             AL              35631                      AL - Birmingham   \n",
      "3             AL              36467                          AL - Dothan   \n",
      "4             AL              35235                      AL - Birmingham   \n",
      "\n",
      "    Total Discharges    Average Covered Charges    Average Total Payments   \\\n",
      "0                  43                    6760.53                   3547.00   \n",
      "1                  36                   19540.55                   3428.58   \n",
      "2                  13                   20241.84                   3849.76   \n",
      "3                  34                    6417.20                   2808.08   \n",
      "4                  33                   13311.78                   2997.00   \n",
      "\n",
      "   Average Medicare Payments  \n",
      "0                    2633.04  \n",
      "1                    2093.38  \n",
      "2                    1704.53  \n",
      "3                    1872.38  \n",
      "4                    2113.84  \n",
      "Index(['Unnamed: 0', 'DRG Definition', 'Provider Id', 'Provider Name',\n",
      "       'Provider Street Address', 'Provider City', 'Provider State',\n",
      "       'Provider Zip Code', 'Hospital Referral Region Description',\n",
      "       ' Total Discharges ', ' Average Covered Charges ',\n",
      "       ' Average Total Payments ', 'Average Medicare Payments'],\n",
      "      dtype='object')\n"
     ]
    }
   ],
   "source": [
    "print(cp_data.head())\n",
    "print(cp_data.columns)"
   ]
  },
  {
   "cell_type": "code",
   "execution_count": 24,
   "metadata": {},
   "outputs": [
    {
     "data": {
      "image/png": "[encoded data removed]",
      "text/plain": [
       "<Figure size 432x288 with 1 Axes>"
      ]
     },
     "metadata": {
      "needs_background": "light"
     },
     "output_type": "display_data"
    }
   ],
   "source": [
    "# plt.hist(cp_data[' Average Covered Charges '], bins=20, edgecolor='black')\n",
    "plt.hist(cp_data[' Average Total Payments '], bins=20, edgecolor='black')\n",
    "\n",
    "plt.title(\"Distribution of Chest Pain Treatment Cost by Hospital\", fontsize = 16)\n",
    "plt.xlabel(\"Cost ($)\", fontsize = 16)\n",
    "plt.ylabel(\"Count\", fontsize = 16)\n",
    "plt.axvline(cp_average, color='r', linestyle='solid', linewidth=2, label=\"Mean\")\n",
    "plt.axvline(cp_median, color='y', linestyle='solid', linewidth=2, label=\"Median\")\n",
    "plt.legend()\n",
    "\n",
    "plt.show()"
   ]
  },
  {
   "cell_type": "code",
   "execution_count": 27,
   "metadata": {},
   "outputs": [
    {
     "name": "stdout",
     "output_type": "stream",
     "text": [
      "80.09073873115288\n",
      "79.75422527628585\n"
     ]
    },
    {
     "data": {
      "image/png": "[encoded data removed]",
      "text/plain": [
       "<Figure size 432x288 with 4 Axes>"
      ]
     },
     "metadata": {
      "needs_background": "light"
     },
     "output_type": "display_data"
    }
   ],
   "source": [
    "# import pandas as pd \n",
    "# import numpy as np\n",
    "# from matplotlib import pyplot as plt\n",
    "\n",
    "\n",
    "np.random.seed(1)\n",
    "\n",
    "fig, axes = plt.subplots(nrows=4, ncols=1)\n",
    "\n",
    "plt.subplot(2,2,1)\n",
    "mu, sigma = 80,5\n",
    "exam_1 = np.random.normal(mu, sigma, 120)\n",
    "exam_1[50] = 55\n",
    "exam_1[51] = 55\n",
    "count, bins, ignored = plt.hist(exam_1, 25, range=[50, 100])\n",
    "plt.ylabel(\"Count\", fontsize=12)\n",
    "plt.title(\"Exam 1\", fontsize=14)\n",
    "\n",
    "\n",
    "\n",
    "\n",
    "plt.subplot(2,2,2)\n",
    "mu, sigma = 85,5\n",
    "exam_2_norm = np.random.normal(mu, sigma, 85)\n",
    "exam_2_u = np.random.uniform(60, 80, 35)\n",
    "exam_2 = np.concatenate((exam_2_norm, exam_2_u))\n",
    "\n",
    "count, bins, ignored = plt.hist(exam_2, 25, range=[50, 100])\n",
    "plt.ylabel(\"Count\", fontsize=12)\n",
    "plt.title(\"Exam 2\", fontsize=14)\n",
    "\n",
    "\n",
    "\n",
    "plt.subplot(2,2,3)\n",
    "mu, sigma = 85,5\n",
    "exam_2_norm = np.random.normal(mu, sigma, 70)\n",
    "exam_2_u = np.random.normal(65, 3.5, 50)\n",
    "exam_2 = np.concatenate((exam_2_norm, exam_2_u))\n",
    "\n",
    "count, bins, ignored = plt.hist(exam_2, 25, range=[50, 100])\n",
    "plt.ylabel(\"Count\", fontsize=12)\n",
    "plt.title(\"Exam 3\", fontsize=14)\n",
    "\n",
    "\n",
    "\n",
    "plt.subplot(2,2,4)\n",
    "mu, sigma = 80,6\n",
    "exam_2_norm = np.random.normal(mu, sigma, 120)\n",
    "exam_2 = np.concatenate((exam_2_norm, np.array([96,96])))\n",
    "print(np.average(exam_2))\n",
    "print(np.median(exam_2))\n",
    "\n",
    "\n",
    "count, bins, ignored = plt.hist(exam_2, 25, range=[50, 100])\n",
    "plt.xlabel(\"Score (%)\", fontsize=12)\n",
    "plt.ylabel(\"Count\", fontsize=12)\n",
    "plt.title(\"Final Exam\", fontsize=14)\n",
    "\n",
    "fig.tight_layout()\n",
    "\n",
    "plt.show()"
   ]
  },
  {
   "cell_type": "markdown",
   "metadata": {},
   "source": [
    "On exam 1, the average and median scores were 80 and 80, respectively. The distribution is symmetric, with a similar distribution of scores to the left and right of the center.\n",
    "\n",
    "The range is close to 35 with the lowest grade close to 55 and the largest grade close to 90 There is one student, who scored close to 55, who is considered an outlier.\n",
    "\n",
    "#####################\n",
    "#####################\n",
    "\n",
    "On exam 2, the average and median scores were 82 and 84, respectively. The distribution has a left skew, which agrees with our finding that the average of our dataset is smaller than the median.\n",
    "\n",
    "The range is close to 38, with the lowest grade close to 60 and the largest grade close to 99.\n",
    "\n",
    "#####################\n",
    "#####################\n",
    "\n",
    "On exam 3, the average and median scores were 77 and 80, respectively. The distribution is bi-modal, and both modes have a similar tail on both sides of their peak, indicating that each is symmetric.\n",
    "\n",
    "The range is close to 42, with the lowest grade close to 56 and the largest grade close to 98.\n",
    "\n",
    "\n",
    "#####################\n",
    "#####################\n",
    "\n",
    "\n",
    "On the final exam, the average and median scores were 80 and 80, respectively. The distribution is symmetric, with a similar distribution of scores to the left and right of the center.\n",
    "\n",
    "The range is close to 30, with the lowest grade close to 68 and the largest grade close to 98. There is one student, who scored close to 98, that is considered an outlier.\n",
    "\n"
   ]
  },
  {
   "cell_type": "code",
   "execution_count": null,
   "metadata": {},
   "outputs": [],
   "source": []
  }
 ],
 "metadata": {
  "kernelspec": {
   "display_name": "Python 3",
   "language": "python",
   "name": "python3"
  },
  "language_info": {
   "codemirror_mode": {
    "name": "ipython",
    "version": 3
   },
   "file_extension": ".py",
   "mimetype": "text/x-python",
   "name": "python",
   "nbconvert_exporter": "python",
   "pygments_lexer": "ipython3",
   "version": "3.8.5"
  }
 },
 "nbformat": 4,
 "nbformat_minor": 4
}
