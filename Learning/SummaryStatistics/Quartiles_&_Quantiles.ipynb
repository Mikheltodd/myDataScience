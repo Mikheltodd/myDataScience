{
 "cells": [
  {
   "cell_type": "markdown",
   "metadata": {},
   "source": [
    "# Quartiles\n",
    "\n",
    "A common way to communicate a high-level overview of a dataset is to find the values that split the data into four groups of equal size.\n",
    "\n",
    "By doing this, we can then say whether a new datapoint falls in the first, second, third, or fourth quarter of the data.\n",
    "\n",
    "The values that split the data into fourths are the quartiles.\n",
    "\n",
    "Those values are called the first quartile (Q1), the second quartile (Q2), and the third quartile (Q3)"
   ]
  },
  {
   "cell_type": "code",
   "execution_count": 1,
   "metadata": {},
   "outputs": [
    {
     "data": {
      "image/png": "[encoded data removed]",
      "text/plain": [
       "<Figure size 432x288 with 1 Axes>"
      ]
     },
     "metadata": {
      "needs_background": "light"
     },
     "output_type": "display_data"
    }
   ],
   "source": [
    "from song_data import songs\n",
    "import matplotlib.pyplot as plt\n",
    "\n",
    "plt.hist(songs, bins = 200)\n",
    "plt.axvline(x=364, label=\"Chicago\", c = 'r')\n",
    "plt.xlabel(\"Song Length (Seconds)\")\n",
    "plt.ylabel(\"Count\")\n",
    "plt.legend()\n",
    "plt.show()"
   ]
  },
  {
   "cell_type": "markdown",
   "metadata": {},
   "source": [
    "## The Second Quartile\n",
    "\n",
    "**Q2** happens to be exactly the **median**. Half of the data falls below Q2 and half of the data falls above Q2.\n",
    "\n",
    "The first step in finding the quartiles of a dataset is to sort the data from smallest to largest.\n",
    "\n",
    "What happens if there is an even number of points in the dataset? There are a couple of different strategies that you can use to calculate Q2 in this situation. One of the more common ways is to take the average of those two numbers. "
   ]
  },
  {
   "cell_type": "markdown",
   "metadata": {},
   "source": [
    "## Q1 and Q3\n",
    "\n",
    "To find Q1, we take all of the data points smaller than Q2 and find the median of those points. To find Q3, do the same process using the points that are larger than Q2."
   ]
  },
  {
   "cell_type": "code",
   "execution_count": 2,
   "metadata": {},
   "outputs": [
    {
     "name": "stdout",
     "output_type": "stream",
     "text": [
      "The first quartile of dataset one is -3\n",
      "The second quartile of dataset one is 4\n",
      "The third quartile of dataset one is 10\n",
      "\n",
      "The first quartile of dataset two is 1\n",
      "The second quartile of dataset two is 22\n",
      "The third quartile of dataset two is 40\n"
     ]
    }
   ],
   "source": [
    "dataset_one = [50, 10, 4, -3, 4, -20, 2]\n",
    "#Sorted dataset_one: [-20, -3, 2, 4, 4, 10, 50]\n",
    "\n",
    "dataset_two = [24, 20, 1, 45, -15, 40]\n",
    "\n",
    "dataset_one_q2 = 4\n",
    "dataset_two_q2 = 22\n",
    "#Define the first and third quartile of both datasets here:\n",
    "dataset_one_q1 = -3\n",
    "dataset_one_q3 = 10\n",
    "\n",
    "dataset_two_q1 = 1\n",
    "dataset_two_q3 = 40\n",
    "\n",
    "#Ignore the code below here:\n",
    "try:\n",
    "  print(\"The first quartile of dataset one is \" + str(dataset_one_q1))\n",
    "except NameError:\n",
    "  print(\"You haven't defined dataset_one_q1\")\n",
    "try:\n",
    "  print(\"The second quartile of dataset one is \" + str(dataset_one_q2))\n",
    "except NameError:\n",
    "  print(\"You haven't defined dataset_one_q2\")\n",
    "try:\n",
    "  print(\"The third quartile of dataset one is \" + str(dataset_one_q3) + \"\\n\")\n",
    "except NameError:\n",
    "  print(\"You haven't defined dataset_one_q3\\n\")\n",
    "try:\n",
    "  print(\"The first quartile of dataset two is \" + str(dataset_two_q1))\n",
    "except NameError:\n",
    "  print(\"You haven't defined dataset_two_q1\")\n",
    "try:\n",
    "  print(\"The second quartile of dataset two is \" + str(dataset_two_q2))\n",
    "except NameError:\n",
    "  print(\"You haven't defined dataset_two_q2\")\n",
    "try:\n",
    "  print(\"The third quartile of dataset two is \" + str(dataset_two_q3))\n",
    "except NameError:\n",
    "  print(\"You haven't defined dataset_two_q3\")\n"
   ]
  },
  {
   "cell_type": "code",
   "execution_count": 3,
   "metadata": {},
   "outputs": [
    {
     "name": "stdout",
     "output_type": "stream",
     "text": [
      "The first quartile of dataset one is -3\n",
      "The second quartile of dataset one is 4\n",
      "The third quartile of dataset one is 10\n",
      "\n",
      "The first quartile of dataset two is 1\n",
      "The second quartile of dataset two is 22\n",
      "The third quartile of dataset two is 40\n"
     ]
    }
   ],
   "source": [
    "# Method 2\n",
    "\n",
    "dataset_one_q2 = 4\n",
    "dataset_two_q2 = 22\n",
    "#Define the first and third quartile of both datasets here:\n",
    "dataset_one_q1 = -3\n",
    "dataset_one_q3 = 10\n",
    "\n",
    "dataset_two_q1 = 1\n",
    "dataset_two_q3 = 40\n",
    "\n",
    "#Ignore the code below here:\n",
    "try:\n",
    "  print(\"The first quartile of dataset one is \" + str(dataset_one_q1))\n",
    "except NameError:\n",
    "  print(\"You haven't defined dataset_one_q1\")\n",
    "try:\n",
    "  print(\"The second quartile of dataset one is \" + str(dataset_one_q2))\n",
    "except NameError:\n",
    "  print(\"You haven't defined dataset_one_q2\")\n",
    "try:\n",
    "  print(\"The third quartile of dataset one is \" + str(dataset_one_q3) + \"\\n\")\n",
    "except NameError:\n",
    "  print(\"You haven't defined dataset_one_q3\\n\")\n",
    "try:\n",
    "  print(\"The first quartile of dataset two is \" + str(dataset_two_q1))\n",
    "except NameError:\n",
    "  print(\"You haven't defined dataset_two_q1\")\n",
    "try:\n",
    "  print(\"The second quartile of dataset two is \" + str(dataset_two_q2))\n",
    "except NameError:\n",
    "  print(\"You haven't defined dataset_two_q2\")\n",
    "try:\n",
    "  print(\"The third quartile of dataset two is \" + str(dataset_two_q3))\n",
    "except NameError:\n",
    "  print(\"You haven't defined dataset_two_q3\")\n"
   ]
  },
  {
   "cell_type": "markdown",
   "metadata": {},
   "source": [
    "## Quartiles in NumPy\n",
    "\n",
    "The quantile() function takes two parameters. The first is the dataset you’re interested in. The second is a number between 0 and 1."
   ]
  },
  {
   "cell_type": "code",
   "execution_count": 4,
   "metadata": {},
   "outputs": [
    {
     "name": "stdout",
     "output_type": "stream",
     "text": [
      "My Favorite song (180 secs) is located on the quartile number 2\n",
      "The first quartile of dataset one is 175.93424 seconds\n",
      "The second quartile of dataset one is 222.82404 seconds\n",
      "The third quartile of dataset one is 275.47383 seconds\n"
     ]
    }
   ],
   "source": [
    "import numpy as np\n",
    "\n",
    "#Create the variables songs_q1, songs_q2, and songs_q3 here:\n",
    "songs_q1 = np.quantile(songs, 0.25)\n",
    "songs_q2 = np.quantile(songs, 0.5)\n",
    "songs_q3 = np.quantile(songs, 0.75)\n",
    "\n",
    "favorite_song = 180\n",
    "quarter = 0\n",
    "if (favorite_song <= songs_q1):\n",
    "  quarter = 1\n",
    "elif (favorite_song <= songs_q2):\n",
    "  quarter = 2\n",
    "elif (favorite_song <= songs_q3):\n",
    "  quarter = 3\n",
    "else:\n",
    "  quarter = 4\n",
    "\n",
    "print(f'My Favorite song ({favorite_song} secs) is located on the quartile number {quarter}')\n",
    "\n",
    "#Ignore the code below here:\n",
    "try:\n",
    "  print(\"The first quartile of dataset one is \" + str(songs_q1) + \" seconds\")\n",
    "except NameError:\n",
    "  print(\"You haven't defined songs_q1\")\n",
    "try:\n",
    "  print(\"The second quartile of dataset one is \" + str(songs_q2)+ \" seconds\")\n",
    "except NameError:\n",
    "  print(\"You haven't defined songs_q2\")\n",
    "try:\n",
    "  print(\"The third quartile of dataset one is \" + str(songs_q3)+ \" seconds\")\n",
    "except NameError:\n",
    "  print(\"You haven't defined songs_q3\\n\")"
   ]
  },
  {
   "cell_type": "markdown",
   "metadata": {},
   "source": [
    "Quartiles are some of the most commonly used descriptive statistics. For example, You might see schools or universities think about quartiles when considering which students to accept. Businesses might compare their revenue to other companies by looking at quartiles.\n",
    "\n",
    "In fact quartiles are so commonly used that the three quartiles, along with the minimum and the maximum values of a dataset, are called the five-number summary of the dataset. These five numbers help you quickly get a sense of the range, centrality, and spread of the dataset."
   ]
  },
  {
   "cell_type": "code",
   "execution_count": 5,
   "metadata": {},
   "outputs": [
    {
     "data": {
      "image/png": "[encoded data removed]",
      "text/plain": [
       "<Figure size 432x288 with 1 Axes>"
      ]
     },
     "metadata": {
      "needs_background": "light"
     },
     "output_type": "display_data"
    }
   ],
   "source": [
    "# from song_data import songs\n",
    "# import matplotlib.pyplot as plt\n",
    "# import numpy as np\n",
    "\n",
    "q1 = np.quantile(songs, 0.25)\n",
    "q2 = np.quantile(songs, 0.5)\n",
    "q3 = np.quantile(songs, 0.75)\n",
    "\n",
    "plt.hist(songs, bins = 200)\n",
    "plt.axvline(x=q1, label=\"Q1\", c = '#6400e4')\n",
    "plt.axvline(x=q2, label=\"Q2\", c = '#fd4d3f')\n",
    "plt.axvline(x=q3, label=\"Q3\", c = '#4fe0b0')\n",
    "plt.xlabel(\"Song Length (Seconds)\")\n",
    "plt.ylabel(\"Count\")\n",
    "plt.legend()\n",
    "plt.show()"
   ]
  },
  {
   "cell_type": "markdown",
   "metadata": {},
   "source": [
    "# Quantiles\n",
    "\n",
    "Quantiles are points that split a dataset into groups of equal size. For example, let’s say you just took a test and wanted to know whether you’re in the top 10% of the class. One way to determine this would be to split the data into ten groups with an equal number of datapoints in each group and see which group you fall into.\n",
    "\n",
    "There are nine values that split the dataset into ten groups of equal size — each group has 3 different test scores in it.\n",
    "\n",
    "Those nine values that split the data are quantiles! Specifically, they are the **10-quantiles, or deciles**.\n",
    "\n",
    "You can find any number of quantiles. For example, if you split the dataset into 100 groups of equal size, the 99 values that split the data are the **100-quantiles, or percentiles**.\n",
    "\n",
    "The quartiles are some of the most commonly used quantiles. The quartiles split the data into four groups of equal size."
   ]
  },
  {
   "cell_type": "code",
   "execution_count": 6,
   "metadata": {},
   "outputs": [
    {
     "data": {
      "image/png": "[encoded data removed]",
      "text/plain": [
       "<Figure size 432x288 with 3 Axes>"
      ]
     },
     "metadata": {
      "needs_background": "light"
     },
     "output_type": "display_data"
    }
   ],
   "source": [
    "# from song_data import songs\n",
    "# import matplotlib.pyplot as plt\n",
    "# import numpy as np\n",
    "\n",
    "q1 = np.quantile(songs, 0.25)\n",
    "q2 = np.quantile(songs, 0.5)\n",
    "q3 = np.quantile(songs, 0.75)\n",
    "\n",
    "plt.subplot(3,1,1)\n",
    "plt.hist(songs, bins = 200)\n",
    "plt.axvline(x=q1, c = 'r')\n",
    "plt.axvline(x=q2, c = 'r')\n",
    "plt.axvline(x=q3, c = 'r')\n",
    "plt.xlabel(\"Song Length (Seconds)\")\n",
    "plt.ylabel(\"Count\")\n",
    "plt.title(\"4-Quantiles\")\n",
    "\n",
    "plt.subplot(3,1,2)\n",
    "plt.hist(songs, bins = 200)\n",
    "plt.axvline(x=np.quantile(songs, 0.2), c = 'r')\n",
    "plt.axvline(x=np.quantile(songs, 0.4), c = 'r')\n",
    "plt.axvline(x=np.quantile(songs, 0.6), c = 'r')\n",
    "plt.axvline(x=np.quantile(songs, 0.8), c = 'r')\n",
    "plt.xlabel(\"Song Length (Seconds)\")\n",
    "plt.ylabel(\"Count\")\n",
    "plt.title(\"5-Quantiles\")\n",
    "\n",
    "plt.subplot(3,1,3)\n",
    "plt.hist(songs, bins = 200)\n",
    "for i in range(1, 10):\n",
    "  plt.axvline(x=np.quantile(songs, i/10), c = 'r')\n",
    "plt.xlabel(\"Song Length (Seconds)\")\n",
    "plt.ylabel(\"Count\")\n",
    "plt.title(\"10-Quantiles\")\n",
    "\n",
    "plt.tight_layout()\n",
    "plt.show()"
   ]
  },
  {
   "cell_type": "code",
   "execution_count": 7,
   "metadata": {},
   "outputs": [
    {
     "name": "stdout",
     "output_type": "stream",
     "text": [
      "The value that splits 23% of the data is 171.7812924\n",
      "\n"
     ]
    }
   ],
   "source": [
    "# from song_data import songs\n",
    "# import numpy as np\n",
    "\n",
    "# Define twenty_third_percentile here:\n",
    "twenty_third_percentile = np.quantile(songs, 0.23)\n",
    "\n",
    "#Ignore the code below here:\n",
    "try:\n",
    "  print(\"The value that splits 23% of the data is \" + str(twenty_third_percentile) + \"\\n\")\n",
    "except NameError:\n",
    "  print(\"You haven't defined twenty_third_percentile.\")"
   ]
  },
  {
   "cell_type": "markdown",
   "metadata": {},
   "source": [
    "## Many Quantiles\n",
    "\n",
    "Quantiles are usually a set of values that split the data into groups of equal size. For example, you wanted to get the 5-quantiles, or the four values that split the data into five groups of equal size, you could use this code:\n",
    "\n",
    "`import numpy as np`\n",
    " \n",
    "`dataset = [5, 10, -20, 42, -9, 10]`\n",
    "\n",
    "`ten_percent = np.quantile(dataset, [0.2, 0.4, 0.6, 0.8])`\n",
    "\n",
    "Note that we had to do a little math in our head to make sure that the values [0.2, 0.4, 0.6, 0.8] split the data into groups of equal size. Each group has 20% of the data.\n",
    "\n",
    "If we used the values `[0.2, 0.4, 0.7, 0.8]`, the function would return the four values at those split points. However, those values wouldn’t split the data into five equally sized groups. One group would only have 10% of the data and another group would have 30% of the data!"
   ]
  },
  {
   "cell_type": "code",
   "execution_count": 8,
   "metadata": {},
   "outputs": [
    {
     "name": "stdout",
     "output_type": "stream",
     "text": [
      "The f_song (170 secs) is located in the decirle number 3\n"
     ]
    }
   ],
   "source": [
    "quartiles = np.quantile(songs, [0.25, 0.5, 0.75])\n",
    "deciles = np.quantile(songs, [0.1,0.2,0.3,0.4,0.5,0.6,0.7,0.8,0.9])\n",
    "\n",
    "tenth = 1\n",
    "f_song = 170\n",
    "for i in range(10):\n",
    "  if (f_song <= deciles[i]):\n",
    "    break\n",
    "  else:\n",
    "    i+=1\n",
    "    tenth+=1\n",
    "\n",
    "print(f'The f_song ({f_song} secs) is located in the decirle number {tenth}')"
   ]
  },
  {
   "cell_type": "markdown",
   "metadata": {},
   "source": [
    "## Common Quantiles\n",
    "\n",
    "One of the most common quantiles is the 2-quantile. This value splits the data into two groups of equal size. Half the data will be above this value, and half the data will be below it. This is also known as the median!\n",
    "\n",
    "The 4-quantiles, or the quartiles, split the data into four groups of equal size. We found the quartiles in the previous exercise.\n",
    "\n",
    "Finally, the percentiles, or the values that split the data into 100 groups, are commonly used to compare new data points to the dataset. You might hear statements like “You are above the 80th percentile in height”. This means that your height is above whatever value splits the first 80% of the data from the remaining 20%."
   ]
  },
  {
   "cell_type": "code",
   "execution_count": 9,
   "metadata": {},
   "outputs": [
    {
     "data": {
      "image/png": "[encoded data removed]",
      "text/plain": [
       "<Figure size 432x288 with 3 Axes>"
      ]
     },
     "metadata": {
      "needs_background": "light"
     },
     "output_type": "display_data"
    }
   ],
   "source": [
    "# import matplotlib.pyplot as plt\n",
    "# import numpy as np\n",
    "from data_schools import school_one, school_two, school_three\n",
    "\n",
    "deciles_one = np.quantile(school_one, [0.1, 0.2, 0.3, 0.4, 0.5, 0.6, 0.7, 0.8, 0.9])\n",
    "deciles_two = np.quantile(school_two, [0.1, 0.2, 0.3, 0.4, 0.5, 0.6, 0.7, 0.8, 0.9])\n",
    "deciles_three = np.quantile(school_three, [0.1, 0.2, 0.3, 0.4, 0.5, 0.6, 0.7, 0.8, 0.9])\n",
    "\n",
    "plt.subplot(311)\n",
    "plt.hist(school_one)\n",
    "for decile in deciles_one:\n",
    "  plt.axvline(x=decile, c = 'r')\n",
    "plt.title(\"School One\")\n",
    "plt.xlabel(\"SAT Score\")\n",
    "  \n",
    "plt.subplot(312)\n",
    "plt.hist(school_two)\n",
    "for decile in deciles_two:\n",
    "  plt.axvline(x=decile, c = 'r')\n",
    "plt.title(\"School Two\")\n",
    "plt.xlabel(\"SAT Score\")\n",
    "  \n",
    "plt.subplot(313)\n",
    "plt.hist(school_three)\n",
    "for decile in deciles_three:\n",
    "  plt.axvline(x=decile, c = 'r')\n",
    "plt.title(\"School Three\")\n",
    "plt.xlabel(\"SAT Score\")\n",
    "plt.tight_layout()\n",
    "plt.show()"
   ]
  },
  {
   "cell_type": "markdown",
   "metadata": {},
   "source": [
    "If you had an SAT score of 1350, which tenth of the data would you be in for each school? Which schools should you apply to? Would any of the schools be unrealistic options?"
   ]
  },
  {
   "cell_type": "markdown",
   "metadata": {},
   "source": [
    "# Interquartile Ranges\n",
    "\n",
    "The range of a dataset is the difference between the maximum and minimum values. While this descriptive statistic is a good start, it is important to consider the impact outliers have on the results. \n",
    "The interquartile range (IQR) is a descriptive statistic that tries to solve this problem. The IQR ignores the tails of the dataset, so you know the range around-which your data is centered."
   ]
  },
  {
   "cell_type": "code",
   "execution_count": 10,
   "metadata": {},
   "outputs": [
    {
     "data": {
      "image/png": "[encoded data removed]",
      "text/plain": [
       "<Figure size 432x288 with 1 Axes>"
      ]
     },
     "metadata": {
      "needs_background": "light"
     },
     "output_type": "display_data"
    },
    {
     "name": "stdout",
     "output_type": "stream",
     "text": [
      "The range of the dataset is 983.51021 seconds\n"
     ]
    }
   ],
   "source": [
    "maximum = max(songs)\n",
    "minimum = min(songs)\n",
    "#Create the variable song_range here:\n",
    "song_range = maximum - minimum\n",
    "\n",
    "# Ignore the code below here\n",
    "plt.hist(songs, bins = 200)\n",
    "plt.xlabel(\"Song Length (Seconds)\")\n",
    "plt.ylabel(\"Count\")\n",
    "plt.show()\n",
    "\n",
    "try:\n",
    "  print(\"The range of the dataset is \" + str(song_range) + \" seconds\")\n",
    "except NameError:\n",
    "  print(\"You haven't defined the variable song_range yet\")"
   ]
  },
  {
   "cell_type": "markdown",
   "metadata": {},
   "source": [
    "The interquartile range is the difference between the third quartile (Q3) and the first quartile (Q1). The interquartile range is the difference between these two values."
   ]
  },
  {
   "cell_type": "code",
   "execution_count": 11,
   "metadata": {},
   "outputs": [
    {
     "name": "stdout",
     "output_type": "stream",
     "text": [
      "The first quartile of the dataset is 175.93424\n",
      "\n",
      "The third quartile of the dataset is 275.47383\n",
      "\n",
      "The IQR of the dataset is 99.53959000000003\n",
      "\n"
     ]
    }
   ],
   "source": [
    "q1 = np.quantile(songs, 0.25)\n",
    "#Create the variables q3 and interquartile_range here:\n",
    "q3 = np.quantile(songs, 0.75)\n",
    "interquartile_range = q3 - q1\n",
    "\n",
    "# Ignore the code below here\n",
    "try:\n",
    "  print(\"The first quartile of the dataset is \" + str(q1) + \"\\n\")\n",
    "except NameError:\n",
    "  print(\"You haven't defined q1 yet\\n\")\n",
    "  \n",
    "try:\n",
    "  print(\"The third quartile of the dataset is \" + str(q3) + \"\\n\")\n",
    "except NameError:\n",
    "  print(\"You haven't defined q3 yet\\n\")\n",
    "  \n",
    "try:\n",
    "  print(\"The IQR of the dataset is \" + str(interquartile_range) + \"\\n\")\n",
    "except NameError:\n",
    "  print(\"You haven't defined interquartile_range yet\\n\")"
   ]
  },
  {
   "cell_type": "markdown",
   "metadata": {},
   "source": [
    "## IQR in SciPy\n",
    "\n",
    "The SciPy library has a function that can calculate the IQR all in one step.\n",
    "\n",
    "The iqr() function takes a dataset as a parameter and returns the Interquartile Range.\n",
    "\n",
    "Notice that when we imported iqr(), we imported it from the stats submodule"
   ]
  },
  {
   "cell_type": "code",
   "execution_count": 12,
   "metadata": {},
   "outputs": [
    {
     "name": "stdout",
     "output_type": "stream",
     "text": [
      "The IQR of the dataset is 99.53959000000003\n",
      "\n"
     ]
    }
   ],
   "source": [
    "from song_data import songs\n",
    "from scipy.stats import iqr\n",
    "\n",
    "#Create the variables interquartile_range here:\n",
    "interquartile_range = iqr(songs)\n",
    "\n",
    "# Ignore the code below here\n",
    "try:\n",
    "  print(\"The IQR of the dataset is \" + str(interquartile_range) + \"\\n\")\n",
    "except NameError:\n",
    "  print(\"You haven't defined interquartile_range yet\\n\")"
   ]
  },
  {
   "attachments": {
    "image.png": {
     "image/png": "[encoded data removed]"
    }
   },
   "cell_type": "markdown",
   "metadata": {},
   "source": [
    "The main takeaway of the IQR is that it is a statistic, like the range, that helps describe the spread of the center of the data.\n",
    "\n",
    "However, unlike the range, the IQR is robust. A statistic is robust when outliers have little impact on it.\n",
    "\n",
    "By looking at the IQR instead of the range, you can get a better sense of the spread of the middle of the data.\n",
    "\n",
    "The interquartile range is displayed in a commonly-used graph — the box plot.\n",
    "\n",
    "![image.png](attachment:image.png)"
   ]
  },
  {
   "cell_type": "code",
   "execution_count": 13,
   "metadata": {},
   "outputs": [
    {
     "name": "stdout",
     "output_type": "stream",
     "text": [
      "The range of the dataset 1 is 150\n",
      "The range of the dataset 2 is 10050\n",
      "The IQR of the dataset 1 is 53.0\n",
      "The IQR of the dataset 2 is 53.0\n"
     ]
    }
   ],
   "source": [
    "from scipy.stats import iqr\n",
    "\n",
    "dataset_1 = [-50, -24, -13, -2, 0, 12, 15, 18, 73, 90, 100]\n",
    "dataset_2 = [-50, -24, -13, -2, 0, 12, 15, 18, 73, 90, 10000]\n",
    "\n",
    "dataset_range_1 = max(dataset_1) - min(dataset_1)\n",
    "dataset_iqr_1 = iqr(dataset_1)\n",
    "dataset_range_2 = max(dataset_2) - min(dataset_2)\n",
    "dataset_iqr_2 = iqr(dataset_2)\n",
    "\n",
    "print(\"The range of the dataset 1 is \"+str(dataset_range_1))\n",
    "print(\"The range of the dataset 2 is \"+str(dataset_range_2))\n",
    "print(\"The IQR of the dataset 1 is \"+str(dataset_iqr_1))\n",
    "print(\"The IQR of the dataset 2 is \"+str(dataset_iqr_2))\n"
   ]
  },
  {
   "cell_type": "code",
   "execution_count": 14,
   "metadata": {},
   "outputs": [
    {
     "name": "stdout",
     "output_type": "stream",
     "text": [
      "-7.5\n",
      "-7.5\n",
      "45.5\n",
      "45.5\n"
     ]
    }
   ],
   "source": [
    "print(np.quantile(dataset_1, 0.25))\n",
    "print(np.quantile(dataset_2, 0.25))\n",
    "print(np.quantile(dataset_1, 0.75))\n",
    "print(np.quantile(dataset_2, 0.75))"
   ]
  },
  {
   "cell_type": "code",
   "execution_count": 16,
   "metadata": {},
   "outputs": [
    {
     "name": "stdout",
     "output_type": "stream",
     "text": [
      "               Country  Life Expectancy          GDP\n",
      "0          Afghanistan         58.19375   340.015425\n",
      "1              Albania         75.15625  2119.726679\n",
      "2              Algeria         73.61875  2847.853392\n",
      "3               Angola         49.01875  1975.143045\n",
      "4  Antigua and Barbuda         75.05625  9759.305728\n",
      "[62.325     72.525     75.4421875]\n",
      "2938.0781152500003\n",
      "0      58.19375\n",
      "1      75.15625\n",
      "2      73.61875\n",
      "3      49.01875\n",
      "6      73.40000\n",
      "         ...   \n",
      "151    69.93750\n",
      "154    68.03125\n",
      "155    71.38750\n",
      "156    53.90625\n",
      "157    50.48750\n",
      "Name: Life Expectancy, Length: 79, dtype: float64\n",
      "4      75.05625\n",
      "5      75.15625\n",
      "7      81.81250\n",
      "8      81.48125\n",
      "9      70.73125\n",
      "         ...   \n",
      "146    71.06875\n",
      "147    74.35625\n",
      "148    73.91250\n",
      "152    75.70000\n",
      "153    76.07500\n",
      "Name: Life Expectancy, Length: 79, dtype: float64\n"
     ]
    },
    {
     "data": {
      "image/png": "[encoded data removed]",
      "text/plain": [
       "<Figure size 432x288 with 1 Axes>"
      ]
     },
     "metadata": {
      "needs_background": "light"
     },
     "output_type": "display_data"
    }
   ],
   "source": [
    "# import numpy as np\n",
    "import pandas as pd\n",
    "# import matplotlib.pyplot as plt\n",
    "\n",
    "data = pd.read_csv(\"country_data.csv\")\n",
    "print(data.head())\n",
    "\n",
    "life_expectancy = data['Life Expectancy']\n",
    "life_expectancy_quartiles = np.quantile(life_expectancy, [0.25, 0.5, 0.75])\n",
    "print(life_expectancy_quartiles)\n",
    "# plt.hist(life_expectancy)\n",
    "# plt.show()\n",
    "\n",
    "gdp = data['GDP']\n",
    "# median_gdp = np.median(gdp)\n",
    "median_gdp = np.quantile(gdp, 0.5)\n",
    "print(median_gdp)\n",
    "\n",
    "low_gdp = data[data['GDP'] <= median_gdp]\n",
    "high_gdp = data[data['GDP'] > median_gdp]\n",
    "\n",
    "low_gdp_quartiles = low_gdp['Life Expectancy']\n",
    "high_gdp_quartiles = high_gdp['Life Expectancy']\n",
    "print(low_gdp_quartiles)\n",
    "print(high_gdp_quartiles)\n",
    "\n",
    "plt.hist(high_gdp[\"Life Expectancy\"], alpha = 0.5, label = \"High GDP\")\n",
    "plt.hist(low_gdp[\"Life Expectancy\"], alpha = 0.5, label = \"Low GDP\")\n",
    "plt.legend()\n",
    "plt.show()"
   ]
  },
  {
   "cell_type": "code",
   "execution_count": null,
   "metadata": {},
   "outputs": [],
   "source": []
  }
 ],
 "metadata": {
  "kernelspec": {
   "display_name": "Python 3",
   "language": "python",
   "name": "python3"
  },
  "language_info": {
   "codemirror_mode": {
    "name": "ipython",
    "version": 3
   },
   "file_extension": ".py",
   "mimetype": "text/x-python",
   "name": "python",
   "nbconvert_exporter": "python",
   "pygments_lexer": "ipython3",
   "version": "3.8.5"
  }
 },
 "nbformat": 4,
 "nbformat_minor": 4
}
