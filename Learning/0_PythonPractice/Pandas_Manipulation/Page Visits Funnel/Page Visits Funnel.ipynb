{
 "cells": [
  {
   "cell_type": "markdown",
   "metadata": {},
   "source": [
    "## Page Visits Funnel"
   ]
  },
  {
   "cell_type": "markdown",
   "metadata": {},
   "source": [
    "### Inspect the DataFrames"
   ]
  },
  {
   "cell_type": "code",
   "execution_count": 1,
   "metadata": {},
   "outputs": [
    {
     "name": "stdout",
     "output_type": "stream",
     "text": [
      "<class 'pandas.core.frame.DataFrame'>\n",
      "RangeIndex: 2000 entries, 0 to 1999\n",
      "Data columns (total 2 columns):\n",
      " #   Column      Non-Null Count  Dtype         \n",
      "---  ------      --------------  -----         \n",
      " 0   user_id     2000 non-null   object        \n",
      " 1   visit_time  2000 non-null   datetime64[ns]\n",
      "dtypes: datetime64[ns](1), object(1)\n",
      "memory usage: 31.4+ KB\n",
      "None\n",
      "<class 'pandas.core.frame.DataFrame'>\n",
      "RangeIndex: 348 entries, 0 to 347\n",
      "Data columns (total 2 columns):\n",
      " #   Column     Non-Null Count  Dtype         \n",
      "---  ------     --------------  -----         \n",
      " 0   user_id    348 non-null    object        \n",
      " 1   cart_time  348 non-null    datetime64[ns]\n",
      "dtypes: datetime64[ns](1), object(1)\n",
      "memory usage: 5.6+ KB\n",
      "None\n",
      "<class 'pandas.core.frame.DataFrame'>\n",
      "RangeIndex: 360 entries, 0 to 359\n",
      "Data columns (total 2 columns):\n",
      " #   Column         Non-Null Count  Dtype         \n",
      "---  ------         --------------  -----         \n",
      " 0   user_id        360 non-null    object        \n",
      " 1   checkout_time  360 non-null    datetime64[ns]\n",
      "dtypes: datetime64[ns](1), object(1)\n",
      "memory usage: 5.8+ KB\n",
      "None\n",
      "<class 'pandas.core.frame.DataFrame'>\n",
      "RangeIndex: 252 entries, 0 to 251\n",
      "Data columns (total 2 columns):\n",
      " #   Column         Non-Null Count  Dtype         \n",
      "---  ------         --------------  -----         \n",
      " 0   user_id        252 non-null    object        \n",
      " 1   purchase_time  252 non-null    datetime64[ns]\n",
      "dtypes: datetime64[ns](1), object(1)\n",
      "memory usage: 4.1+ KB\n",
      "None\n"
     ]
    }
   ],
   "source": [
    "import pandas as pd\n",
    "\n",
    "visits = pd.read_csv('visits.csv', parse_dates=[1])\n",
    "cart = pd.read_csv('cart.csv', parse_dates=[1])\n",
    "checkout = pd.read_csv('checkout.csv', parse_dates=[1])\n",
    "purchase = pd.read_csv('purchase.csv', parse_dates=[1])\n",
    "\n",
    "print(visits.info())\n",
    "print(cart.info())\n",
    "print(checkout.info())\n",
    "print(purchase.info())"
   ]
  },
  {
   "cell_type": "markdown",
   "metadata": {},
   "source": [
    "### Combining Tables"
   ]
  },
  {
   "cell_type": "markdown",
   "metadata": {},
   "source": [
    "Visits & Carts"
   ]
  },
  {
   "cell_type": "code",
   "execution_count": 2,
   "metadata": {},
   "outputs": [
    {
     "name": "stdout",
     "output_type": "stream",
     "text": [
      "2000\n",
      "1652\n",
      "0.826\n"
     ]
    }
   ],
   "source": [
    "visits_cart = pd.merge(visits, cart, how='left')\n",
    "visits_without_cart = visits_cart[visits_cart.cart_time.isnull()]\n",
    "n_visits = len(visits_cart)\n",
    "n_visits_without_cart = len(visits_without_cart)\n",
    "p_visits_without_cart = float(n_visits_without_cart)/n_visits\n",
    "print(n_visits)\n",
    "print(n_visits_without_cart)\n",
    "print(p_visits_without_cart)"
   ]
  },
  {
   "cell_type": "markdown",
   "metadata": {},
   "source": [
    "Carts & Checkouts"
   ]
  },
  {
   "cell_type": "code",
   "execution_count": 3,
   "metadata": {},
   "outputs": [
    {
     "name": "stdout",
     "output_type": "stream",
     "text": [
      "482\n",
      "122\n",
      "0.25311203319502074\n"
     ]
    }
   ],
   "source": [
    "carts_checkout = pd.merge(cart, checkout, how='left')\n",
    "carts_without_checkout = carts_checkout[carts_checkout.checkout_time.isnull()]\n",
    "n_carts_checkout = len(carts_checkout)\n",
    "n_carts_without_checkout = len(carts_without_checkout)\n",
    "p_carts_without_checkout = float(n_carts_without_checkout)/n_carts_checkout\n",
    "print(n_carts_checkout)\n",
    "print(n_carts_without_checkout)\n",
    "print(p_carts_without_checkout)"
   ]
  },
  {
   "cell_type": "markdown",
   "metadata": {},
   "source": [
    "Checkouts & Purchases"
   ]
  },
  {
   "cell_type": "code",
   "execution_count": 4,
   "metadata": {},
   "outputs": [
    {
     "name": "stdout",
     "output_type": "stream",
     "text": [
      "598\n",
      "101\n",
      "0.1688963210702341\n"
     ]
    }
   ],
   "source": [
    "checkouts_purchase = pd.merge(checkout, purchase, how='left')\n",
    "checkouts_withuot_purchase = checkouts_purchase[checkouts_purchase.purchase_time.isnull()]\n",
    "n_checkouts_purchase = len(checkouts_purchase)\n",
    "n_checkouts_withuot_purchase = len(checkouts_withuot_purchase)\n",
    "p_checkouts_withuot_purchase = float(n_checkouts_withuot_purchase)/n_checkouts_purchase\n",
    "print(n_checkouts_purchase)\n",
    "print(n_checkouts_withuot_purchase)\n",
    "print(p_checkouts_withuot_purchase)"
   ]
  },
  {
   "cell_type": "code",
   "execution_count": 5,
   "metadata": {},
   "outputs": [
    {
     "name": "stdout",
     "output_type": "stream",
     "text": [
      "Percent of users who visited Cool T-Shirts Inc but didn't place a t-shirt in their cart: 82.60%\n",
      "Percent of users who put items in their cart but didn't proceed to checkout: 25.31%\n",
      "Percent of users who proceeded to checkout but didn't purchase a t-shirt: 16.89%\n"
     ]
    }
   ],
   "source": [
    "print('Percent of users who visited Cool T-Shirts Inc but didn\\'t place a t-shirt in their cart: ' \\\n",
    "      + str(format(100*p_visits_without_cart, '.2f')) + '%')\n",
    "print('Percent of users who put items in their cart but didn\\'t proceed to checkout: ' \\\n",
    "      + str(format(100*p_carts_without_checkout, '.2f')) + '%')\n",
    "print('Percent of users who proceeded to checkout but didn\\'t purchase a t-shirt: ' \\\n",
    "      + str(format(100*p_checkouts_withuot_purchase, '.2f')) + '%')"
   ]
  },
  {
   "cell_type": "markdown",
   "metadata": {},
   "source": [
    "All Data"
   ]
  },
  {
   "cell_type": "code",
   "execution_count": 6,
   "metadata": {},
   "outputs": [
    {
     "name": "stdout",
     "output_type": "stream",
     "text": [
      "<class 'pandas.core.frame.DataFrame'>\n",
      "Int64Index: 2372 entries, 0 to 2371\n",
      "Data columns (total 5 columns):\n",
      " #   Column         Non-Null Count  Dtype         \n",
      "---  ------         --------------  -----         \n",
      " 0   user_id        2372 non-null   object        \n",
      " 1   visit_time     2372 non-null   datetime64[ns]\n",
      " 2   cart_time      720 non-null    datetime64[ns]\n",
      " 3   checkout_time  598 non-null    datetime64[ns]\n",
      " 4   purchase_time  497 non-null    datetime64[ns]\n",
      "dtypes: datetime64[ns](4), object(1)\n",
      "memory usage: 111.2+ KB\n",
      "None\n"
     ]
    }
   ],
   "source": [
    "all_data = visits.merge(cart, how='left').merge(checkout, how='left').merge(purchase, how='left')\n",
    "print(all_data.info())"
   ]
  },
  {
   "cell_type": "code",
   "execution_count": 7,
   "metadata": {
    "scrolled": true
   },
   "outputs": [
    {
     "name": "stdout",
     "output_type": "stream",
     "text": [
      "# of Visits: 2372\n",
      "# of Carts: 720\n",
      "# of Checkouts: 598\n",
      "# of Purchases: 497\n",
      "Percent of users who visited Cool T-Shirts Inc but didn't place a t-shirt in their cart: 69.65%\n",
      "Percent of users who put items in their cart but didn't proceed to checkout: 16.94%\n",
      "Percent of users who proceeded to checkout but didn't purchase a t-shirt: 16.89%\n"
     ]
    }
   ],
   "source": [
    "n_visits = len(all_data[~all_data.visit_time.isnull()])\n",
    "n_cart = len(all_data[~all_data.cart_time.isnull()])\n",
    "n_checkout = len(all_data[~all_data.checkout_time.isnull()])\n",
    "n_purchase = len(all_data[~all_data.purchase_time.isnull()])\n",
    "\n",
    "print('# of Visits: ' + str(n_visits))\n",
    "print('# of Carts: ' + str(n_cart))\n",
    "print('# of Checkouts: ' + str(n_checkout))\n",
    "print('# of Purchases: ' + str(n_purchase))\n",
    "\n",
    "p_visits_without_cart_v2 = float(n_visits - n_cart)/n_visits\n",
    "p_carts_without_checkout_v2 = float(n_cart - n_checkout)/n_cart\n",
    "p_checkouts_withuot_purchase_v2 = float(n_checkout - n_purchase)/n_checkout\n",
    "\n",
    "print('Percent of users who visited Cool T-Shirts Inc but didn\\'t place a t-shirt in their cart: ' \\\n",
    "      + str(format(100*p_visits_without_cart_v2, '.2f')) + '%')\n",
    "print('Percent of users who put items in their cart but didn\\'t proceed to checkout: ' \\\n",
    "      + str(format(100*p_carts_without_checkout_v2, '.2f')) + '%')\n",
    "print('Percent of users who proceeded to checkout but didn\\'t purchase a t-shirt: ' \\\n",
    "      + str(format(100*p_checkouts_withuot_purchase_v2, '.2f')) + '%')"
   ]
  },
  {
   "cell_type": "markdown",
   "metadata": {},
   "source": [
    "### Tiempo promedio de compra"
   ]
  },
  {
   "cell_type": "code",
   "execution_count": 8,
   "metadata": {},
   "outputs": [
    {
     "name": "stdout",
     "output_type": "stream",
     "text": [
      "1      0 days 00:44:00\n",
      "14     0 days 00:38:00\n",
      "49     0 days 00:41:00\n",
      "50     0 days 01:00:00\n",
      "51     0 days 00:41:00\n",
      "             ...      \n",
      "2359   0 days 00:28:00\n",
      "2360   0 days 00:11:00\n",
      "2361   0 days 00:32:00\n",
      "2362   0 days 00:28:00\n",
      "2363   0 days 00:11:00\n",
      "Name: time_to_purchase, Length: 497, dtype: timedelta64[ns]\n",
      "0 days 00:43:53.360160965\n"
     ]
    }
   ],
   "source": [
    "all_data['time_to_purchase'] = \\\n",
    "    all_data.purchase_time - \\\n",
    "    all_data.visit_time\n",
    "\n",
    "print(all_data.time_to_purchase[~all_data.time_to_purchase.isnull()])\n",
    "print(all_data.time_to_purchase.mean())"
   ]
  },
  {
   "cell_type": "code",
   "execution_count": null,
   "metadata": {},
   "outputs": [],
   "source": []
  }
 ],
 "metadata": {
  "kernelspec": {
   "display_name": "Python 3",
   "language": "python",
   "name": "python3"
  },
  "language_info": {
   "codemirror_mode": {
    "name": "ipython",
    "version": 3
   },
   "file_extension": ".py",
   "mimetype": "text/x-python",
   "name": "python",
   "nbconvert_exporter": "python",
   "pygments_lexer": "ipython3",
   "version": "3.8.5"
  }
 },
 "nbformat": 4,
 "nbformat_minor": 4
}
