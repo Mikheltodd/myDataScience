{
 "cells": [
  {
   "cell_type": "code",
   "execution_count": 4,
   "metadata": {},
   "outputs": [],
   "source": [
    "import pandas as pd\n",
    "ad_clicks = pd.read_csv('ad_clicks.csv')"
   ]
  },
  {
   "cell_type": "markdown",
   "metadata": {},
   "source": [
    "## Examine Data"
   ]
  },
  {
   "cell_type": "code",
   "execution_count": 6,
   "metadata": {},
   "outputs": [
    {
     "name": "stdout",
     "output_type": "stream",
     "text": [
      "<class 'pandas.core.frame.DataFrame'>\n",
      "RangeIndex: 1654 entries, 0 to 1653\n",
      "Data columns (total 5 columns):\n",
      " #   Column              Non-Null Count  Dtype \n",
      "---  ------              --------------  ----- \n",
      " 0   user_id             1654 non-null   object\n",
      " 1   utm_source          1654 non-null   object\n",
      " 2   day                 1654 non-null   object\n",
      " 3   ad_click_timestamp  565 non-null    object\n",
      " 4   experimental_group  1654 non-null   object\n",
      "dtypes: object(5)\n",
      "memory usage: 64.7+ KB\n",
      "None\n",
      "                                user_id utm_source           day  \\\n",
      "0  008b7c6c-7272-471e-b90e-930d548bd8d7     google  6 - Saturday   \n",
      "1  009abb94-5e14-4b6c-bb1c-4f4df7aa7557   facebook    7 - Sunday   \n",
      "2  00f5d532-ed58-4570-b6d2-768df5f41aed    twitter   2 - Tuesday   \n",
      "3  011adc64-0f44-4fd9-a0bb-f1506d2ad439     google   2 - Tuesday   \n",
      "4  012137e6-7ae7-4649-af68-205b4702169c   facebook    7 - Sunday   \n",
      "\n",
      "  ad_click_timestamp experimental_group  \n",
      "0               7:18                  A  \n",
      "1                NaN                  B  \n",
      "2                NaN                  A  \n",
      "3                NaN                  B  \n",
      "4                NaN                  B  \n"
     ]
    }
   ],
   "source": [
    "print(ad_clicks.info())\n",
    "print(ad_clicks.head())"
   ]
  },
  {
   "cell_type": "markdown",
   "metadata": {},
   "source": [
    "## Which Platform is getting more views?"
   ]
  },
  {
   "cell_type": "code",
   "execution_count": 7,
   "metadata": {},
   "outputs": [
    {
     "name": "stdout",
     "output_type": "stream",
     "text": [
      "  utm_source  user_id\n",
      "0      email      255\n",
      "1   facebook      504\n",
      "2     google      680\n",
      "3    twitter      215\n"
     ]
    }
   ],
   "source": [
    "utm_source_data = ad_clicks.groupby('utm_source').user_id.count().reset_index()\n",
    "print(utm_source_data)"
   ]
  },
  {
   "cell_type": "markdown",
   "metadata": {},
   "source": [
    "## Determine Clicked Ad\n",
    "Modification of `ad_clicks`. If `ad_clicked_timestamp` is not null, user clicked on the ad. "
   ]
  },
  {
   "cell_type": "code",
   "execution_count": 10,
   "metadata": {},
   "outputs": [
    {
     "name": "stdout",
     "output_type": "stream",
     "text": [
      "                                user_id utm_source  is_click\n",
      "0  008b7c6c-7272-471e-b90e-930d548bd8d7     google      True\n",
      "1  009abb94-5e14-4b6c-bb1c-4f4df7aa7557   facebook     False\n",
      "2  00f5d532-ed58-4570-b6d2-768df5f41aed    twitter     False\n",
      "3  011adc64-0f44-4fd9-a0bb-f1506d2ad439     google     False\n",
      "4  012137e6-7ae7-4649-af68-205b4702169c   facebook     False\n"
     ]
    }
   ],
   "source": [
    "ad_clicks['is_click'] = ~ad_clicks.ad_click_timestamp.isnull()\n",
    "print(ad_clicks[['user_id','utm_source','is_click']].head())"
   ]
  },
  {
   "cell_type": "markdown",
   "metadata": {},
   "source": [
    "## Determine Clicks by Source\n",
    "Determine percent of people who clicked on ads from each `utm_source`"
   ]
  },
  {
   "cell_type": "code",
   "execution_count": 14,
   "metadata": {},
   "outputs": [
    {
     "name": "stdout",
     "output_type": "stream",
     "text": [
      "is_click    False  True  percent_clicked\n",
      "utm_source                              \n",
      "email         175    80         0.313725\n",
      "facebook      324   180         0.357143\n",
      "google        441   239         0.351471\n",
      "twitter       149    66         0.306977\n"
     ]
    }
   ],
   "source": [
    "clicks_by_source = ad_clicks.groupby(['utm_source', 'is_click']).user_id.count().reset_index()\n",
    "clicks_pivot = clicks_by_source.pivot(columns='is_click', index='utm_source', values='user_id')\n",
    "clicks_pivot['percent_clicked'] = clicks_pivot[True]/(clicks_pivot[True] + clicks_pivot[False])\n",
    "print(clicks_pivot)"
   ]
  },
  {
   "cell_type": "markdown",
   "metadata": {},
   "source": [
    "## A/B Test\n",
    "Wew approximately the same number of people shown both ads?"
   ]
  },
  {
   "cell_type": "code",
   "execution_count": 15,
   "metadata": {},
   "outputs": [
    {
     "name": "stdout",
     "output_type": "stream",
     "text": [
      "  experimental_group  user_id\n",
      "0                  A      827\n",
      "1                  B      827\n"
     ]
    }
   ],
   "source": [
    "n_experimental_group = ad_clicks.groupby('experimental_group').user_id.count().reset_index()\n",
    "print(n_experimental_group)"
   ]
  },
  {
   "cell_type": "markdown",
   "metadata": {},
   "source": [
    "## Check A/B Percentage"
   ]
  },
  {
   "cell_type": "code",
   "execution_count": 19,
   "metadata": {},
   "outputs": [
    {
     "name": "stdout",
     "output_type": "stream",
     "text": [
      "is_click            False  True  percentage_clicked\n",
      "experimental_group                                 \n",
      "A                     517   310            0.374849\n",
      "B                     572   255            0.308343\n"
     ]
    }
   ],
   "source": [
    "n_exp_click = ad_clicks.groupby(['experimental_group', 'is_click']).user_id.count().reset_index()\n",
    "n_exp_click_pivot = n_exp_click.pivot(columns='is_click', index='experimental_group', values='user_id')\n",
    "n_exp_click_pivot['percentage_clicked'] = n_exp_click_pivot[True]/(n_exp_click_pivot[True] + n_exp_click_pivot[False])\n",
    "print(n_exp_click_pivot)"
   ]
  },
  {
   "cell_type": "markdown",
   "metadata": {},
   "source": [
    "## Separate Ads"
   ]
  },
  {
   "cell_type": "code",
   "execution_count": 21,
   "metadata": {},
   "outputs": [
    {
     "name": "stdout",
     "output_type": "stream",
     "text": [
      "                                user_id experimental_group utm_source\n",
      "0  008b7c6c-7272-471e-b90e-930d548bd8d7                  A     google\n",
      "2  00f5d532-ed58-4570-b6d2-768df5f41aed                  A    twitter\n",
      "5  013b0072-7b72-40e7-b698-98b4d0c9967f                  A   facebook\n",
      "6  0153d85b-7660-4c39-92eb-1e1acd023280                  A     google\n",
      "7  01555297-d6e6-49ae-aeba-1b196fdbb09f                  A     google\n",
      "                                 user_id experimental_group utm_source\n",
      "1   009abb94-5e14-4b6c-bb1c-4f4df7aa7557                  B   facebook\n",
      "3   011adc64-0f44-4fd9-a0bb-f1506d2ad439                  B     google\n",
      "4   012137e6-7ae7-4649-af68-205b4702169c                  B   facebook\n",
      "9   01a210c3-fde0-4e6f-8efd-4f0e38730ae6                  B      email\n",
      "10  01adb2e7-f711-4ae4-a7c6-29f48457eea1                  B     google\n"
     ]
    }
   ],
   "source": [
    "a_clicks = ad_clicks[ad_clicks['experimental_group'] == 'A']\n",
    "b_clicks = ad_clicks[ad_clicks.experimental_group == 'B']\n",
    "print(a_clicks[['user_id','experimental_group','utm_source']].head())\n",
    "print(b_clicks[['user_id','experimental_group','utm_source']].head())"
   ]
  },
  {
   "cell_type": "markdown",
   "metadata": {},
   "source": [
    "## Percent of users who clicked on Ads by day"
   ]
  },
  {
   "cell_type": "code",
   "execution_count": 23,
   "metadata": {},
   "outputs": [
    {
     "name": "stdout",
     "output_type": "stream",
     "text": [
      "is_click       False  True  percentage_clicked\n",
      "day                                           \n",
      "1 - Monday        70    43            0.380531\n",
      "2 - Tuesday       76    43            0.361345\n",
      "3 - Wednesday     86    38            0.306452\n",
      "4 - Thursday      69    47            0.405172\n",
      "5 - Friday        77    51            0.398438\n",
      "6 - Saturday      73    45            0.381356\n",
      "7 - Sunday        66    43            0.394495\n"
     ]
    }
   ],
   "source": [
    "a_clicks_day = a_clicks.groupby(['is_click','day']).user_id.count().reset_index()\n",
    "a_clicks_day_pivot = a_clicks_day.pivot(columns='is_click', index='day', values='user_id')\n",
    "a_clicks_day_pivot['percentage_clicked'] = a_clicks_day_pivot[True]/(a_clicks_day_pivot[True] + a_clicks_day_pivot[False])\n",
    "print(a_clicks_day_pivot)"
   ]
  },
  {
   "cell_type": "code",
   "execution_count": 26,
   "metadata": {},
   "outputs": [
    {
     "name": "stdout",
     "output_type": "stream",
     "text": [
      "is_click       False  True  percentage_clicked\n",
      "day                                           \n",
      "1 - Monday        81    32            0.283186\n",
      "2 - Tuesday       74    45            0.378151\n",
      "3 - Wednesday     89    35            0.282258\n",
      "4 - Thursday      87    29            0.250000\n",
      "5 - Friday        90    38            0.296875\n",
      "6 - Saturday      76    42            0.355932\n",
      "7 - Sunday        75    34            0.311927\n"
     ]
    }
   ],
   "source": [
    "b_clicks_day = b_clicks.groupby(['is_click','day']).user_id.count().reset_index()\n",
    "b_clicks_day_pivot = b_clicks_day.pivot(columns='is_click', index='day', values='user_id')\n",
    "b_clicks_day_pivot['percentage_clicked'] = b_clicks_day_pivot[True]/(b_clicks_day_pivot[True] + b_clicks_day_pivot[False])\n",
    "print(b_clicks_day_pivot)"
   ]
  },
  {
   "cell_type": "markdown",
   "metadata": {},
   "source": [
    "## Recommended Ad?"
   ]
  },
  {
   "cell_type": "code",
   "execution_count": 32,
   "metadata": {},
   "outputs": [
    {
     "name": "stdout",
     "output_type": "stream",
     "text": [
      "Clicked on A: 37.54%\n",
      "Clicked on B: 30.83%\n"
     ]
    }
   ],
   "source": [
    "print('Clicked on A: ' + str(format(100*a_clicks_day_pivot.percentage_clicked.mean(), '.2f')) + '%')\n",
    "print('Clicked on B: ' + str(format(100*b_clicks_day_pivot.percentage_clicked.mean(), '.2f')) + '%')"
   ]
  },
  {
   "cell_type": "code",
   "execution_count": null,
   "metadata": {},
   "outputs": [],
   "source": []
  }
 ],
 "metadata": {
  "kernelspec": {
   "display_name": "Python 3",
   "language": "python",
   "name": "python3"
  },
  "language_info": {
   "codemirror_mode": {
    "name": "ipython",
    "version": 3
   },
   "file_extension": ".py",
   "mimetype": "text/x-python",
   "name": "python",
   "nbconvert_exporter": "python",
   "pygments_lexer": "ipython3",
   "version": "3.8.5"
  }
 },
 "nbformat": 4,
 "nbformat_minor": 4
}
