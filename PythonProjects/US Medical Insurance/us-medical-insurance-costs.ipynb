{
 "cells": [
  {
   "cell_type": "markdown",
   "metadata": {},
   "source": [
    "# U.S. Medical Insurance Costs"
   ]
  },
  {
   "cell_type": "markdown",
   "metadata": {},
   "source": [
    "## by Mikheltodd"
   ]
  },
  {
   "cell_type": "markdown",
   "metadata": {},
   "source": [
    "### Importing Dataset"
   ]
  },
  {
   "cell_type": "code",
   "execution_count": 1,
   "metadata": {},
   "outputs": [],
   "source": [
    "import csv\n",
    "with open('insurance.csv', newline='') as csvfile:\n",
    "    reader = csv.DictReader(csvfile)\n",
    "    patients_data = {}\n",
    "    id_patient = 1\n",
    "    for patient in reader:\n",
    "        patients_data[id_patient] = patient\n",
    "        id_patient += 1"
   ]
  },
  {
   "cell_type": "markdown",
   "metadata": {},
   "source": [
    "### Type Casting Data"
   ]
  },
  {
   "cell_type": "code",
   "execution_count": 2,
   "metadata": {},
   "outputs": [],
   "source": [
    "for patient in patients_data.values():\n",
    "    # Age\n",
    "    patient['Age'] = int(patient['age'])\n",
    "    del patient['age']\n",
    "    # Sex\n",
    "    patient['Sex'] = patient['sex']\n",
    "    del patient['sex']\n",
    "    # BMI\n",
    "    patient['BMI'] = float(patient['bmi'])\n",
    "    del patient['bmi']\n",
    "    # No. of Children\n",
    "    patient['No. of Children'] = int(patient['children'])\n",
    "    del patient['children']\n",
    "    # Smoker?\n",
    "    patient['Smoker?'] = patient['smoker']\n",
    "    del patient['smoker']\n",
    "    # Region\n",
    "    patient['Region'] = patient['region']\n",
    "    del patient['region']\n",
    "    # Insurance Cost\n",
    "    patient['Insurance Cost'] = float(patient['charges'])\n",
    "    del patient['charges']"
   ]
  },
  {
   "cell_type": "markdown",
   "metadata": {},
   "source": [
    "### Testing Imported Data"
   ]
  },
  {
   "cell_type": "code",
   "execution_count": 3,
   "metadata": {},
   "outputs": [],
   "source": [
    "# print('Patients Data')\n",
    "# print('-'*30)\n",
    "# for id_p, patient in patients_data.items():\n",
    "#     print(f'ID: {id_p}')\n",
    "#     print(f\"Age: {patient['Age']}\")\n",
    "#     print(f\"Sex: {patient['sex']}\")\n",
    "#     print(f\"BMI: {patient['BMI']}\")\n",
    "#     print(f\"Children: {patient['No. of Children']}\")\n",
    "#     print(f\"Smoker?: {patient['smoker']}\")\n",
    "#     print(f\"Region: {patient['region']}\")\n",
    "#     print(f\"Charges: $ {patient['Insurance Cost']}\")\n",
    "#     print('-'*30)"
   ]
  },
  {
   "cell_type": "markdown",
   "metadata": {},
   "source": [
    "### Functions"
   ]
  },
  {
   "cell_type": "code",
   "execution_count": 4,
   "metadata": {},
   "outputs": [],
   "source": [
    "# Variable to List\n",
    "# This is a helper function to create a list of elements for each variable\n",
    "def variable_to_list(patients_data, variable):\n",
    "    variable_list = []\n",
    "    for patient in patients_data.values():\n",
    "        variable_list.append(patient[variable])\n",
    "    return variable_list\n",
    "    \n",
    "# Analysis of cuantitative variable\n",
    "# This function is used to calculate average, min and max of a cuantitative variable\n",
    "def cuantitative_analysis(patients_data, variable):\n",
    "    variable_list = variable_to_list(patients_data, variable)\n",
    "    variable_analysis_results = {'Average': 0, 'Minimum': float('inf'), 'Maximum': 0}\n",
    "    for x_variable in variable_list:\n",
    "        # Average Age Calculation (Sum)\n",
    "        variable_analysis_results['Average'] += x_variable        \n",
    "        # Min. Age\n",
    "        if x_variable < variable_analysis_results['Minimum']:\n",
    "            variable_analysis_results['Minimum'] = x_variable            \n",
    "        # Max. Age\n",
    "        if x_variable > variable_analysis_results['Maximum']:\n",
    "            variable_analysis_results['Maximum'] = x_variable\n",
    "    variable_analysis_results['Average'] /= len(variable_list)\n",
    "    print(\"-\"*100)\n",
    "    print(f\"*** {variable} Analysis ***\")\n",
    "    print(\"-\"*100)\n",
    "    print(f\"- The average {variable} in the dataset of patients is {round(variable_analysis_results['Average'], 2)}.\")\n",
    "    print(f\"- The minimum {variable} in the dataset of patients is {round(variable_analysis_results['Minimum'],2)}.\")\n",
    "    print(f\"- The maximum {variable} in the dataset of patients is {round(variable_analysis_results['Maximum'],2)}.\")\n",
    "    print(\"-\"*100,'\\n')\n",
    "    return variable_analysis_results\n",
    "\n",
    "# Analysis of cualitative variable\n",
    "# This function is used to calculate proportions by categories\n",
    "def cualitative_analysis(patients_data, variable):  \n",
    "    variable_list = variable_to_list(patients_data, variable)\n",
    "    variable_analysis_results = {}\n",
    "    cat_list = []\n",
    "    cat_dict = {}\n",
    "    for element in variable_list:\n",
    "        if element not in cat_list:\n",
    "            cat_list.append(element)\n",
    "            cat_dict[element] = 0\n",
    "        if element in cat_dict.keys():\n",
    "            cat_dict[element] += 1\n",
    "    print(\"-\"*100)\n",
    "    print(f\"*** {variable} Analysis ***\")\n",
    "    print(\"-\"*100)\n",
    "    for key, value in cat_dict.items():\n",
    "        p_value = round(100*value/(len(variable_list)), 2)\n",
    "        variable_analysis_results[key] = (value, p_value)\n",
    "        print(f\"- {key}: {p_value}% of patients.\")\n",
    "    print(\"-\"*100,'\\n')        \n",
    "    return variable_analysis_results"
   ]
  },
  {
   "cell_type": "markdown",
   "metadata": {},
   "source": [
    "### Testing Functions"
   ]
  },
  {
   "cell_type": "code",
   "execution_count": 5,
   "metadata": {},
   "outputs": [
    {
     "name": "stdout",
     "output_type": "stream",
     "text": [
      "----------------------------------------------------------------------------------------------------\n",
      "*** Age Analysis ***\n",
      "----------------------------------------------------------------------------------------------------\n",
      "- The average Age in the dataset of patients is 39.21.\n",
      "- The minimum Age in the dataset of patients is 18.\n",
      "- The maximum Age in the dataset of patients is 64.\n",
      "---------------------------------------------------------------------------------------------------- \n",
      "\n",
      "----------------------------------------------------------------------------------------------------\n",
      "*** Sex Analysis ***\n",
      "----------------------------------------------------------------------------------------------------\n",
      "- female: 49.48% of patients.\n",
      "- male: 50.52% of patients.\n",
      "---------------------------------------------------------------------------------------------------- \n",
      "\n",
      "----------------------------------------------------------------------------------------------------\n",
      "*** BMI Analysis ***\n",
      "----------------------------------------------------------------------------------------------------\n",
      "- The average BMI in the dataset of patients is 30.66.\n",
      "- The minimum BMI in the dataset of patients is 15.96.\n",
      "- The maximum BMI in the dataset of patients is 53.13.\n",
      "---------------------------------------------------------------------------------------------------- \n",
      "\n",
      "----------------------------------------------------------------------------------------------------\n",
      "*** No. of Children Analysis ***\n",
      "----------------------------------------------------------------------------------------------------\n",
      "- The average No. of Children in the dataset of patients is 1.09.\n",
      "- The minimum No. of Children in the dataset of patients is 0.\n",
      "- The maximum No. of Children in the dataset of patients is 5.\n",
      "---------------------------------------------------------------------------------------------------- \n",
      "\n",
      "----------------------------------------------------------------------------------------------------\n",
      "*** Smoker? Analysis ***\n",
      "----------------------------------------------------------------------------------------------------\n",
      "- yes: 20.48% of patients.\n",
      "- no: 79.52% of patients.\n",
      "---------------------------------------------------------------------------------------------------- \n",
      "\n",
      "----------------------------------------------------------------------------------------------------\n",
      "*** Region Analysis ***\n",
      "----------------------------------------------------------------------------------------------------\n",
      "- southwest: 24.29% of patients.\n",
      "- southeast: 27.2% of patients.\n",
      "- northwest: 24.29% of patients.\n",
      "- northeast: 24.22% of patients.\n",
      "---------------------------------------------------------------------------------------------------- \n",
      "\n",
      "----------------------------------------------------------------------------------------------------\n",
      "*** Insurance Cost Analysis ***\n",
      "----------------------------------------------------------------------------------------------------\n",
      "- The average Insurance Cost in the dataset of patients is 13270.42.\n",
      "- The minimum Insurance Cost in the dataset of patients is 1121.87.\n",
      "- The maximum Insurance Cost in the dataset of patients is 63770.43.\n",
      "---------------------------------------------------------------------------------------------------- \n",
      "\n"
     ]
    }
   ],
   "source": [
    "age_analysis_results = cuantitative_analysis(patients_data, 'Age')\n",
    "sex_analysis_results = cualitative_analysis(patients_data, 'Sex')\n",
    "bmi_analysis_results = cuantitative_analysis(patients_data, 'BMI')\n",
    "children_analysis_results = cuantitative_analysis(patients_data, 'No. of Children')\n",
    "smoker_analysis_results = cualitative_analysis(patients_data, 'Smoker?')\n",
    "region_analysis_results = cualitative_analysis(patients_data, 'Region')\n",
    "charges_analysis_results = cuantitative_analysis(patients_data, 'Insurance Cost')"
   ]
  },
  {
   "cell_type": "code",
   "execution_count": null,
   "metadata": {},
   "outputs": [],
   "source": []
  }
 ],
 "metadata": {
  "kernelspec": {
   "display_name": "Python 3",
   "language": "python",
   "name": "python3"
  },
  "language_info": {
   "codemirror_mode": {
    "name": "ipython",
    "version": 3
   },
   "file_extension": ".py",
   "mimetype": "text/x-python",
   "name": "python",
   "nbconvert_exporter": "python",
   "pygments_lexer": "ipython3",
   "version": "3.8.5"
  }
 },
 "nbformat": 4,
 "nbformat_minor": 4
}
