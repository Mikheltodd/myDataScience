{
 "cells": [
  {
   "cell_type": "markdown",
   "metadata": {},
   "source": [
    "## This is Jeopardy\n"
   ]
  },
  {
   "cell_type": "code",
   "execution_count": 1,
   "metadata": {},
   "outputs": [
    {
     "name": "stdout",
     "output_type": "stream",
     "text": [
      "********** Data Info **********\n",
      "\n",
      "\n",
      "<class 'pandas.core.frame.DataFrame'>\n",
      "RangeIndex: 216930 entries, 0 to 216929\n",
      "Data columns (total 7 columns):\n",
      " #   Column       Non-Null Count   Dtype \n",
      "---  ------       --------------   ----- \n",
      " 0   Show Number  216930 non-null  int64 \n",
      " 1    Air Date    216930 non-null  object\n",
      " 2    Round       216930 non-null  object\n",
      " 3    Category    216930 non-null  object\n",
      " 4    Value       216930 non-null  object\n",
      " 5    Question    216930 non-null  object\n",
      " 6    Answer      216928 non-null  object\n",
      "dtypes: int64(1), object(6)\n",
      "memory usage: 11.6+ MB\n",
      "None\n",
      "\n",
      "\n",
      "********** Data Columns **********\n",
      "\n",
      "\n",
      "Index(['Show Number', ' Air Date', ' Round', ' Category', ' Value',\n",
      "       ' Question', ' Answer'],\n",
      "      dtype='object')\n",
      "\n",
      "\n",
      "********** Data Head **********\n",
      "\n",
      "\n",
      "   Show Number    Air Date      Round                         Category  Value  \\\n",
      "0         4680  2004-12-31  Jeopardy!                          HISTORY   $200   \n",
      "1         4680  2004-12-31  Jeopardy!  ESPN's TOP 10 ALL-TIME ATHLETES   $200   \n",
      "2         4680  2004-12-31  Jeopardy!      EVERYBODY TALKS ABOUT IT...   $200   \n",
      "3         4680  2004-12-31  Jeopardy!                 THE COMPANY LINE   $200   \n",
      "4         4680  2004-12-31  Jeopardy!              EPITAPHS & TRIBUTES   $200   \n",
      "\n",
      "                                                                                                      Question  \\\n",
      "0             For the last 8 years of his life, Galileo was under house arrest for espousing this man's theory   \n",
      "1  No. 2: 1912 Olympian; football star at Carlisle Indian School; 6 MLB seasons with the Reds, Giants & Braves   \n",
      "2                     The city of Yuma in this state has a record average of 4,055 hours of sunshine each year   \n",
      "3                         In 1963, live on \"The Art Linkletter Show\", this company served its billionth burger   \n",
      "4     Signer of the Dec. of Indep., framer of the Constitution of Mass., second President of the United States   \n",
      "\n",
      "       Answer  \n",
      "0  Copernicus  \n",
      "1  Jim Thorpe  \n",
      "2     Arizona  \n",
      "3  McDonald's  \n",
      "4  John Adams  \n"
     ]
    }
   ],
   "source": [
    "import pandas as pd\n",
    "pd.set_option('display.max_colwidth', None)\n",
    "jeopardy_data = pd.read_csv('jeopardy_starting/jeopardy.csv')\n",
    "\n",
    "print('*'*10 + ' ' + \"Data Info\" + ' ' + '*'*10)\n",
    "print('\\n')\n",
    "print(jeopardy_data.info())\n",
    "print('\\n')\n",
    "print('*'*10 + ' ' + \"Data Columns\" + ' ' + '*'*10)\n",
    "print('\\n')\n",
    "print(jeopardy_data.columns)\n",
    "print('\\n')\n",
    "print('*'*10 + ' ' + \"Data Head\" + ' ' + '*'*10)\n",
    "print('\\n')\n",
    "print(jeopardy_data.head())"
   ]
  },
  {
   "cell_type": "markdown",
   "metadata": {},
   "source": [
    "Data contains 7 columns and 216928 rows, each one with a Show Number, Air Date, Round, Category, Value, Question and an Answer.\n",
    "Some of the column names should be renamed."
   ]
  },
  {
   "cell_type": "code",
   "execution_count": 2,
   "metadata": {},
   "outputs": [],
   "source": [
    "# Renaming columns:\n",
    "jeopardy_data.rename(columns={\n",
    "    'Show Number': 'ShowNumber',\n",
    "    ' Air Date': 'AirDate',\n",
    "    ' Round': 'Round',\n",
    "    ' Category': 'Category',\n",
    "    ' Value': 'Value',\n",
    "    ' Question': 'Question',\n",
    "    ' Answer': 'Answer'}, \n",
    "    inplace=True)"
   ]
  },
  {
   "cell_type": "markdown",
   "metadata": {},
   "source": [
    "## Filter Questions\n",
    "\n",
    "This function filters a dataset for a specific column that contains all of the words in a list of words. \n",
    "\n",
    "filter_data returns a dataframe with the rows where the specified column matches the words cointained in the list. \n",
    "\n",
    "filter_data has 4 parameters:\n",
    "* data: the dataframe where we are going to search data\n",
    "* column: the name of the column where the filter is going to be established\n",
    "* word: the list of words we are going to search in the column of the data\n",
    "* f_type: the type of search the function will execute (by default is \"all\" and it means that all the words in the word list must be in the same column record; if any other value is put as an input, it will throw the results that matches at least one of the words listed."
   ]
  },
  {
   "cell_type": "code",
   "execution_count": 3,
   "metadata": {},
   "outputs": [
    {
     "name": "stdout",
     "output_type": "stream",
     "text": [
      "********** Results **********\n",
      "\n",
      "\n",
      "Searched words: ['King', 'England']\n",
      "\n",
      "\n",
      "Number of results found: 152\n",
      "\n",
      "\n",
      "Results found: \n",
      "0                    Both England's King George V & FDR put their stamp of approval on this \"King of Hobbies\"\n",
      "1      In retaliation for Viking raids, this \"Unready\" king of England attacks Norse areas of the Isle of Man\n",
      "2                    This king of England beat the odds to trounce the French in the 1415 Battle of Agincourt\n",
      "3                This Scotsman, the first Stuart king of England, was called \"The Wisest Fool in Christendom\"\n",
      "4                                        It's the number that followed the last king of England named William\n",
      "                                                        ...                                                  \n",
      "147        In 1066 this great-great grandson of Rollo made what some call the last Viking invasion of England\n",
      "148                      Dutch-born king who ruled England jointly with Mary II & is a tasty New Zealand fish\n",
      "149                In 1781 William Herschel discovered Uranus & initially named it after this king of England\n",
      "150          His nickname was \"Bertie\", but he used this name & number when he became king of England in 1901\n",
      "151        This kingdom of England grew from 2 settlements, one founded around 495 by Cerdic & his son Cynric\n",
      "Name: Question, Length: 152, dtype: object\n"
     ]
    }
   ],
   "source": [
    "def filter_data(data, column, words, f_type='all'):\n",
    "    if f_type == 'all':\n",
    "        filter_words = lambda x, words: all(word.lower() in x.lower() for word in words)\n",
    "    else:\n",
    "        filter_words = lambda x, words: any(word.lower() in x.lower() for word in words)\n",
    "    filtered_data = data.loc[data[column].apply(filter_words, words=words)]\n",
    "    return filtered_data\n",
    "\n",
    "search_words = [\"King\", \"England\"]\n",
    "search_column = \"Question\"\n",
    "filtered_questions = filter_data(jeopardy_data, search_column, search_words)[search_column]\n",
    "filtered_questions.reset_index(drop=True, inplace=True)\n",
    "print('*'*10 + ' ' + \"Results\" + ' ' + '*'*10)\n",
    "print('\\n')\n",
    "print('Searched words: ' + str(search_words))\n",
    "print('\\n')\n",
    "print('Number of results found: ' + str(len(filtered_questions)))\n",
    "print('\\n')\n",
    "# print('Results found: ' + str(filtered_questions[search_column]))\n",
    "print('Results found: ' + '\\n' + str(filtered_questions))"
   ]
  },
  {
   "cell_type": "markdown",
   "metadata": {},
   "source": [
    "## Change Data Type \n",
    "Some of the columns contain numeric data. We want to know the average value of a selected group of questions."
   ]
  },
  {
   "cell_type": "code",
   "execution_count": 4,
   "metadata": {},
   "outputs": [
    {
     "name": "stdout",
     "output_type": "stream",
     "text": [
      "Average Value for all Questions: $739.99\n"
     ]
    }
   ],
   "source": [
    "jeopardy_data['FloatValue'] = jeopardy_data.Value.apply(lambda x: '0' if x == 'None' else x)\n",
    "jeopardy_data.FloatValue = jeopardy_data.FloatValue.replace('[\\$,]', '', regex=True)\n",
    "jeopardy_data.FloatValue = pd.to_numeric(jeopardy_data.FloatValue)\n",
    "print('Average Value for all Questions: $' + str(format(jeopardy_data.FloatValue.mean(), '.2f')))"
   ]
  },
  {
   "cell_type": "code",
   "execution_count": 5,
   "metadata": {},
   "outputs": [
    {
     "name": "stdout",
     "output_type": "stream",
     "text": [
      "Average Value for filtered Questions including ['King', 'England']: $886.84\n"
     ]
    }
   ],
   "source": [
    "search_words = [\"King\", \"England\"]\n",
    "search_column = \"Question\"\n",
    "filtered_data = filter_data(jeopardy_data, search_column, search_words)\n",
    "filtered_questions_mean = filtered_data.FloatValue.mean()\n",
    "print('Average Value for filtered Questions including ' + str(search_words) + ': $' + str(format(filtered_questions_mean, '.2f')))"
   ]
  },
  {
   "cell_type": "markdown",
   "metadata": {},
   "source": [
    "## Unique Answers\n",
    "We want to know how many times an answer repeats for a filtered set of questions."
   ]
  },
  {
   "cell_type": "code",
   "execution_count": 6,
   "metadata": {},
   "outputs": [
    {
     "name": "stdout",
     "output_type": "stream",
     "text": [
      "William the Conqueror                        6\n",
      "James I                                      3\n",
      "Edward                                       3\n",
      "Oliver Cromwell                              3\n",
      "Richard the Lionhearted                      3\n",
      "                                            ..\n",
      "King Hussein                                 1\n",
      "Georgian                                     1\n",
      "Battle of Hastings (which Harold II lost)    1\n",
      "Edward the Confessor                         1\n",
      "Le Mans                                      1\n",
      "Name: Answer, Length: 114, dtype: int64\n"
     ]
    }
   ],
   "source": [
    "search_words = [\"King\", \"England\"]\n",
    "search_column = \"Question\"\n",
    "filtered_data = filter_data(jeopardy_data, search_column, search_words)\n",
    "unique_answers = filtered_data.Answer.value_counts()\n",
    "print(unique_answers)"
   ]
  },
  {
   "cell_type": "markdown",
   "metadata": {},
   "source": [
    "## Analize some data\n",
    "How Data changes over time? We want to know how many times the word \"Computer\" appears for questions in the 90s vs 2000s shows."
   ]
  },
  {
   "cell_type": "code",
   "execution_count": 7,
   "metadata": {},
   "outputs": [
    {
     "name": "stdout",
     "output_type": "stream",
     "text": [
      "Number of 90s shows that mention ['Computer']: 98\n",
      "Number of 2000s shows that mention ['Computer']: 268\n"
     ]
    }
   ],
   "source": [
    "search_words = [\"Computer\"]\n",
    "search_column = \"Question\"\n",
    "filtered_data = filter_data(jeopardy_data, search_column, search_words)\n",
    "\n",
    "shows_years = filtered_data.AirDate.str.split('-').str.get(0)\n",
    "shows_years.reset_index(drop=True, inplace=True)\n",
    "shows_years = pd.to_numeric(shows_years)\n",
    "\n",
    "shows_90s = shows_years[(shows_years >= 1990) & (shows_years < 2000)]\n",
    "shows_2000s = shows_years[(shows_years >= 2000) & (shows_years < 2010)]\n",
    "\n",
    "print('Number of 90s shows that mention ' + str(search_words) + ': ' +str(shows_90s.value_counts().sum()))\n",
    "print('Number of 2000s shows that mention ' + str(search_words) + ': ' + str(shows_2000s.value_counts().sum()))"
   ]
  },
  {
   "cell_type": "code",
   "execution_count": null,
   "metadata": {},
   "outputs": [],
   "source": []
  }
 ],
 "metadata": {
  "kernelspec": {
   "display_name": "Python 3",
   "language": "python",
   "name": "python3"
  },
  "language_info": {
   "codemirror_mode": {
    "name": "ipython",
    "version": 3
   },
   "file_extension": ".py",
   "mimetype": "text/x-python",
   "name": "python",
   "nbconvert_exporter": "python",
   "pygments_lexer": "ipython3",
   "version": "3.8.5"
  }
 },
 "nbformat": 4,
 "nbformat_minor": 4
}
